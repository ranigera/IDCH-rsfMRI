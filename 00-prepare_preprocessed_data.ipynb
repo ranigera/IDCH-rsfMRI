{
 "cells": [
  {
   "cell_type": "markdown",
   "metadata": {},
   "source": [
    "- Just run all of it quickly when there are new subject to normalize the data and concatenate\n",
    "- By normalization here I mean to per voxel across its time series."
   ]
  },
  {
   "cell_type": "markdown",
   "metadata": {},
   "source": [
    "# Import stuff"
   ]
  },
  {
   "cell_type": "code",
   "execution_count": 1,
   "metadata": {},
   "outputs": [],
   "source": [
    "import os\n",
    "import numpy as np\n",
    "from scipy.stats import pearsonr\n",
    "import matplotlib.pyplot as plt\n",
    "import pandas as pd"
   ]
  },
  {
   "cell_type": "markdown",
   "metadata": {},
   "source": [
    "# Params"
   ]
  },
  {
   "cell_type": "code",
   "execution_count": 2,
   "metadata": {},
   "outputs": [],
   "source": [
    "#dirs:\n",
    "pre_proc_dir = 'data/pre_proc_data'\n",
    "rs_data_path_IDCH_sub_Nums = '/export/home/ranigera/IDCH-rsfMRI/data/pre_proc_data_IDCH_subNums'\n",
    "rs_data_path_IDCH_sub_Nums_normed = '/export/home/ranigera/IDCH-rsfMRI/data/pre_proc_data_IDCH_subNums_normed' # Here each voxel time series will be normed \n",
    "rs_data_path_IDCH_sub_Nums_normed_concat = '/export/home/ranigera/IDCH-rsfMRI/data/pre_proc_data_IDCH_subNums_normed_concat' # Here each voxel time series will be normed and concatenated\n",
    "\n",
    "# file_format:\n",
    "any_session_file_format = '_space-MNI152NLin6Asym_desc-smoothAROMAnonaggr_bold.nii.gz'\n",
    "\n",
    "# R01 to IDCH mapping:\n",
    "mapping_R01_to_IDCH = {'222': '101', '183': '102', '216': '103', '192': '104', '251': '105', '206': '106', '180': '107', '184': '108', '169': '109', '207': '110',\n",
    "                       '159': '111', '115': '112', '114': '113', '232': '114', '173': '115', '171': '117', '215': '118', '265': '119', '177': '120', '269': '121',\n",
    "                       '261': '122'}\n"
   ]
  },
  {
   "cell_type": "markdown",
   "metadata": {},
   "source": [
    "## Copy data to be with IDCH sub numbers (and extract the brain)"
   ]
  },
  {
   "cell_type": "code",
   "execution_count": 3,
   "metadata": {},
   "outputs": [],
   "source": [
    "# get all directories in the pre_proc_dir:\n",
    "r01_sub_dirs = [f for f in os.listdir(pre_proc_dir) if os.path.isdir(os.path.join(pre_proc_dir, f))]\n",
    "# iterate over all subjects:\n",
    "for dir in r01_sub_dirs:\n",
    "    sub_dir = os.path.join(pre_proc_dir, dir, 'func') \n",
    "    sub_R01_id = dir.split('Hab0')[1][:3] # get sub R01 id\n",
    "    sub_IDCH_id = mapping_R01_to_IDCH[sub_R01_id] # get sub IDCH id\n",
    "\n",
    "    # get subject's resting state:\n",
    "    rs_files = [f for f in os.listdir(sub_dir) if any_session_file_format in f]\n",
    "    for f in rs_files:\n",
    "        # get the session number:\n",
    "        session = f.split('rest_run-')[1][0]\n",
    "        new_file_name = f'sub-{sub_IDCH_id}_ses-{session}_rest_MNI152-smoothAROMAnonaggr_bold_brain.nii.gz'\n",
    "        # copy the file if not exists:\n",
    "        if not os.path.exists(os.path.join(rs_data_path_IDCH_sub_Nums, new_file_name)):\n",
    "            print(f'> Copying {f} to {new_file_name}')\n",
    "            # os.system(f'cp {os.path.join(sub_dir, f)} {os.path.join(rs_data_path_IDCH_sub_Nums, new_file_name)}')\n",
    "            os.system(f'fslmaths {os.path.join(sub_dir, f)} -mas $FSLDIR/data/standard/MNI152_T1_2mm_brain_mask.nii.gz {os.path.join(rs_data_path_IDCH_sub_Nums, new_file_name)}')\n",
    "        # write the file name to the input_files.txt file:\n"
   ]
  },
  {
   "cell_type": "markdown",
   "metadata": {},
   "source": [
    "# Normalized the data (per voxel across its time series)"
   ]
  },
  {
   "cell_type": "code",
   "execution_count": 4,
   "metadata": {},
   "outputs": [],
   "source": [
    "# If normed folder does not exist, create it:\n",
    "if not os.path.exists(rs_data_path_IDCH_sub_Nums_normed):\n",
    "    os.makedirs(rs_data_path_IDCH_sub_Nums_normed)\n",
    "\n",
    "# iterate over all subjects:\n",
    "file_list = os.listdir(rs_data_path_IDCH_sub_Nums)\n",
    "file_list.sort()\n",
    "for file in file_list:\n",
    "    subject = file.split('_')[0].split('-')[1]\n",
    "    session = file.split('ses-')[1][0]\n",
    "    ts_normed_file_name = f'sub-{subject}_ses-{session}_rest_MNI152-smoothAROMAnonaggr_bold_brain_normed.nii.gz'\n",
    "    if not os.path.exists(os.path.join(rs_data_path_IDCH_sub_Nums_normed, ts_normed_file_name)):\n",
    "        print(f'> Create a normalized version (per voxel across the time series) for {subject} session {session}')\n",
    "        # calculate the mean and std for each voxel:\n",
    "        temp_mean_file = os.path.join(rs_data_path_IDCH_sub_Nums_normed, f'{file.split(\".\")[0]}_mean.nii.gz')\n",
    "        temp_std_file = os.path.join(rs_data_path_IDCH_sub_Nums_normed, f'{file.split(\".\")[0]}_std.nii.gz')\n",
    "        os.system(f'fslmaths {os.path.join(rs_data_path_IDCH_sub_Nums, file)} -Tmean {temp_mean_file}')\n",
    "        os.system(f'fslmaths {os.path.join(rs_data_path_IDCH_sub_Nums, file)} -Tstd {temp_std_file}')\n",
    "        # normalize the time series:\n",
    "        os.system(f'fslmaths {os.path.join(rs_data_path_IDCH_sub_Nums, file)} -sub {temp_mean_file} -div {temp_std_file} {os.path.join(rs_data_path_IDCH_sub_Nums_normed, ts_normed_file_name)}')\n",
    "        # remove the temp files:\n",
    "        os.system(f'rm {temp_mean_file}')\n",
    "        os.system(f'rm {temp_std_file}')\n"
   ]
  },
  {
   "cell_type": "markdown",
   "metadata": {},
   "source": [
    "# Concatenate the normed ts data from the 2 sessions into one time series"
   ]
  },
  {
   "cell_type": "code",
   "execution_count": 5,
   "metadata": {},
   "outputs": [
    {
     "name": "stdout",
     "output_type": "stream",
     "text": [
      "merging data for sub-122\n"
     ]
    }
   ],
   "source": [
    "# if normed_concat folder does not exist, create it:\n",
    "if not os.path.exists(rs_data_path_IDCH_sub_Nums_normed_concat):\n",
    "    os.makedirs(rs_data_path_IDCH_sub_Nums_normed_concat)\n",
    "\n",
    "# get all directories in the root directory\n",
    "normed_sub_list = os.listdir(rs_data_path_IDCH_sub_Nums_normed)\n",
    "# get the unique subjects:\n",
    "normed_sub_list = list(set([x.split('_')[0] for x in normed_sub_list]))\n",
    "normed_sub_list.sort()\n",
    "\n",
    "for subj in normed_sub_list:\n",
    "    # get first rest session\n",
    "    first_rest_session_file = [f for f in os.listdir(rs_data_path_IDCH_sub_Nums_normed) if f'{subj}_ses-1' in f][0]\n",
    "    # get second rest session\n",
    "    second_rest_session_file = [f for f in os.listdir(rs_data_path_IDCH_sub_Nums_normed) if f'{subj}_ses-2' in f][0]\n",
    "\n",
    "    # concatenate session using fslmerge:\n",
    "    # fslmerge -t <output_file> <input_files>\n",
    "    if os.path.exists(os.path.join(rs_data_path_IDCH_sub_Nums_normed_concat, f\"{subj}_IDCH_id_rs_normed_concat.nii.gz\")):\n",
    "        continue\n",
    "    print(f'merging data for {subj}')\n",
    "    os.system(f'fslmerge -t {os.path.join(rs_data_path_IDCH_sub_Nums_normed_concat, f\"{subj}_IDCH_id_rs_normed_concat.nii.gz\")} {os.path.join(rs_data_path_IDCH_sub_Nums_normed, first_rest_session_file)} {os.path.join(rs_data_path_IDCH_sub_Nums_normed, second_rest_session_file)}')\n"
   ]
  }
 ],
 "metadata": {
  "kernelspec": {
   "display_name": "Python 3",
   "language": "python",
   "name": "python3"
  },
  "language_info": {
   "codemirror_mode": {
    "name": "ipython",
    "version": 3
   },
   "file_extension": ".py",
   "mimetype": "text/x-python",
   "name": "python",
   "nbconvert_exporter": "python",
   "pygments_lexer": "ipython3",
   "version": "3.12.4"
  }
 },
 "nbformat": 4,
 "nbformat_minor": 2
}
