{
 "cells": [
  {
   "cell_type": "code",
   "execution_count": 4,
   "metadata": {},
   "outputs": [],
   "source": [
    "import shutil\n",
    "import os"
   ]
  },
  {
   "cell_type": "markdown",
   "metadata": {},
   "source": [
    "# Params"
   ]
  },
  {
   "cell_type": "code",
   "execution_count": 5,
   "metadata": {},
   "outputs": [],
   "source": [
    "# List of subject IDs\n",
    "subject_ids = [\n",
    "    \"265\", \"269\"\n",
    "]\n",
    "\n",
    "# Base paths\n",
    "source_base_path = \"/home/schu/fmriprep_preproc_schu/MBMF_rsfmri/derivatives/fmriprep/to_copy_2/\" # this is Stephanie out put of fMRIprep with Aroma (not aggresive) and smoothing\n",
    "destination_base_path = \"/home/ranigera/IDCH-rsfMRI/data/pre_proc_data/\"\n"
   ]
  },
  {
   "cell_type": "code",
   "execution_count": 9,
   "metadata": {},
   "outputs": [
    {
     "name": "stdout",
     "output_type": "stream",
     "text": [
      "Number of subjects in pre_proc_data:  21\n"
     ]
    }
   ],
   "source": [
    "# proint number of rs-fMRI folder (# subjects)\n",
    "pre_proc_folders = os.listdir(destination_base_path)\n",
    "pre_proc_folders = [folder for folder in pre_proc_folders if folder.startswith(\"sub-\")]\n",
    "print(\"Number of subjects in pre_proc_data: \", len(pre_proc_folders))"
   ]
  },
  {
   "cell_type": "code",
   "execution_count": 4,
   "metadata": {},
   "outputs": [
    {
     "name": "stdout",
     "output_type": "stream",
     "text": [
      "Source folder /home/schu/fmriprep_preproc_schu/MBMF_rsfmri/derivatives/fmriprep/to_copy_2/sub-JODMBMFHab026501 does not exist, skipping.\n",
      "Copied /home/schu/fmriprep_preproc_schu/MBMF_rsfmri/derivatives/fmriprep/to_copy_2/sub-JODMBMFHab026502 to /home/ranigera/R01-rsfMRI/pre_proc_data/sub-JODMBMFHab026502\n",
      "Copied /home/schu/fmriprep_preproc_schu/MBMF_rsfmri/derivatives/fmriprep/to_copy_2/sub-JODMBMFHab026901 to /home/ranigera/R01-rsfMRI/pre_proc_data/sub-JODMBMFHab026901\n",
      "Source folder /home/schu/fmriprep_preproc_schu/MBMF_rsfmri/derivatives/fmriprep/to_copy_2/sub-JODMBMFHab026902 does not exist, skipping.\n"
     ]
    }
   ],
   "source": [
    "# Function to copy files\n",
    "def copy_subject_files(sub_id):\n",
    "    for suffix in ['01', '02']:\n",
    "        source_folder = f\"{source_base_path}sub-JODMBMFHab0{sub_id}{suffix}\"\n",
    "        destination_folder = os.path.join(destination_base_path, f\"sub-JODMBMFHab0{sub_id}{suffix}\")\n",
    "        \n",
    "        # Check if source folder exists to avoid errors\n",
    "        if os.path.exists(source_folder):\n",
    "            shutil.copytree(source_folder, destination_folder)\n",
    "            print(f\"Copied {source_folder} to {destination_folder}\")\n",
    "        else:\n",
    "            print(f\"Source folder {source_folder} does not exist, skipping.\")\n",
    "\n",
    "# Copy the files for each subject\n",
    "for sub_id in subject_ids:\n",
    "    copy_subject_files(sub_id)\n"
   ]
  },
  {
   "cell_type": "code",
   "execution_count": null,
   "metadata": {},
   "outputs": [],
   "source": []
  }
 ],
 "metadata": {
  "kernelspec": {
   "display_name": "Python 3",
   "language": "python",
   "name": "python3"
  },
  "language_info": {
   "codemirror_mode": {
    "name": "ipython",
    "version": 3
   },
   "file_extension": ".py",
   "mimetype": "text/x-python",
   "name": "python",
   "nbconvert_exporter": "python",
   "pygments_lexer": "ipython3",
   "version": "3.11.4"
  }
 },
 "nbformat": 4,
 "nbformat_minor": 2
}
