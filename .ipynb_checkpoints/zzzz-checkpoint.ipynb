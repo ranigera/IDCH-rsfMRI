{
 "cells": [
  {
   "cell_type": "code",
   "execution_count": 2,
   "metadata": {},
   "outputs": [
    {
     "name": "stdout",
     "output_type": "stream",
     "text": [
      "www\n"
     ]
    }
   ],
   "source": [
    "print('www')\n"
   ]
  },
  {
   "cell_type": "code",
   "execution_count": 3,
   "metadata": {},
   "outputs": [
    {
     "name": "stdout",
     "output_type": "stream",
     "text": [
      "copy_rs_data.ipynb                              \u001b[0m\u001b[38;5;27mnot_in_use\u001b[0m/\n",
      "\u001b[38;5;27mdata\u001b[0m/                                           run_group_ICA.ipynb\n",
      "Functional Connectivity NOT concatenated.ipynb  test.py\n",
      "IDCH-Multiple_Metrics.ipynb                     \u001b[38;5;27mvenv_clean\u001b[0m/\n",
      "\u001b[38;5;27minfo\u001b[0m/                                           zzzz.ipynb\n",
      "\u001b[38;5;27mmasks\u001b[0m/\n"
     ]
    }
   ],
   "source": [
    "ls"
   ]
  },
  {
   "cell_type": "code",
   "execution_count": null,
   "metadata": {},
   "outputs": [],
   "source": []
  }
 ],
 "metadata": {
  "kernelspec": {
   "display_name": "Python 3 (ipykernel)",
   "language": "python",
   "name": "python3"
  },
  "language_info": {
   "codemirror_mode": {
    "name": "ipython",
    "version": 3
   },
   "file_extension": ".py",
   "mimetype": "text/x-python",
   "name": "python",
   "nbconvert_exporter": "python",
   "pygments_lexer": "ipython3",
   "version": "3.12.4"
  }
 },
 "nbformat": 4,
 "nbformat_minor": 4
}
