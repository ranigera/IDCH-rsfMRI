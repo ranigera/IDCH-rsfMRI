{
 "cells": [
  {
   "cell_type": "markdown",
   "metadata": {},
   "source": [
    "# MEAN CENTER BEHAVIOR!\n",
    "# Have to rerun everything when i have more subjects - as the group ICA needs to be re-estimated and then all that comes afterwards (which is essentially everything)\n",
    "\n",
    "For future self:\n",
    "* don't use the _Z files in .dr folders. Less recommended in my understanding. \n",
    "\n",
    "\n",
    "* to install packages and maybe run some stuff in the terminal I might need sometimes to run: conda activate myenv\n"
   ]
  },
  {
   "cell_type": "markdown",
   "metadata": {},
   "source": [
    "# Import stuff + params"
   ]
  },
  {
   "cell_type": "code",
   "execution_count": 47,
   "metadata": {},
   "outputs": [],
   "source": [
    "import os\n",
    "import numpy as np\n",
    "import glob\n",
    "\n",
    "# need to set up to run fsl.\n",
    "os.environ['FSLDIR'] = '/export/home/ranigera/fsl'\n",
    "os.environ['PATH'] += ':/export/home/ranigera/fsl/bin'\n",
    "\n",
    "group_ICA_path = '/export/home/ranigera/IDCH-rsfMRI/data/group_ICA'\n",
    "rs_data_path = '/export/home/ranigera/IDCH-rsfMRI/data/pre_proc_data'\n",
    "rs_data_path_IDCH_sub_Nums = '/export/home/ranigera/IDCH-rsfMRI/data/pre_proc_data_IDCH_subNums'\n",
    "\n",
    "input_files_file_name = 'input_files.txt'\n",
    "input_files_txt_path = os.path.join(group_ICA_path, input_files_file_name)\n",
    "n_ICs = 50 # number of independent components\n",
    "TR = 0.70 # repetition time in seconds\n",
    "\n",
    "# (original) file_format:\n",
    "any_session_file_format = '_space-MNI152NLin6Asym_desc-smoothAROMAnonaggr_bold.nii.gz'\n",
    "stage2_ic_file_prefix = 'dr_stage2_ic' # move to params\n",
    "\n",
    "# R01 to IDCH mapping:\n",
    "mapping_R01_to_IDCH = {'222': '101', '183': '102', '216': '103', '192': '104', '251': '105', '206': '106', '180': '107', '184': '108', '169': '109', '207': '110',\n",
    "                       '159': '111', '115': '112', '114': '113', '232': '114', '173': '115', '171': '117', '215': '118', '265': '119', '177': '120', '269': '121',\n",
    "                       '261': '122'}\n"
   ]
  },
  {
   "cell_type": "markdown",
   "metadata": {},
   "source": [
    "# Preperation"
   ]
  },
  {
   "cell_type": "markdown",
   "metadata": {},
   "source": [
    "## Copy data to be with IDCH sub numbers (and extract the brain)"
   ]
  },
  {
   "cell_type": "code",
   "execution_count": 3,
   "metadata": {},
   "outputs": [],
   "source": [
    "# get all directories in the rs_data_path:\n",
    "r01_sub_dirs = [f for f in os.listdir(rs_data_path) if os.path.isdir(os.path.join(rs_data_path, f))]\n",
    "# iterate over all subjects:\n",
    "for dir in r01_sub_dirs:\n",
    "    sub_dir = os.path.join(rs_data_path, dir, 'func') \n",
    "    sub_R01_id = dir.split('Hab0')[1][:3] # get sub R01 id\n",
    "    sub_IDCH_id = mapping_R01_to_IDCH[sub_R01_id] # get sub IDCH id\n",
    "\n",
    "    # get subject's resting state:\n",
    "    rs_files = [f for f in os.listdir(sub_dir) if any_session_file_format in f]\n",
    "    for f in rs_files:\n",
    "        # get the session number:\n",
    "        session = f.split('rest_run-')[1][0]\n",
    "        new_file_name = f'sub-{sub_IDCH_id}_ses-{session}_rest_MNI152-smoothAROMAnonaggr_bold_brain.nii.gz'\n",
    "        # copy the file if not exists:\n",
    "        if not os.path.exists(os.path.join(rs_data_path_IDCH_sub_Nums, new_file_name)):\n",
    "            print(f'> Copying {f} to {new_file_name}')\n",
    "            # os.system(f'cp {os.path.join(sub_dir, f)} {os.path.join(rs_data_path_IDCH_sub_Nums, new_file_name)}')\n",
    "            os.system(f'fslmaths {os.path.join(sub_dir, f)} -mas $FSLDIR/data/standard/MNI152_T1_2mm_brain_mask.nii.gz {os.path.join(rs_data_path_IDCH_sub_Nums, new_file_name)}')\n",
    "        # write the file name to the input_files.txt file:\n"
   ]
  },
  {
   "cell_type": "markdown",
   "metadata": {},
   "source": [
    "## Create input_files.txt file needed for the group ICA"
   ]
  },
  {
   "cell_type": "code",
   "execution_count": 4,
   "metadata": {},
   "outputs": [
    {
     "name": "stdout",
     "output_type": "stream",
     "text": [
      "Number of files: 42\n"
     ]
    },
    {
     "data": {
      "text/plain": [
       "['/export/home/ranigera/IDCH-rsfMRI/data/pre_proc_data_IDCH_subNums/sub-101_ses-1_rest_MNI152-smoothAROMAnonaggr_bold_brain.nii.gz',\n",
       " '/export/home/ranigera/IDCH-rsfMRI/data/pre_proc_data_IDCH_subNums/sub-101_ses-2_rest_MNI152-smoothAROMAnonaggr_bold_brain.nii.gz',\n",
       " '/export/home/ranigera/IDCH-rsfMRI/data/pre_proc_data_IDCH_subNums/sub-102_ses-1_rest_MNI152-smoothAROMAnonaggr_bold_brain.nii.gz',\n",
       " '/export/home/ranigera/IDCH-rsfMRI/data/pre_proc_data_IDCH_subNums/sub-102_ses-2_rest_MNI152-smoothAROMAnonaggr_bold_brain.nii.gz',\n",
       " '/export/home/ranigera/IDCH-rsfMRI/data/pre_proc_data_IDCH_subNums/sub-103_ses-1_rest_MNI152-smoothAROMAnonaggr_bold_brain.nii.gz',\n",
       " '/export/home/ranigera/IDCH-rsfMRI/data/pre_proc_data_IDCH_subNums/sub-103_ses-2_rest_MNI152-smoothAROMAnonaggr_bold_brain.nii.gz',\n",
       " '/export/home/ranigera/IDCH-rsfMRI/data/pre_proc_data_IDCH_subNums/sub-104_ses-1_rest_MNI152-smoothAROMAnonaggr_bold_brain.nii.gz',\n",
       " '/export/home/ranigera/IDCH-rsfMRI/data/pre_proc_data_IDCH_subNums/sub-104_ses-2_rest_MNI152-smoothAROMAnonaggr_bold_brain.nii.gz',\n",
       " '/export/home/ranigera/IDCH-rsfMRI/data/pre_proc_data_IDCH_subNums/sub-105_ses-1_rest_MNI152-smoothAROMAnonaggr_bold_brain.nii.gz',\n",
       " '/export/home/ranigera/IDCH-rsfMRI/data/pre_proc_data_IDCH_subNums/sub-105_ses-2_rest_MNI152-smoothAROMAnonaggr_bold_brain.nii.gz',\n",
       " '/export/home/ranigera/IDCH-rsfMRI/data/pre_proc_data_IDCH_subNums/sub-106_ses-1_rest_MNI152-smoothAROMAnonaggr_bold_brain.nii.gz',\n",
       " '/export/home/ranigera/IDCH-rsfMRI/data/pre_proc_data_IDCH_subNums/sub-106_ses-2_rest_MNI152-smoothAROMAnonaggr_bold_brain.nii.gz',\n",
       " '/export/home/ranigera/IDCH-rsfMRI/data/pre_proc_data_IDCH_subNums/sub-107_ses-1_rest_MNI152-smoothAROMAnonaggr_bold_brain.nii.gz',\n",
       " '/export/home/ranigera/IDCH-rsfMRI/data/pre_proc_data_IDCH_subNums/sub-107_ses-2_rest_MNI152-smoothAROMAnonaggr_bold_brain.nii.gz',\n",
       " '/export/home/ranigera/IDCH-rsfMRI/data/pre_proc_data_IDCH_subNums/sub-108_ses-1_rest_MNI152-smoothAROMAnonaggr_bold_brain.nii.gz',\n",
       " '/export/home/ranigera/IDCH-rsfMRI/data/pre_proc_data_IDCH_subNums/sub-108_ses-2_rest_MNI152-smoothAROMAnonaggr_bold_brain.nii.gz',\n",
       " '/export/home/ranigera/IDCH-rsfMRI/data/pre_proc_data_IDCH_subNums/sub-109_ses-1_rest_MNI152-smoothAROMAnonaggr_bold_brain.nii.gz',\n",
       " '/export/home/ranigera/IDCH-rsfMRI/data/pre_proc_data_IDCH_subNums/sub-109_ses-2_rest_MNI152-smoothAROMAnonaggr_bold_brain.nii.gz',\n",
       " '/export/home/ranigera/IDCH-rsfMRI/data/pre_proc_data_IDCH_subNums/sub-110_ses-1_rest_MNI152-smoothAROMAnonaggr_bold_brain.nii.gz',\n",
       " '/export/home/ranigera/IDCH-rsfMRI/data/pre_proc_data_IDCH_subNums/sub-110_ses-2_rest_MNI152-smoothAROMAnonaggr_bold_brain.nii.gz',\n",
       " '/export/home/ranigera/IDCH-rsfMRI/data/pre_proc_data_IDCH_subNums/sub-111_ses-1_rest_MNI152-smoothAROMAnonaggr_bold_brain.nii.gz',\n",
       " '/export/home/ranigera/IDCH-rsfMRI/data/pre_proc_data_IDCH_subNums/sub-111_ses-2_rest_MNI152-smoothAROMAnonaggr_bold_brain.nii.gz',\n",
       " '/export/home/ranigera/IDCH-rsfMRI/data/pre_proc_data_IDCH_subNums/sub-112_ses-1_rest_MNI152-smoothAROMAnonaggr_bold_brain.nii.gz',\n",
       " '/export/home/ranigera/IDCH-rsfMRI/data/pre_proc_data_IDCH_subNums/sub-112_ses-2_rest_MNI152-smoothAROMAnonaggr_bold_brain.nii.gz',\n",
       " '/export/home/ranigera/IDCH-rsfMRI/data/pre_proc_data_IDCH_subNums/sub-113_ses-1_rest_MNI152-smoothAROMAnonaggr_bold_brain.nii.gz',\n",
       " '/export/home/ranigera/IDCH-rsfMRI/data/pre_proc_data_IDCH_subNums/sub-113_ses-2_rest_MNI152-smoothAROMAnonaggr_bold_brain.nii.gz',\n",
       " '/export/home/ranigera/IDCH-rsfMRI/data/pre_proc_data_IDCH_subNums/sub-114_ses-1_rest_MNI152-smoothAROMAnonaggr_bold_brain.nii.gz',\n",
       " '/export/home/ranigera/IDCH-rsfMRI/data/pre_proc_data_IDCH_subNums/sub-114_ses-2_rest_MNI152-smoothAROMAnonaggr_bold_brain.nii.gz',\n",
       " '/export/home/ranigera/IDCH-rsfMRI/data/pre_proc_data_IDCH_subNums/sub-115_ses-1_rest_MNI152-smoothAROMAnonaggr_bold_brain.nii.gz',\n",
       " '/export/home/ranigera/IDCH-rsfMRI/data/pre_proc_data_IDCH_subNums/sub-115_ses-2_rest_MNI152-smoothAROMAnonaggr_bold_brain.nii.gz',\n",
       " '/export/home/ranigera/IDCH-rsfMRI/data/pre_proc_data_IDCH_subNums/sub-117_ses-1_rest_MNI152-smoothAROMAnonaggr_bold_brain.nii.gz',\n",
       " '/export/home/ranigera/IDCH-rsfMRI/data/pre_proc_data_IDCH_subNums/sub-117_ses-2_rest_MNI152-smoothAROMAnonaggr_bold_brain.nii.gz',\n",
       " '/export/home/ranigera/IDCH-rsfMRI/data/pre_proc_data_IDCH_subNums/sub-118_ses-1_rest_MNI152-smoothAROMAnonaggr_bold_brain.nii.gz',\n",
       " '/export/home/ranigera/IDCH-rsfMRI/data/pre_proc_data_IDCH_subNums/sub-118_ses-2_rest_MNI152-smoothAROMAnonaggr_bold_brain.nii.gz',\n",
       " '/export/home/ranigera/IDCH-rsfMRI/data/pre_proc_data_IDCH_subNums/sub-119_ses-1_rest_MNI152-smoothAROMAnonaggr_bold_brain.nii.gz',\n",
       " '/export/home/ranigera/IDCH-rsfMRI/data/pre_proc_data_IDCH_subNums/sub-119_ses-2_rest_MNI152-smoothAROMAnonaggr_bold_brain.nii.gz',\n",
       " '/export/home/ranigera/IDCH-rsfMRI/data/pre_proc_data_IDCH_subNums/sub-120_ses-1_rest_MNI152-smoothAROMAnonaggr_bold_brain.nii.gz',\n",
       " '/export/home/ranigera/IDCH-rsfMRI/data/pre_proc_data_IDCH_subNums/sub-120_ses-2_rest_MNI152-smoothAROMAnonaggr_bold_brain.nii.gz',\n",
       " '/export/home/ranigera/IDCH-rsfMRI/data/pre_proc_data_IDCH_subNums/sub-121_ses-1_rest_MNI152-smoothAROMAnonaggr_bold_brain.nii.gz',\n",
       " '/export/home/ranigera/IDCH-rsfMRI/data/pre_proc_data_IDCH_subNums/sub-121_ses-2_rest_MNI152-smoothAROMAnonaggr_bold_brain.nii.gz',\n",
       " '/export/home/ranigera/IDCH-rsfMRI/data/pre_proc_data_IDCH_subNums/sub-122_ses-1_rest_MNI152-smoothAROMAnonaggr_bold_brain.nii.gz',\n",
       " '/export/home/ranigera/IDCH-rsfMRI/data/pre_proc_data_IDCH_subNums/sub-122_ses-2_rest_MNI152-smoothAROMAnonaggr_bold_brain.nii.gz']"
      ]
     },
     "execution_count": 4,
     "metadata": {},
     "output_type": "execute_result"
    }
   ],
   "source": [
    "# list all files in all subdirectories of rs_data_path_IDCH_sub_Nums\n",
    "rs_data_files = []\n",
    "for root, dirs, files in os.walk(rs_data_path_IDCH_sub_Nums):\n",
    "    for file in files:\n",
    "        if file.endswith('.nii.gz'):\n",
    "            rs_data_files.append(os.path.join(root, file))\n",
    "print('Number of files:', len(rs_data_files))\n",
    "rs_data_files.sort()\n",
    "\n",
    "with open(input_files_txt_path, 'w') as f:\n",
    "    for file in rs_data_files:\n",
    "        f.write(file + '\\n')\n",
    "rs_data_files"
   ]
  },
  {
   "cell_type": "markdown",
   "metadata": {},
   "source": [
    "# Run group ICA (creates commad)"
   ]
  },
  {
   "cell_type": "code",
   "execution_count": 5,
   "metadata": {},
   "outputs": [
    {
     "name": "stdout",
     "output_type": "stream",
     "text": [
      "melodic -i /export/home/ranigera/IDCH-rsfMRI/data/group_ICA/input_files.txt -o /export/home/ranigera/IDCH-rsfMRI/data/group_ICA/groupICA50 --tr=0.70 --nobet -a concat --bgimage=$FSLDIR/data/standard/MNI152_T1_2mm_brain.nii.gz -m $FSLDIR/data/standard/MNI152_T1_2mm_brain_mask.nii.gz --report --Oall -d 50\n",
      "melodic -i /export/home/ranigera/IDCH-rsfMRI/data/group_ICA/input_files.txt -o /export/home/ranigera/IDCH-rsfMRI/data/group_ICA/groupICA40 --tr=0.70 --nobet -a concat --bgimage=$FSLDIR/data/standard/MNI152_T1_2mm_brain.nii.gz -m $FSLDIR/data/standard/MNI152_T1_2mm_brain_mask.nii.gz --report --Oall -d 40\n",
      "melodic -i /export/home/ranigera/IDCH-rsfMRI/data/group_ICA/input_files.txt -o /export/home/ranigera/IDCH-rsfMRI/data/group_ICA/groupICA30 --tr=0.70 --nobet -a concat --bgimage=$FSLDIR/data/standard/MNI152_T1_2mm_brain.nii.gz -m $FSLDIR/data/standard/MNI152_T1_2mm_brain_mask.nii.gz --report --Oall -d 30\n",
      "melodic -i /export/home/ranigera/IDCH-rsfMRI/data/group_ICA/input_files.txt -o /export/home/ranigera/IDCH-rsfMRI/data/group_ICA/groupICA20 --tr=0.70 --nobet -a concat --bgimage=$FSLDIR/data/standard/MNI152_T1_2mm_brain.nii.gz -m $FSLDIR/data/standard/MNI152_T1_2mm_brain_mask.nii.gz --report --Oall -d 20\n"
     ]
    }
   ],
   "source": [
    "n_ICs=50 # number of independent components\n",
    "print(f'melodic -i {input_files_txt_path} -o {group_ICA_path}/groupICA{n_ICs} --tr=0.70 --nobet -a concat --bgimage=$FSLDIR/data/standard/MNI152_T1_2mm_brain.nii.gz -m $FSLDIR/data/standard/MNI152_T1_2mm_brain_mask.nii.gz --report --Oall -d {n_ICs}')\n",
    "n_ICs=40\n",
    "print(f'melodic -i {input_files_txt_path} -o {group_ICA_path}/groupICA{n_ICs} --tr=0.70 --nobet -a concat --bgimage=$FSLDIR/data/standard/MNI152_T1_2mm_brain.nii.gz -m $FSLDIR/data/standard/MNI152_T1_2mm_brain_mask.nii.gz --report --Oall -d {n_ICs}')\n",
    "n_ICs=30\n",
    "print(f'melodic -i {input_files_txt_path} -o {group_ICA_path}/groupICA{n_ICs} --tr=0.70 --nobet -a concat --bgimage=$FSLDIR/data/standard/MNI152_T1_2mm_brain.nii.gz -m $FSLDIR/data/standard/MNI152_T1_2mm_brain_mask.nii.gz --report --Oall -d {n_ICs}')\n",
    "n_ICs=20\n",
    "print(f'melodic -i {input_files_txt_path} -o {group_ICA_path}/groupICA{n_ICs} --tr=0.70 --nobet -a concat --bgimage=$FSLDIR/data/standard/MNI152_T1_2mm_brain.nii.gz -m $FSLDIR/data/standard/MNI152_T1_2mm_brain_mask.nii.gz --report --Oall -d {n_ICs}')\n",
    "# Determine # of components automatically (tend to create a LOT of components):\n",
    "# print(f'melodic -i {input_files_txt_path} -o {group_ICA_path}/groupICA{\"auto_n_ICs\"} --tr=0.70 --nobet -a concat --bgimage=$FSLDIR/data/standard/MNI152_T1_2mm_brain.nii.gz -m $FSLDIR/data/standard/MNI152_T1_2mm_brain_mask.nii.gz --report --Oall')\n"
   ]
  },
  {
   "cell_type": "markdown",
   "metadata": {},
   "source": [
    "# Run dual regression (creates command)\n",
    "\n",
    "* This is dual regression without the 3rd step of group analysis. This is done separately later)"
   ]
  },
  {
   "cell_type": "code",
   "execution_count": 6,
   "metadata": {},
   "outputs": [
    {
     "name": "stdout",
     "output_type": "stream",
     "text": [
      "dual_regression /export/home/ranigera/IDCH-rsfMRI/data/group_ICA/groupICA20/melodic_IC 1       -1 0       /export/home/ranigera/IDCH-rsfMRI/data/group_ICA/groupICA20.dr /export/home/ranigera/IDCH-rsfMRI/data/pre_proc_data_IDCH_subNums/sub-101_ses-1_rest_MNI152-smoothAROMAnonaggr_bold_brain.nii.gz /export/home/ranigera/IDCH-rsfMRI/data/pre_proc_data_IDCH_subNums/sub-101_ses-2_rest_MNI152-smoothAROMAnonaggr_bold_brain.nii.gz /export/home/ranigera/IDCH-rsfMRI/data/pre_proc_data_IDCH_subNums/sub-102_ses-1_rest_MNI152-smoothAROMAnonaggr_bold_brain.nii.gz /export/home/ranigera/IDCH-rsfMRI/data/pre_proc_data_IDCH_subNums/sub-102_ses-2_rest_MNI152-smoothAROMAnonaggr_bold_brain.nii.gz /export/home/ranigera/IDCH-rsfMRI/data/pre_proc_data_IDCH_subNums/sub-103_ses-1_rest_MNI152-smoothAROMAnonaggr_bold_brain.nii.gz /export/home/ranigera/IDCH-rsfMRI/data/pre_proc_data_IDCH_subNums/sub-103_ses-2_rest_MNI152-smoothAROMAnonaggr_bold_brain.nii.gz /export/home/ranigera/IDCH-rsfMRI/data/pre_proc_data_IDCH_subNums/sub-104_ses-1_rest_MNI152-smoothAROMAnonaggr_bold_brain.nii.gz /export/home/ranigera/IDCH-rsfMRI/data/pre_proc_data_IDCH_subNums/sub-104_ses-2_rest_MNI152-smoothAROMAnonaggr_bold_brain.nii.gz /export/home/ranigera/IDCH-rsfMRI/data/pre_proc_data_IDCH_subNums/sub-105_ses-1_rest_MNI152-smoothAROMAnonaggr_bold_brain.nii.gz /export/home/ranigera/IDCH-rsfMRI/data/pre_proc_data_IDCH_subNums/sub-105_ses-2_rest_MNI152-smoothAROMAnonaggr_bold_brain.nii.gz /export/home/ranigera/IDCH-rsfMRI/data/pre_proc_data_IDCH_subNums/sub-106_ses-1_rest_MNI152-smoothAROMAnonaggr_bold_brain.nii.gz /export/home/ranigera/IDCH-rsfMRI/data/pre_proc_data_IDCH_subNums/sub-106_ses-2_rest_MNI152-smoothAROMAnonaggr_bold_brain.nii.gz /export/home/ranigera/IDCH-rsfMRI/data/pre_proc_data_IDCH_subNums/sub-107_ses-1_rest_MNI152-smoothAROMAnonaggr_bold_brain.nii.gz /export/home/ranigera/IDCH-rsfMRI/data/pre_proc_data_IDCH_subNums/sub-107_ses-2_rest_MNI152-smoothAROMAnonaggr_bold_brain.nii.gz /export/home/ranigera/IDCH-rsfMRI/data/pre_proc_data_IDCH_subNums/sub-108_ses-1_rest_MNI152-smoothAROMAnonaggr_bold_brain.nii.gz /export/home/ranigera/IDCH-rsfMRI/data/pre_proc_data_IDCH_subNums/sub-108_ses-2_rest_MNI152-smoothAROMAnonaggr_bold_brain.nii.gz /export/home/ranigera/IDCH-rsfMRI/data/pre_proc_data_IDCH_subNums/sub-109_ses-1_rest_MNI152-smoothAROMAnonaggr_bold_brain.nii.gz /export/home/ranigera/IDCH-rsfMRI/data/pre_proc_data_IDCH_subNums/sub-109_ses-2_rest_MNI152-smoothAROMAnonaggr_bold_brain.nii.gz /export/home/ranigera/IDCH-rsfMRI/data/pre_proc_data_IDCH_subNums/sub-110_ses-1_rest_MNI152-smoothAROMAnonaggr_bold_brain.nii.gz /export/home/ranigera/IDCH-rsfMRI/data/pre_proc_data_IDCH_subNums/sub-110_ses-2_rest_MNI152-smoothAROMAnonaggr_bold_brain.nii.gz /export/home/ranigera/IDCH-rsfMRI/data/pre_proc_data_IDCH_subNums/sub-111_ses-1_rest_MNI152-smoothAROMAnonaggr_bold_brain.nii.gz /export/home/ranigera/IDCH-rsfMRI/data/pre_proc_data_IDCH_subNums/sub-111_ses-2_rest_MNI152-smoothAROMAnonaggr_bold_brain.nii.gz /export/home/ranigera/IDCH-rsfMRI/data/pre_proc_data_IDCH_subNums/sub-112_ses-1_rest_MNI152-smoothAROMAnonaggr_bold_brain.nii.gz /export/home/ranigera/IDCH-rsfMRI/data/pre_proc_data_IDCH_subNums/sub-112_ses-2_rest_MNI152-smoothAROMAnonaggr_bold_brain.nii.gz /export/home/ranigera/IDCH-rsfMRI/data/pre_proc_data_IDCH_subNums/sub-113_ses-1_rest_MNI152-smoothAROMAnonaggr_bold_brain.nii.gz /export/home/ranigera/IDCH-rsfMRI/data/pre_proc_data_IDCH_subNums/sub-113_ses-2_rest_MNI152-smoothAROMAnonaggr_bold_brain.nii.gz /export/home/ranigera/IDCH-rsfMRI/data/pre_proc_data_IDCH_subNums/sub-114_ses-1_rest_MNI152-smoothAROMAnonaggr_bold_brain.nii.gz /export/home/ranigera/IDCH-rsfMRI/data/pre_proc_data_IDCH_subNums/sub-114_ses-2_rest_MNI152-smoothAROMAnonaggr_bold_brain.nii.gz /export/home/ranigera/IDCH-rsfMRI/data/pre_proc_data_IDCH_subNums/sub-115_ses-1_rest_MNI152-smoothAROMAnonaggr_bold_brain.nii.gz /export/home/ranigera/IDCH-rsfMRI/data/pre_proc_data_IDCH_subNums/sub-115_ses-2_rest_MNI152-smoothAROMAnonaggr_bold_brain.nii.gz /export/home/ranigera/IDCH-rsfMRI/data/pre_proc_data_IDCH_subNums/sub-117_ses-1_rest_MNI152-smoothAROMAnonaggr_bold_brain.nii.gz /export/home/ranigera/IDCH-rsfMRI/data/pre_proc_data_IDCH_subNums/sub-117_ses-2_rest_MNI152-smoothAROMAnonaggr_bold_brain.nii.gz /export/home/ranigera/IDCH-rsfMRI/data/pre_proc_data_IDCH_subNums/sub-118_ses-1_rest_MNI152-smoothAROMAnonaggr_bold_brain.nii.gz /export/home/ranigera/IDCH-rsfMRI/data/pre_proc_data_IDCH_subNums/sub-118_ses-2_rest_MNI152-smoothAROMAnonaggr_bold_brain.nii.gz /export/home/ranigera/IDCH-rsfMRI/data/pre_proc_data_IDCH_subNums/sub-119_ses-1_rest_MNI152-smoothAROMAnonaggr_bold_brain.nii.gz /export/home/ranigera/IDCH-rsfMRI/data/pre_proc_data_IDCH_subNums/sub-119_ses-2_rest_MNI152-smoothAROMAnonaggr_bold_brain.nii.gz /export/home/ranigera/IDCH-rsfMRI/data/pre_proc_data_IDCH_subNums/sub-120_ses-1_rest_MNI152-smoothAROMAnonaggr_bold_brain.nii.gz /export/home/ranigera/IDCH-rsfMRI/data/pre_proc_data_IDCH_subNums/sub-120_ses-2_rest_MNI152-smoothAROMAnonaggr_bold_brain.nii.gz /export/home/ranigera/IDCH-rsfMRI/data/pre_proc_data_IDCH_subNums/sub-121_ses-1_rest_MNI152-smoothAROMAnonaggr_bold_brain.nii.gz /export/home/ranigera/IDCH-rsfMRI/data/pre_proc_data_IDCH_subNums/sub-121_ses-2_rest_MNI152-smoothAROMAnonaggr_bold_brain.nii.gz /export/home/ranigera/IDCH-rsfMRI/data/pre_proc_data_IDCH_subNums/sub-122_ses-1_rest_MNI152-smoothAROMAnonaggr_bold_brain.nii.gz /export/home/ranigera/IDCH-rsfMRI/data/pre_proc_data_IDCH_subNums/sub-122_ses-2_rest_MNI152-smoothAROMAnonaggr_bold_brain.nii.gz\n"
     ]
    }
   ],
   "source": [
    "n_ICs=20 # number of independent components\n",
    "print(f'dual_regression {group_ICA_path}/groupICA{n_ICs}/melodic_IC 1 \\\n",
    "      -1 0 \\\n",
    "      {group_ICA_path}/groupICA{n_ICs}.dr {\" \".join(item for item in rs_data_files)}')"
   ]
  },
  {
   "cell_type": "markdown",
   "metadata": {},
   "source": [
    "## Averaging each subect's data (over the two sessions) for each IC"
   ]
  },
  {
   "cell_type": "code",
   "execution_count": 48,
   "metadata": {},
   "outputs": [
    {
     "name": "stdout",
     "output_type": "stream",
     "text": [
      "Processing IC 0\n",
      "All IC0000_sessions-avg_ordered-sub-*.nii.gz already exists\n",
      "Processing IC 1\n",
      "All IC0001_sessions-avg_ordered-sub-*.nii.gz already exists\n",
      "Processing IC 2\n",
      "All IC0002_sessions-avg_ordered-sub-*.nii.gz already exists\n",
      "Processing IC 3\n",
      "All IC0003_sessions-avg_ordered-sub-*.nii.gz already exists\n",
      "Processing IC 4\n",
      "All IC0004_sessions-avg_ordered-sub-*.nii.gz already exists\n",
      "Processing IC 5\n",
      "All IC0005_sessions-avg_ordered-sub-*.nii.gz already exists\n",
      "Processing IC 6\n",
      "All IC0006_sessions-avg_ordered-sub-*.nii.gz already exists\n",
      "Processing IC 7\n",
      "All IC0007_sessions-avg_ordered-sub-*.nii.gz already exists\n",
      "Processing IC 8\n",
      "All IC0008_sessions-avg_ordered-sub-*.nii.gz already exists\n",
      "Processing IC 9\n",
      "All IC0009_sessions-avg_ordered-sub-*.nii.gz already exists\n",
      "Processing IC 10\n",
      "All IC0010_sessions-avg_ordered-sub-*.nii.gz already exists\n",
      "Processing IC 11\n",
      "All IC0011_sessions-avg_ordered-sub-*.nii.gz already exists\n",
      "Processing IC 12\n",
      "All IC0012_sessions-avg_ordered-sub-*.nii.gz already exists\n",
      "Processing IC 13\n",
      "All IC0013_sessions-avg_ordered-sub-*.nii.gz already exists\n",
      "Processing IC 14\n",
      "All IC0014_sessions-avg_ordered-sub-*.nii.gz already exists\n",
      "Processing IC 15\n",
      "All IC0015_sessions-avg_ordered-sub-*.nii.gz already exists\n",
      "Processing IC 16\n",
      "All IC0016_sessions-avg_ordered-sub-*.nii.gz already exists\n",
      "Processing IC 17\n",
      "All IC0017_sessions-avg_ordered-sub-*.nii.gz already exists\n",
      "Processing IC 18\n",
      "All IC0018_sessions-avg_ordered-sub-*.nii.gz already exists\n",
      "Processing IC 19\n",
      "All IC0019_sessions-avg_ordered-sub-*.nii.gz already exists\n"
     ]
    }
   ],
   "source": [
    "n_ICs=20\n",
    "\n",
    "sub_avg_folder = os.path.join(group_ICA_path, f'groupICA{n_ICs}.sub_avg')\n",
    "if not os.path.exists(sub_avg_folder):\n",
    "    os.makedirs(sub_avg_folder)\n",
    "\n",
    "for IC in range(n_ICs):\n",
    "    print(f'Processing IC {IC}')\n",
    "    IC_str = str(IC).zfill(4) # get the IC into a string that has 4 digits\n",
    "\n",
    "    # Check that files were not already created:\n",
    "    sub_IC_avg_files = [f for f in os.listdir(sub_avg_folder) if f.startswith(f'IC{IC_str}_sessions-avg_ordered-sub-')]\n",
    "    N_sub_by_ses_files = [f for f in os.listdir(rs_data_path_IDCH_sub_Nums)]    \n",
    "    if len(sub_IC_avg_files) == len(N_sub_by_ses_files)/2:\n",
    "        print(f'All IC{IC_str}_sessions-avg_ordered-sub-*.nii.gz already exists')\n",
    "        continue\n",
    "    \n",
    "    # split the IC data into sub-ICs:\n",
    "    file_name = f'{stage2_ic_file_prefix}{IC_str}.nii.gz'\n",
    "    file_path = os.path.join(group_ICA_path, f'groupICA{n_ICs}.dr', file_name)\n",
    "    print('Splitting:', file_path)\n",
    "    os.system(f'fslsplit {file_path} {sub_avg_folder}/IC{IC_str}_ -t') # split the IC into sub-ICs:\n",
    "\n",
    "    # get the sub_IC_files:\n",
    "    sub_IC_files = [f for f in os.listdir(sub_avg_folder) if f.startswith(f'IC{IC_str}_')]\n",
    "    sub_IC_files = [f for f in sub_IC_files if 'avg' not in f]\n",
    "    sub_IC_files.sort()\n",
    "\n",
    "    # iterate over the sub_IC_files in pairs and concatenate them:\n",
    "    for i in range(0, len(sub_IC_files), 2):\n",
    "        sub_file1 = os.path.join(sub_avg_folder, sub_IC_files[i])\n",
    "        sub_file2 = os.path.join(sub_avg_folder, sub_IC_files[i+1])\n",
    "        # check if the concatenated file exists:\n",
    "        if not os.path.exists(f'{sub_avg_folder}/IC{IC_str}_sessions-avg_ordered-sub-{i//2:03}.nii.gz'):\n",
    "            os.system(f'fslmaths {sub_file1} -add {sub_file2} -div 2 {sub_avg_folder}/IC{IC_str}_sessions-avg_ordered-sub-{i//2:03}.nii.gz') # this calculate the average in the right way. I TESTED IT!\n",
    "            print('processing:', sub_file1, sub_file2)\n",
    "            print(f'Created {sub_avg_folder}/IC{IC_str}_sessions-avg_ordered-sub-{i//2:03}.nii.gz')\n",
    "        else:\n",
    "            print(f'IC{IC_str}_sessions-avg_ordered-sub-{i//2:03}.nii.gz already exists')\n",
    "\n",
    "    # remove the sub_IC_files:\n",
    "    for f in sub_IC_files:\n",
    "        os.system(f'rm {os.path.join(sub_avg_folder, f)}')\n"
   ]
  },
  {
   "cell_type": "code",
   "execution_count": 57,
   "metadata": {},
   "outputs": [
    {
     "name": "stdout",
     "output_type": "stream",
     "text": [
      "fslmerge -t /export/home/ranigera/IDCH-rsfMRI/data/group_ICA/groupICA20.sub_avg/groupICA20.dr/dr_stage2_ic0019_sub-sessions-avg.nii.gz \n",
      "/export/home/ranigera/IDCH-rsfMRI/data/group_ICA/groupICA20.sub_avg/IC0019_sessions-avg_ordered-sub-000.nii.gz \n",
      "/export/home/ranigera/IDCH-rsfMRI/data/group_ICA/groupICA20.sub_avg/IC0019_sessions-avg_ordered-sub-001.nii.gz \n",
      "/export/home/ranigera/IDCH-rsfMRI/data/group_ICA/groupICA20.sub_avg/IC0019_sessions-avg_ordered-sub-002.nii.gz \n",
      "/export/home/ranigera/IDCH-rsfMRI/data/group_ICA/groupICA20.sub_avg/IC0019_sessions-avg_ordered-sub-003.nii.gz \n",
      "/export/home/ranigera/IDCH-rsfMRI/data/group_ICA/groupICA20.sub_avg/IC0019_sessions-avg_ordered-sub-004.nii.gz \n",
      "/export/home/ranigera/IDCH-rsfMRI/data/group_ICA/groupICA20.sub_avg/IC0019_sessions-avg_ordered-sub-005.nii.gz \n",
      "/export/home/ranigera/IDCH-rsfMRI/data/group_ICA/groupICA20.sub_avg/IC0019_sessions-avg_ordered-sub-006.nii.gz \n",
      "/export/home/ranigera/IDCH-rsfMRI/data/group_ICA/groupICA20.sub_avg/IC0019_sessions-avg_ordered-sub-007.nii.gz \n",
      "/export/home/ranigera/IDCH-rsfMRI/data/group_ICA/groupICA20.sub_avg/IC0019_sessions-avg_ordered-sub-008.nii.gz \n",
      "/export/home/ranigera/IDCH-rsfMRI/data/group_ICA/groupICA20.sub_avg/IC0019_sessions-avg_ordered-sub-009.nii.gz \n",
      "/export/home/ranigera/IDCH-rsfMRI/data/group_ICA/groupICA20.sub_avg/IC0019_sessions-avg_ordered-sub-010.nii.gz \n",
      "/export/home/ranigera/IDCH-rsfMRI/data/group_ICA/groupICA20.sub_avg/IC0019_sessions-avg_ordered-sub-011.nii.gz \n",
      "/export/home/ranigera/IDCH-rsfMRI/data/group_ICA/groupICA20.sub_avg/IC0019_sessions-avg_ordered-sub-012.nii.gz \n",
      "/export/home/ranigera/IDCH-rsfMRI/data/group_ICA/groupICA20.sub_avg/IC0019_sessions-avg_ordered-sub-013.nii.gz \n",
      "/export/home/ranigera/IDCH-rsfMRI/data/group_ICA/groupICA20.sub_avg/IC0019_sessions-avg_ordered-sub-014.nii.gz \n",
      "/export/home/ranigera/IDCH-rsfMRI/data/group_ICA/groupICA20.sub_avg/IC0019_sessions-avg_ordered-sub-015.nii.gz \n",
      "/export/home/ranigera/IDCH-rsfMRI/data/group_ICA/groupICA20.sub_avg/IC0019_sessions-avg_ordered-sub-016.nii.gz \n",
      "/export/home/ranigera/IDCH-rsfMRI/data/group_ICA/groupICA20.sub_avg/IC0019_sessions-avg_ordered-sub-017.nii.gz \n",
      "/export/home/ranigera/IDCH-rsfMRI/data/group_ICA/groupICA20.sub_avg/IC0019_sessions-avg_ordered-sub-018.nii.gz \n",
      "/export/home/ranigera/IDCH-rsfMRI/data/group_ICA/groupICA20.sub_avg/IC0019_sessions-avg_ordered-sub-019.nii.gz \n",
      "/export/home/ranigera/IDCH-rsfMRI/data/group_ICA/groupICA20.sub_avg/IC0019_sessions-avg_ordered-sub-020.nii.gz\n"
     ]
    }
   ],
   "source": [
    "print(f'fslmerge -t {file_path} \\n{\" \\n\".join(item for item in sub_avg_files)}')"
   ]
  },
  {
   "cell_type": "code",
   "execution_count": 59,
   "metadata": {},
   "outputs": [
    {
     "data": {
      "text/plain": [
       "'/export/home/ranigera/IDCH-rsfMRI/data/group_ICA/groupICA20.sub_avg_dr/groupICA20.dr/dr_stage2_ic0000_sub-sessions-avg.nii.gz'"
      ]
     },
     "execution_count": 59,
     "metadata": {},
     "output_type": "execute_result"
    }
   ],
   "source": [
    "file_path"
   ]
  },
  {
   "cell_type": "code",
   "execution_count": 65,
   "metadata": {},
   "outputs": [
    {
     "name": "stdout",
     "output_type": "stream",
     "text": [
      "Concatenating subjects of IC ** 0 ** (after averaging the sessions)\n",
      "Concatenating to form: /export/home/ranigera/IDCH-rsfMRI/data/group_ICA/groupICA20.sub_avg_dr/dr_stage2_ic0000_sub-sessions-avg.nii.gz\n",
      "/export/home/ranigera/IDCH-rsfMRI/data/group_ICA/groupICA20.sub_avg_dr/dr_stage2_ic0000_sub-sessions-avg.nii.gz already exists\n",
      "Concatenating subjects of IC ** 1 ** (after averaging the sessions)\n",
      "Concatenating to form: /export/home/ranigera/IDCH-rsfMRI/data/group_ICA/groupICA20.sub_avg_dr/dr_stage2_ic0001_sub-sessions-avg.nii.gz\n",
      "/export/home/ranigera/IDCH-rsfMRI/data/group_ICA/groupICA20.sub_avg_dr/dr_stage2_ic0001_sub-sessions-avg.nii.gz already exists\n",
      "Concatenating subjects of IC ** 2 ** (after averaging the sessions)\n",
      "Concatenating to form: /export/home/ranigera/IDCH-rsfMRI/data/group_ICA/groupICA20.sub_avg_dr/dr_stage2_ic0002_sub-sessions-avg.nii.gz\n",
      "/export/home/ranigera/IDCH-rsfMRI/data/group_ICA/groupICA20.sub_avg_dr/dr_stage2_ic0002_sub-sessions-avg.nii.gz already exists\n",
      "Concatenating subjects of IC ** 3 ** (after averaging the sessions)\n",
      "Concatenating to form: /export/home/ranigera/IDCH-rsfMRI/data/group_ICA/groupICA20.sub_avg_dr/dr_stage2_ic0003_sub-sessions-avg.nii.gz\n",
      "fslmerge -t /export/home/ranigera/IDCH-rsfMRI/data/group_ICA/groupICA20.sub_avg_dr/dr_stage2_ic0003_sub-sessions-avg.nii.gz /export/home/ranigera/IDCH-rsfMRI/data/group_ICA/groupICA20.sub_avg/IC0003_sessions-avg_ordered-sub-000.nii.gz /export/home/ranigera/IDCH-rsfMRI/data/group_ICA/groupICA20.sub_avg/IC0003_sessions-avg_ordered-sub-001.nii.gz /export/home/ranigera/IDCH-rsfMRI/data/group_ICA/groupICA20.sub_avg/IC0003_sessions-avg_ordered-sub-002.nii.gz /export/home/ranigera/IDCH-rsfMRI/data/group_ICA/groupICA20.sub_avg/IC0003_sessions-avg_ordered-sub-003.nii.gz /export/home/ranigera/IDCH-rsfMRI/data/group_ICA/groupICA20.sub_avg/IC0003_sessions-avg_ordered-sub-004.nii.gz /export/home/ranigera/IDCH-rsfMRI/data/group_ICA/groupICA20.sub_avg/IC0003_sessions-avg_ordered-sub-005.nii.gz /export/home/ranigera/IDCH-rsfMRI/data/group_ICA/groupICA20.sub_avg/IC0003_sessions-avg_ordered-sub-006.nii.gz /export/home/ranigera/IDCH-rsfMRI/data/group_ICA/groupICA20.sub_avg/IC0003_sessions-avg_ordered-sub-007.nii.gz /export/home/ranigera/IDCH-rsfMRI/data/group_ICA/groupICA20.sub_avg/IC0003_sessions-avg_ordered-sub-008.nii.gz /export/home/ranigera/IDCH-rsfMRI/data/group_ICA/groupICA20.sub_avg/IC0003_sessions-avg_ordered-sub-009.nii.gz /export/home/ranigera/IDCH-rsfMRI/data/group_ICA/groupICA20.sub_avg/IC0003_sessions-avg_ordered-sub-010.nii.gz /export/home/ranigera/IDCH-rsfMRI/data/group_ICA/groupICA20.sub_avg/IC0003_sessions-avg_ordered-sub-011.nii.gz /export/home/ranigera/IDCH-rsfMRI/data/group_ICA/groupICA20.sub_avg/IC0003_sessions-avg_ordered-sub-012.nii.gz /export/home/ranigera/IDCH-rsfMRI/data/group_ICA/groupICA20.sub_avg/IC0003_sessions-avg_ordered-sub-013.nii.gz /export/home/ranigera/IDCH-rsfMRI/data/group_ICA/groupICA20.sub_avg/IC0003_sessions-avg_ordered-sub-014.nii.gz /export/home/ranigera/IDCH-rsfMRI/data/group_ICA/groupICA20.sub_avg/IC0003_sessions-avg_ordered-sub-015.nii.gz /export/home/ranigera/IDCH-rsfMRI/data/group_ICA/groupICA20.sub_avg/IC0003_sessions-avg_ordered-sub-016.nii.gz /export/home/ranigera/IDCH-rsfMRI/data/group_ICA/groupICA20.sub_avg/IC0003_sessions-avg_ordered-sub-017.nii.gz /export/home/ranigera/IDCH-rsfMRI/data/group_ICA/groupICA20.sub_avg/IC0003_sessions-avg_ordered-sub-018.nii.gz /export/home/ranigera/IDCH-rsfMRI/data/group_ICA/groupICA20.sub_avg/IC0003_sessions-avg_ordered-sub-019.nii.gz /export/home/ranigera/IDCH-rsfMRI/data/group_ICA/groupICA20.sub_avg/IC0003_sessions-avg_ordered-sub-020.nii.gz\n",
      "Concatenating subjects of IC ** 4 ** (after averaging the sessions)\n",
      "Concatenating to form: /export/home/ranigera/IDCH-rsfMRI/data/group_ICA/groupICA20.sub_avg_dr/dr_stage2_ic0004_sub-sessions-avg.nii.gz\n",
      "fslmerge -t /export/home/ranigera/IDCH-rsfMRI/data/group_ICA/groupICA20.sub_avg_dr/dr_stage2_ic0004_sub-sessions-avg.nii.gz /export/home/ranigera/IDCH-rsfMRI/data/group_ICA/groupICA20.sub_avg/IC0004_sessions-avg_ordered-sub-000.nii.gz /export/home/ranigera/IDCH-rsfMRI/data/group_ICA/groupICA20.sub_avg/IC0004_sessions-avg_ordered-sub-001.nii.gz /export/home/ranigera/IDCH-rsfMRI/data/group_ICA/groupICA20.sub_avg/IC0004_sessions-avg_ordered-sub-002.nii.gz /export/home/ranigera/IDCH-rsfMRI/data/group_ICA/groupICA20.sub_avg/IC0004_sessions-avg_ordered-sub-003.nii.gz /export/home/ranigera/IDCH-rsfMRI/data/group_ICA/groupICA20.sub_avg/IC0004_sessions-avg_ordered-sub-004.nii.gz /export/home/ranigera/IDCH-rsfMRI/data/group_ICA/groupICA20.sub_avg/IC0004_sessions-avg_ordered-sub-005.nii.gz /export/home/ranigera/IDCH-rsfMRI/data/group_ICA/groupICA20.sub_avg/IC0004_sessions-avg_ordered-sub-006.nii.gz /export/home/ranigera/IDCH-rsfMRI/data/group_ICA/groupICA20.sub_avg/IC0004_sessions-avg_ordered-sub-007.nii.gz /export/home/ranigera/IDCH-rsfMRI/data/group_ICA/groupICA20.sub_avg/IC0004_sessions-avg_ordered-sub-008.nii.gz /export/home/ranigera/IDCH-rsfMRI/data/group_ICA/groupICA20.sub_avg/IC0004_sessions-avg_ordered-sub-009.nii.gz /export/home/ranigera/IDCH-rsfMRI/data/group_ICA/groupICA20.sub_avg/IC0004_sessions-avg_ordered-sub-010.nii.gz /export/home/ranigera/IDCH-rsfMRI/data/group_ICA/groupICA20.sub_avg/IC0004_sessions-avg_ordered-sub-011.nii.gz /export/home/ranigera/IDCH-rsfMRI/data/group_ICA/groupICA20.sub_avg/IC0004_sessions-avg_ordered-sub-012.nii.gz /export/home/ranigera/IDCH-rsfMRI/data/group_ICA/groupICA20.sub_avg/IC0004_sessions-avg_ordered-sub-013.nii.gz /export/home/ranigera/IDCH-rsfMRI/data/group_ICA/groupICA20.sub_avg/IC0004_sessions-avg_ordered-sub-014.nii.gz /export/home/ranigera/IDCH-rsfMRI/data/group_ICA/groupICA20.sub_avg/IC0004_sessions-avg_ordered-sub-015.nii.gz /export/home/ranigera/IDCH-rsfMRI/data/group_ICA/groupICA20.sub_avg/IC0004_sessions-avg_ordered-sub-016.nii.gz /export/home/ranigera/IDCH-rsfMRI/data/group_ICA/groupICA20.sub_avg/IC0004_sessions-avg_ordered-sub-017.nii.gz /export/home/ranigera/IDCH-rsfMRI/data/group_ICA/groupICA20.sub_avg/IC0004_sessions-avg_ordered-sub-018.nii.gz /export/home/ranigera/IDCH-rsfMRI/data/group_ICA/groupICA20.sub_avg/IC0004_sessions-avg_ordered-sub-019.nii.gz /export/home/ranigera/IDCH-rsfMRI/data/group_ICA/groupICA20.sub_avg/IC0004_sessions-avg_ordered-sub-020.nii.gz\n",
      "Concatenating subjects of IC ** 5 ** (after averaging the sessions)\n",
      "Concatenating to form: /export/home/ranigera/IDCH-rsfMRI/data/group_ICA/groupICA20.sub_avg_dr/dr_stage2_ic0005_sub-sessions-avg.nii.gz\n",
      "fslmerge -t /export/home/ranigera/IDCH-rsfMRI/data/group_ICA/groupICA20.sub_avg_dr/dr_stage2_ic0005_sub-sessions-avg.nii.gz /export/home/ranigera/IDCH-rsfMRI/data/group_ICA/groupICA20.sub_avg/IC0005_sessions-avg_ordered-sub-000.nii.gz /export/home/ranigera/IDCH-rsfMRI/data/group_ICA/groupICA20.sub_avg/IC0005_sessions-avg_ordered-sub-001.nii.gz /export/home/ranigera/IDCH-rsfMRI/data/group_ICA/groupICA20.sub_avg/IC0005_sessions-avg_ordered-sub-002.nii.gz /export/home/ranigera/IDCH-rsfMRI/data/group_ICA/groupICA20.sub_avg/IC0005_sessions-avg_ordered-sub-003.nii.gz /export/home/ranigera/IDCH-rsfMRI/data/group_ICA/groupICA20.sub_avg/IC0005_sessions-avg_ordered-sub-004.nii.gz /export/home/ranigera/IDCH-rsfMRI/data/group_ICA/groupICA20.sub_avg/IC0005_sessions-avg_ordered-sub-005.nii.gz /export/home/ranigera/IDCH-rsfMRI/data/group_ICA/groupICA20.sub_avg/IC0005_sessions-avg_ordered-sub-006.nii.gz /export/home/ranigera/IDCH-rsfMRI/data/group_ICA/groupICA20.sub_avg/IC0005_sessions-avg_ordered-sub-007.nii.gz /export/home/ranigera/IDCH-rsfMRI/data/group_ICA/groupICA20.sub_avg/IC0005_sessions-avg_ordered-sub-008.nii.gz /export/home/ranigera/IDCH-rsfMRI/data/group_ICA/groupICA20.sub_avg/IC0005_sessions-avg_ordered-sub-009.nii.gz /export/home/ranigera/IDCH-rsfMRI/data/group_ICA/groupICA20.sub_avg/IC0005_sessions-avg_ordered-sub-010.nii.gz /export/home/ranigera/IDCH-rsfMRI/data/group_ICA/groupICA20.sub_avg/IC0005_sessions-avg_ordered-sub-011.nii.gz /export/home/ranigera/IDCH-rsfMRI/data/group_ICA/groupICA20.sub_avg/IC0005_sessions-avg_ordered-sub-012.nii.gz /export/home/ranigera/IDCH-rsfMRI/data/group_ICA/groupICA20.sub_avg/IC0005_sessions-avg_ordered-sub-013.nii.gz /export/home/ranigera/IDCH-rsfMRI/data/group_ICA/groupICA20.sub_avg/IC0005_sessions-avg_ordered-sub-014.nii.gz /export/home/ranigera/IDCH-rsfMRI/data/group_ICA/groupICA20.sub_avg/IC0005_sessions-avg_ordered-sub-015.nii.gz /export/home/ranigera/IDCH-rsfMRI/data/group_ICA/groupICA20.sub_avg/IC0005_sessions-avg_ordered-sub-016.nii.gz /export/home/ranigera/IDCH-rsfMRI/data/group_ICA/groupICA20.sub_avg/IC0005_sessions-avg_ordered-sub-017.nii.gz /export/home/ranigera/IDCH-rsfMRI/data/group_ICA/groupICA20.sub_avg/IC0005_sessions-avg_ordered-sub-018.nii.gz /export/home/ranigera/IDCH-rsfMRI/data/group_ICA/groupICA20.sub_avg/IC0005_sessions-avg_ordered-sub-019.nii.gz /export/home/ranigera/IDCH-rsfMRI/data/group_ICA/groupICA20.sub_avg/IC0005_sessions-avg_ordered-sub-020.nii.gz\n",
      "Concatenating subjects of IC ** 6 ** (after averaging the sessions)\n",
      "Concatenating to form: /export/home/ranigera/IDCH-rsfMRI/data/group_ICA/groupICA20.sub_avg_dr/dr_stage2_ic0006_sub-sessions-avg.nii.gz\n",
      "fslmerge -t /export/home/ranigera/IDCH-rsfMRI/data/group_ICA/groupICA20.sub_avg_dr/dr_stage2_ic0006_sub-sessions-avg.nii.gz /export/home/ranigera/IDCH-rsfMRI/data/group_ICA/groupICA20.sub_avg/IC0006_sessions-avg_ordered-sub-000.nii.gz /export/home/ranigera/IDCH-rsfMRI/data/group_ICA/groupICA20.sub_avg/IC0006_sessions-avg_ordered-sub-001.nii.gz /export/home/ranigera/IDCH-rsfMRI/data/group_ICA/groupICA20.sub_avg/IC0006_sessions-avg_ordered-sub-002.nii.gz /export/home/ranigera/IDCH-rsfMRI/data/group_ICA/groupICA20.sub_avg/IC0006_sessions-avg_ordered-sub-003.nii.gz /export/home/ranigera/IDCH-rsfMRI/data/group_ICA/groupICA20.sub_avg/IC0006_sessions-avg_ordered-sub-004.nii.gz /export/home/ranigera/IDCH-rsfMRI/data/group_ICA/groupICA20.sub_avg/IC0006_sessions-avg_ordered-sub-005.nii.gz /export/home/ranigera/IDCH-rsfMRI/data/group_ICA/groupICA20.sub_avg/IC0006_sessions-avg_ordered-sub-006.nii.gz /export/home/ranigera/IDCH-rsfMRI/data/group_ICA/groupICA20.sub_avg/IC0006_sessions-avg_ordered-sub-007.nii.gz /export/home/ranigera/IDCH-rsfMRI/data/group_ICA/groupICA20.sub_avg/IC0006_sessions-avg_ordered-sub-008.nii.gz /export/home/ranigera/IDCH-rsfMRI/data/group_ICA/groupICA20.sub_avg/IC0006_sessions-avg_ordered-sub-009.nii.gz /export/home/ranigera/IDCH-rsfMRI/data/group_ICA/groupICA20.sub_avg/IC0006_sessions-avg_ordered-sub-010.nii.gz /export/home/ranigera/IDCH-rsfMRI/data/group_ICA/groupICA20.sub_avg/IC0006_sessions-avg_ordered-sub-011.nii.gz /export/home/ranigera/IDCH-rsfMRI/data/group_ICA/groupICA20.sub_avg/IC0006_sessions-avg_ordered-sub-012.nii.gz /export/home/ranigera/IDCH-rsfMRI/data/group_ICA/groupICA20.sub_avg/IC0006_sessions-avg_ordered-sub-013.nii.gz /export/home/ranigera/IDCH-rsfMRI/data/group_ICA/groupICA20.sub_avg/IC0006_sessions-avg_ordered-sub-014.nii.gz /export/home/ranigera/IDCH-rsfMRI/data/group_ICA/groupICA20.sub_avg/IC0006_sessions-avg_ordered-sub-015.nii.gz /export/home/ranigera/IDCH-rsfMRI/data/group_ICA/groupICA20.sub_avg/IC0006_sessions-avg_ordered-sub-016.nii.gz /export/home/ranigera/IDCH-rsfMRI/data/group_ICA/groupICA20.sub_avg/IC0006_sessions-avg_ordered-sub-017.nii.gz /export/home/ranigera/IDCH-rsfMRI/data/group_ICA/groupICA20.sub_avg/IC0006_sessions-avg_ordered-sub-018.nii.gz /export/home/ranigera/IDCH-rsfMRI/data/group_ICA/groupICA20.sub_avg/IC0006_sessions-avg_ordered-sub-019.nii.gz /export/home/ranigera/IDCH-rsfMRI/data/group_ICA/groupICA20.sub_avg/IC0006_sessions-avg_ordered-sub-020.nii.gz\n",
      "Concatenating subjects of IC ** 7 ** (after averaging the sessions)\n",
      "Concatenating to form: /export/home/ranigera/IDCH-rsfMRI/data/group_ICA/groupICA20.sub_avg_dr/dr_stage2_ic0007_sub-sessions-avg.nii.gz\n",
      "fslmerge -t /export/home/ranigera/IDCH-rsfMRI/data/group_ICA/groupICA20.sub_avg_dr/dr_stage2_ic0007_sub-sessions-avg.nii.gz /export/home/ranigera/IDCH-rsfMRI/data/group_ICA/groupICA20.sub_avg/IC0007_sessions-avg_ordered-sub-000.nii.gz /export/home/ranigera/IDCH-rsfMRI/data/group_ICA/groupICA20.sub_avg/IC0007_sessions-avg_ordered-sub-001.nii.gz /export/home/ranigera/IDCH-rsfMRI/data/group_ICA/groupICA20.sub_avg/IC0007_sessions-avg_ordered-sub-002.nii.gz /export/home/ranigera/IDCH-rsfMRI/data/group_ICA/groupICA20.sub_avg/IC0007_sessions-avg_ordered-sub-003.nii.gz /export/home/ranigera/IDCH-rsfMRI/data/group_ICA/groupICA20.sub_avg/IC0007_sessions-avg_ordered-sub-004.nii.gz /export/home/ranigera/IDCH-rsfMRI/data/group_ICA/groupICA20.sub_avg/IC0007_sessions-avg_ordered-sub-005.nii.gz /export/home/ranigera/IDCH-rsfMRI/data/group_ICA/groupICA20.sub_avg/IC0007_sessions-avg_ordered-sub-006.nii.gz /export/home/ranigera/IDCH-rsfMRI/data/group_ICA/groupICA20.sub_avg/IC0007_sessions-avg_ordered-sub-007.nii.gz /export/home/ranigera/IDCH-rsfMRI/data/group_ICA/groupICA20.sub_avg/IC0007_sessions-avg_ordered-sub-008.nii.gz /export/home/ranigera/IDCH-rsfMRI/data/group_ICA/groupICA20.sub_avg/IC0007_sessions-avg_ordered-sub-009.nii.gz /export/home/ranigera/IDCH-rsfMRI/data/group_ICA/groupICA20.sub_avg/IC0007_sessions-avg_ordered-sub-010.nii.gz /export/home/ranigera/IDCH-rsfMRI/data/group_ICA/groupICA20.sub_avg/IC0007_sessions-avg_ordered-sub-011.nii.gz /export/home/ranigera/IDCH-rsfMRI/data/group_ICA/groupICA20.sub_avg/IC0007_sessions-avg_ordered-sub-012.nii.gz /export/home/ranigera/IDCH-rsfMRI/data/group_ICA/groupICA20.sub_avg/IC0007_sessions-avg_ordered-sub-013.nii.gz /export/home/ranigera/IDCH-rsfMRI/data/group_ICA/groupICA20.sub_avg/IC0007_sessions-avg_ordered-sub-014.nii.gz /export/home/ranigera/IDCH-rsfMRI/data/group_ICA/groupICA20.sub_avg/IC0007_sessions-avg_ordered-sub-015.nii.gz /export/home/ranigera/IDCH-rsfMRI/data/group_ICA/groupICA20.sub_avg/IC0007_sessions-avg_ordered-sub-016.nii.gz /export/home/ranigera/IDCH-rsfMRI/data/group_ICA/groupICA20.sub_avg/IC0007_sessions-avg_ordered-sub-017.nii.gz /export/home/ranigera/IDCH-rsfMRI/data/group_ICA/groupICA20.sub_avg/IC0007_sessions-avg_ordered-sub-018.nii.gz /export/home/ranigera/IDCH-rsfMRI/data/group_ICA/groupICA20.sub_avg/IC0007_sessions-avg_ordered-sub-019.nii.gz /export/home/ranigera/IDCH-rsfMRI/data/group_ICA/groupICA20.sub_avg/IC0007_sessions-avg_ordered-sub-020.nii.gz\n",
      "Concatenating subjects of IC ** 8 ** (after averaging the sessions)\n",
      "Concatenating to form: /export/home/ranigera/IDCH-rsfMRI/data/group_ICA/groupICA20.sub_avg_dr/dr_stage2_ic0008_sub-sessions-avg.nii.gz\n",
      "fslmerge -t /export/home/ranigera/IDCH-rsfMRI/data/group_ICA/groupICA20.sub_avg_dr/dr_stage2_ic0008_sub-sessions-avg.nii.gz /export/home/ranigera/IDCH-rsfMRI/data/group_ICA/groupICA20.sub_avg/IC0008_sessions-avg_ordered-sub-000.nii.gz /export/home/ranigera/IDCH-rsfMRI/data/group_ICA/groupICA20.sub_avg/IC0008_sessions-avg_ordered-sub-001.nii.gz /export/home/ranigera/IDCH-rsfMRI/data/group_ICA/groupICA20.sub_avg/IC0008_sessions-avg_ordered-sub-002.nii.gz /export/home/ranigera/IDCH-rsfMRI/data/group_ICA/groupICA20.sub_avg/IC0008_sessions-avg_ordered-sub-003.nii.gz /export/home/ranigera/IDCH-rsfMRI/data/group_ICA/groupICA20.sub_avg/IC0008_sessions-avg_ordered-sub-004.nii.gz /export/home/ranigera/IDCH-rsfMRI/data/group_ICA/groupICA20.sub_avg/IC0008_sessions-avg_ordered-sub-005.nii.gz /export/home/ranigera/IDCH-rsfMRI/data/group_ICA/groupICA20.sub_avg/IC0008_sessions-avg_ordered-sub-006.nii.gz /export/home/ranigera/IDCH-rsfMRI/data/group_ICA/groupICA20.sub_avg/IC0008_sessions-avg_ordered-sub-007.nii.gz /export/home/ranigera/IDCH-rsfMRI/data/group_ICA/groupICA20.sub_avg/IC0008_sessions-avg_ordered-sub-008.nii.gz /export/home/ranigera/IDCH-rsfMRI/data/group_ICA/groupICA20.sub_avg/IC0008_sessions-avg_ordered-sub-009.nii.gz /export/home/ranigera/IDCH-rsfMRI/data/group_ICA/groupICA20.sub_avg/IC0008_sessions-avg_ordered-sub-010.nii.gz /export/home/ranigera/IDCH-rsfMRI/data/group_ICA/groupICA20.sub_avg/IC0008_sessions-avg_ordered-sub-011.nii.gz /export/home/ranigera/IDCH-rsfMRI/data/group_ICA/groupICA20.sub_avg/IC0008_sessions-avg_ordered-sub-012.nii.gz /export/home/ranigera/IDCH-rsfMRI/data/group_ICA/groupICA20.sub_avg/IC0008_sessions-avg_ordered-sub-013.nii.gz /export/home/ranigera/IDCH-rsfMRI/data/group_ICA/groupICA20.sub_avg/IC0008_sessions-avg_ordered-sub-014.nii.gz /export/home/ranigera/IDCH-rsfMRI/data/group_ICA/groupICA20.sub_avg/IC0008_sessions-avg_ordered-sub-015.nii.gz /export/home/ranigera/IDCH-rsfMRI/data/group_ICA/groupICA20.sub_avg/IC0008_sessions-avg_ordered-sub-016.nii.gz /export/home/ranigera/IDCH-rsfMRI/data/group_ICA/groupICA20.sub_avg/IC0008_sessions-avg_ordered-sub-017.nii.gz /export/home/ranigera/IDCH-rsfMRI/data/group_ICA/groupICA20.sub_avg/IC0008_sessions-avg_ordered-sub-018.nii.gz /export/home/ranigera/IDCH-rsfMRI/data/group_ICA/groupICA20.sub_avg/IC0008_sessions-avg_ordered-sub-019.nii.gz /export/home/ranigera/IDCH-rsfMRI/data/group_ICA/groupICA20.sub_avg/IC0008_sessions-avg_ordered-sub-020.nii.gz\n",
      "Concatenating subjects of IC ** 9 ** (after averaging the sessions)\n",
      "Concatenating to form: /export/home/ranigera/IDCH-rsfMRI/data/group_ICA/groupICA20.sub_avg_dr/dr_stage2_ic0009_sub-sessions-avg.nii.gz\n",
      "fslmerge -t /export/home/ranigera/IDCH-rsfMRI/data/group_ICA/groupICA20.sub_avg_dr/dr_stage2_ic0009_sub-sessions-avg.nii.gz /export/home/ranigera/IDCH-rsfMRI/data/group_ICA/groupICA20.sub_avg/IC0009_sessions-avg_ordered-sub-000.nii.gz /export/home/ranigera/IDCH-rsfMRI/data/group_ICA/groupICA20.sub_avg/IC0009_sessions-avg_ordered-sub-001.nii.gz /export/home/ranigera/IDCH-rsfMRI/data/group_ICA/groupICA20.sub_avg/IC0009_sessions-avg_ordered-sub-002.nii.gz /export/home/ranigera/IDCH-rsfMRI/data/group_ICA/groupICA20.sub_avg/IC0009_sessions-avg_ordered-sub-003.nii.gz /export/home/ranigera/IDCH-rsfMRI/data/group_ICA/groupICA20.sub_avg/IC0009_sessions-avg_ordered-sub-004.nii.gz /export/home/ranigera/IDCH-rsfMRI/data/group_ICA/groupICA20.sub_avg/IC0009_sessions-avg_ordered-sub-005.nii.gz /export/home/ranigera/IDCH-rsfMRI/data/group_ICA/groupICA20.sub_avg/IC0009_sessions-avg_ordered-sub-006.nii.gz /export/home/ranigera/IDCH-rsfMRI/data/group_ICA/groupICA20.sub_avg/IC0009_sessions-avg_ordered-sub-007.nii.gz /export/home/ranigera/IDCH-rsfMRI/data/group_ICA/groupICA20.sub_avg/IC0009_sessions-avg_ordered-sub-008.nii.gz /export/home/ranigera/IDCH-rsfMRI/data/group_ICA/groupICA20.sub_avg/IC0009_sessions-avg_ordered-sub-009.nii.gz /export/home/ranigera/IDCH-rsfMRI/data/group_ICA/groupICA20.sub_avg/IC0009_sessions-avg_ordered-sub-010.nii.gz /export/home/ranigera/IDCH-rsfMRI/data/group_ICA/groupICA20.sub_avg/IC0009_sessions-avg_ordered-sub-011.nii.gz /export/home/ranigera/IDCH-rsfMRI/data/group_ICA/groupICA20.sub_avg/IC0009_sessions-avg_ordered-sub-012.nii.gz /export/home/ranigera/IDCH-rsfMRI/data/group_ICA/groupICA20.sub_avg/IC0009_sessions-avg_ordered-sub-013.nii.gz /export/home/ranigera/IDCH-rsfMRI/data/group_ICA/groupICA20.sub_avg/IC0009_sessions-avg_ordered-sub-014.nii.gz /export/home/ranigera/IDCH-rsfMRI/data/group_ICA/groupICA20.sub_avg/IC0009_sessions-avg_ordered-sub-015.nii.gz /export/home/ranigera/IDCH-rsfMRI/data/group_ICA/groupICA20.sub_avg/IC0009_sessions-avg_ordered-sub-016.nii.gz /export/home/ranigera/IDCH-rsfMRI/data/group_ICA/groupICA20.sub_avg/IC0009_sessions-avg_ordered-sub-017.nii.gz /export/home/ranigera/IDCH-rsfMRI/data/group_ICA/groupICA20.sub_avg/IC0009_sessions-avg_ordered-sub-018.nii.gz /export/home/ranigera/IDCH-rsfMRI/data/group_ICA/groupICA20.sub_avg/IC0009_sessions-avg_ordered-sub-019.nii.gz /export/home/ranigera/IDCH-rsfMRI/data/group_ICA/groupICA20.sub_avg/IC0009_sessions-avg_ordered-sub-020.nii.gz\n",
      "Concatenating subjects of IC ** 10 ** (after averaging the sessions)\n",
      "Concatenating to form: /export/home/ranigera/IDCH-rsfMRI/data/group_ICA/groupICA20.sub_avg_dr/dr_stage2_ic0010_sub-sessions-avg.nii.gz\n",
      "fslmerge -t /export/home/ranigera/IDCH-rsfMRI/data/group_ICA/groupICA20.sub_avg_dr/dr_stage2_ic0010_sub-sessions-avg.nii.gz /export/home/ranigera/IDCH-rsfMRI/data/group_ICA/groupICA20.sub_avg/IC0010_sessions-avg_ordered-sub-000.nii.gz /export/home/ranigera/IDCH-rsfMRI/data/group_ICA/groupICA20.sub_avg/IC0010_sessions-avg_ordered-sub-001.nii.gz /export/home/ranigera/IDCH-rsfMRI/data/group_ICA/groupICA20.sub_avg/IC0010_sessions-avg_ordered-sub-002.nii.gz /export/home/ranigera/IDCH-rsfMRI/data/group_ICA/groupICA20.sub_avg/IC0010_sessions-avg_ordered-sub-003.nii.gz /export/home/ranigera/IDCH-rsfMRI/data/group_ICA/groupICA20.sub_avg/IC0010_sessions-avg_ordered-sub-004.nii.gz /export/home/ranigera/IDCH-rsfMRI/data/group_ICA/groupICA20.sub_avg/IC0010_sessions-avg_ordered-sub-005.nii.gz /export/home/ranigera/IDCH-rsfMRI/data/group_ICA/groupICA20.sub_avg/IC0010_sessions-avg_ordered-sub-006.nii.gz /export/home/ranigera/IDCH-rsfMRI/data/group_ICA/groupICA20.sub_avg/IC0010_sessions-avg_ordered-sub-007.nii.gz /export/home/ranigera/IDCH-rsfMRI/data/group_ICA/groupICA20.sub_avg/IC0010_sessions-avg_ordered-sub-008.nii.gz /export/home/ranigera/IDCH-rsfMRI/data/group_ICA/groupICA20.sub_avg/IC0010_sessions-avg_ordered-sub-009.nii.gz /export/home/ranigera/IDCH-rsfMRI/data/group_ICA/groupICA20.sub_avg/IC0010_sessions-avg_ordered-sub-010.nii.gz /export/home/ranigera/IDCH-rsfMRI/data/group_ICA/groupICA20.sub_avg/IC0010_sessions-avg_ordered-sub-011.nii.gz /export/home/ranigera/IDCH-rsfMRI/data/group_ICA/groupICA20.sub_avg/IC0010_sessions-avg_ordered-sub-012.nii.gz /export/home/ranigera/IDCH-rsfMRI/data/group_ICA/groupICA20.sub_avg/IC0010_sessions-avg_ordered-sub-013.nii.gz /export/home/ranigera/IDCH-rsfMRI/data/group_ICA/groupICA20.sub_avg/IC0010_sessions-avg_ordered-sub-014.nii.gz /export/home/ranigera/IDCH-rsfMRI/data/group_ICA/groupICA20.sub_avg/IC0010_sessions-avg_ordered-sub-015.nii.gz /export/home/ranigera/IDCH-rsfMRI/data/group_ICA/groupICA20.sub_avg/IC0010_sessions-avg_ordered-sub-016.nii.gz /export/home/ranigera/IDCH-rsfMRI/data/group_ICA/groupICA20.sub_avg/IC0010_sessions-avg_ordered-sub-017.nii.gz /export/home/ranigera/IDCH-rsfMRI/data/group_ICA/groupICA20.sub_avg/IC0010_sessions-avg_ordered-sub-018.nii.gz /export/home/ranigera/IDCH-rsfMRI/data/group_ICA/groupICA20.sub_avg/IC0010_sessions-avg_ordered-sub-019.nii.gz /export/home/ranigera/IDCH-rsfMRI/data/group_ICA/groupICA20.sub_avg/IC0010_sessions-avg_ordered-sub-020.nii.gz\n",
      "Concatenating subjects of IC ** 11 ** (after averaging the sessions)\n",
      "Concatenating to form: /export/home/ranigera/IDCH-rsfMRI/data/group_ICA/groupICA20.sub_avg_dr/dr_stage2_ic0011_sub-sessions-avg.nii.gz\n",
      "fslmerge -t /export/home/ranigera/IDCH-rsfMRI/data/group_ICA/groupICA20.sub_avg_dr/dr_stage2_ic0011_sub-sessions-avg.nii.gz /export/home/ranigera/IDCH-rsfMRI/data/group_ICA/groupICA20.sub_avg/IC0011_sessions-avg_ordered-sub-000.nii.gz /export/home/ranigera/IDCH-rsfMRI/data/group_ICA/groupICA20.sub_avg/IC0011_sessions-avg_ordered-sub-001.nii.gz /export/home/ranigera/IDCH-rsfMRI/data/group_ICA/groupICA20.sub_avg/IC0011_sessions-avg_ordered-sub-002.nii.gz /export/home/ranigera/IDCH-rsfMRI/data/group_ICA/groupICA20.sub_avg/IC0011_sessions-avg_ordered-sub-003.nii.gz /export/home/ranigera/IDCH-rsfMRI/data/group_ICA/groupICA20.sub_avg/IC0011_sessions-avg_ordered-sub-004.nii.gz /export/home/ranigera/IDCH-rsfMRI/data/group_ICA/groupICA20.sub_avg/IC0011_sessions-avg_ordered-sub-005.nii.gz /export/home/ranigera/IDCH-rsfMRI/data/group_ICA/groupICA20.sub_avg/IC0011_sessions-avg_ordered-sub-006.nii.gz /export/home/ranigera/IDCH-rsfMRI/data/group_ICA/groupICA20.sub_avg/IC0011_sessions-avg_ordered-sub-007.nii.gz /export/home/ranigera/IDCH-rsfMRI/data/group_ICA/groupICA20.sub_avg/IC0011_sessions-avg_ordered-sub-008.nii.gz /export/home/ranigera/IDCH-rsfMRI/data/group_ICA/groupICA20.sub_avg/IC0011_sessions-avg_ordered-sub-009.nii.gz /export/home/ranigera/IDCH-rsfMRI/data/group_ICA/groupICA20.sub_avg/IC0011_sessions-avg_ordered-sub-010.nii.gz /export/home/ranigera/IDCH-rsfMRI/data/group_ICA/groupICA20.sub_avg/IC0011_sessions-avg_ordered-sub-011.nii.gz /export/home/ranigera/IDCH-rsfMRI/data/group_ICA/groupICA20.sub_avg/IC0011_sessions-avg_ordered-sub-012.nii.gz /export/home/ranigera/IDCH-rsfMRI/data/group_ICA/groupICA20.sub_avg/IC0011_sessions-avg_ordered-sub-013.nii.gz /export/home/ranigera/IDCH-rsfMRI/data/group_ICA/groupICA20.sub_avg/IC0011_sessions-avg_ordered-sub-014.nii.gz /export/home/ranigera/IDCH-rsfMRI/data/group_ICA/groupICA20.sub_avg/IC0011_sessions-avg_ordered-sub-015.nii.gz /export/home/ranigera/IDCH-rsfMRI/data/group_ICA/groupICA20.sub_avg/IC0011_sessions-avg_ordered-sub-016.nii.gz /export/home/ranigera/IDCH-rsfMRI/data/group_ICA/groupICA20.sub_avg/IC0011_sessions-avg_ordered-sub-017.nii.gz /export/home/ranigera/IDCH-rsfMRI/data/group_ICA/groupICA20.sub_avg/IC0011_sessions-avg_ordered-sub-018.nii.gz /export/home/ranigera/IDCH-rsfMRI/data/group_ICA/groupICA20.sub_avg/IC0011_sessions-avg_ordered-sub-019.nii.gz /export/home/ranigera/IDCH-rsfMRI/data/group_ICA/groupICA20.sub_avg/IC0011_sessions-avg_ordered-sub-020.nii.gz\n",
      "Concatenating subjects of IC ** 12 ** (after averaging the sessions)\n",
      "Concatenating to form: /export/home/ranigera/IDCH-rsfMRI/data/group_ICA/groupICA20.sub_avg_dr/dr_stage2_ic0012_sub-sessions-avg.nii.gz\n",
      "fslmerge -t /export/home/ranigera/IDCH-rsfMRI/data/group_ICA/groupICA20.sub_avg_dr/dr_stage2_ic0012_sub-sessions-avg.nii.gz /export/home/ranigera/IDCH-rsfMRI/data/group_ICA/groupICA20.sub_avg/IC0012_sessions-avg_ordered-sub-000.nii.gz /export/home/ranigera/IDCH-rsfMRI/data/group_ICA/groupICA20.sub_avg/IC0012_sessions-avg_ordered-sub-001.nii.gz /export/home/ranigera/IDCH-rsfMRI/data/group_ICA/groupICA20.sub_avg/IC0012_sessions-avg_ordered-sub-002.nii.gz /export/home/ranigera/IDCH-rsfMRI/data/group_ICA/groupICA20.sub_avg/IC0012_sessions-avg_ordered-sub-003.nii.gz /export/home/ranigera/IDCH-rsfMRI/data/group_ICA/groupICA20.sub_avg/IC0012_sessions-avg_ordered-sub-004.nii.gz /export/home/ranigera/IDCH-rsfMRI/data/group_ICA/groupICA20.sub_avg/IC0012_sessions-avg_ordered-sub-005.nii.gz /export/home/ranigera/IDCH-rsfMRI/data/group_ICA/groupICA20.sub_avg/IC0012_sessions-avg_ordered-sub-006.nii.gz /export/home/ranigera/IDCH-rsfMRI/data/group_ICA/groupICA20.sub_avg/IC0012_sessions-avg_ordered-sub-007.nii.gz /export/home/ranigera/IDCH-rsfMRI/data/group_ICA/groupICA20.sub_avg/IC0012_sessions-avg_ordered-sub-008.nii.gz /export/home/ranigera/IDCH-rsfMRI/data/group_ICA/groupICA20.sub_avg/IC0012_sessions-avg_ordered-sub-009.nii.gz /export/home/ranigera/IDCH-rsfMRI/data/group_ICA/groupICA20.sub_avg/IC0012_sessions-avg_ordered-sub-010.nii.gz /export/home/ranigera/IDCH-rsfMRI/data/group_ICA/groupICA20.sub_avg/IC0012_sessions-avg_ordered-sub-011.nii.gz /export/home/ranigera/IDCH-rsfMRI/data/group_ICA/groupICA20.sub_avg/IC0012_sessions-avg_ordered-sub-012.nii.gz /export/home/ranigera/IDCH-rsfMRI/data/group_ICA/groupICA20.sub_avg/IC0012_sessions-avg_ordered-sub-013.nii.gz /export/home/ranigera/IDCH-rsfMRI/data/group_ICA/groupICA20.sub_avg/IC0012_sessions-avg_ordered-sub-014.nii.gz /export/home/ranigera/IDCH-rsfMRI/data/group_ICA/groupICA20.sub_avg/IC0012_sessions-avg_ordered-sub-015.nii.gz /export/home/ranigera/IDCH-rsfMRI/data/group_ICA/groupICA20.sub_avg/IC0012_sessions-avg_ordered-sub-016.nii.gz /export/home/ranigera/IDCH-rsfMRI/data/group_ICA/groupICA20.sub_avg/IC0012_sessions-avg_ordered-sub-017.nii.gz /export/home/ranigera/IDCH-rsfMRI/data/group_ICA/groupICA20.sub_avg/IC0012_sessions-avg_ordered-sub-018.nii.gz /export/home/ranigera/IDCH-rsfMRI/data/group_ICA/groupICA20.sub_avg/IC0012_sessions-avg_ordered-sub-019.nii.gz /export/home/ranigera/IDCH-rsfMRI/data/group_ICA/groupICA20.sub_avg/IC0012_sessions-avg_ordered-sub-020.nii.gz\n",
      "Concatenating subjects of IC ** 13 ** (after averaging the sessions)\n",
      "Concatenating to form: /export/home/ranigera/IDCH-rsfMRI/data/group_ICA/groupICA20.sub_avg_dr/dr_stage2_ic0013_sub-sessions-avg.nii.gz\n",
      "fslmerge -t /export/home/ranigera/IDCH-rsfMRI/data/group_ICA/groupICA20.sub_avg_dr/dr_stage2_ic0013_sub-sessions-avg.nii.gz /export/home/ranigera/IDCH-rsfMRI/data/group_ICA/groupICA20.sub_avg/IC0013_sessions-avg_ordered-sub-000.nii.gz /export/home/ranigera/IDCH-rsfMRI/data/group_ICA/groupICA20.sub_avg/IC0013_sessions-avg_ordered-sub-001.nii.gz /export/home/ranigera/IDCH-rsfMRI/data/group_ICA/groupICA20.sub_avg/IC0013_sessions-avg_ordered-sub-002.nii.gz /export/home/ranigera/IDCH-rsfMRI/data/group_ICA/groupICA20.sub_avg/IC0013_sessions-avg_ordered-sub-003.nii.gz /export/home/ranigera/IDCH-rsfMRI/data/group_ICA/groupICA20.sub_avg/IC0013_sessions-avg_ordered-sub-004.nii.gz /export/home/ranigera/IDCH-rsfMRI/data/group_ICA/groupICA20.sub_avg/IC0013_sessions-avg_ordered-sub-005.nii.gz /export/home/ranigera/IDCH-rsfMRI/data/group_ICA/groupICA20.sub_avg/IC0013_sessions-avg_ordered-sub-006.nii.gz /export/home/ranigera/IDCH-rsfMRI/data/group_ICA/groupICA20.sub_avg/IC0013_sessions-avg_ordered-sub-007.nii.gz /export/home/ranigera/IDCH-rsfMRI/data/group_ICA/groupICA20.sub_avg/IC0013_sessions-avg_ordered-sub-008.nii.gz /export/home/ranigera/IDCH-rsfMRI/data/group_ICA/groupICA20.sub_avg/IC0013_sessions-avg_ordered-sub-009.nii.gz /export/home/ranigera/IDCH-rsfMRI/data/group_ICA/groupICA20.sub_avg/IC0013_sessions-avg_ordered-sub-010.nii.gz /export/home/ranigera/IDCH-rsfMRI/data/group_ICA/groupICA20.sub_avg/IC0013_sessions-avg_ordered-sub-011.nii.gz /export/home/ranigera/IDCH-rsfMRI/data/group_ICA/groupICA20.sub_avg/IC0013_sessions-avg_ordered-sub-012.nii.gz /export/home/ranigera/IDCH-rsfMRI/data/group_ICA/groupICA20.sub_avg/IC0013_sessions-avg_ordered-sub-013.nii.gz /export/home/ranigera/IDCH-rsfMRI/data/group_ICA/groupICA20.sub_avg/IC0013_sessions-avg_ordered-sub-014.nii.gz /export/home/ranigera/IDCH-rsfMRI/data/group_ICA/groupICA20.sub_avg/IC0013_sessions-avg_ordered-sub-015.nii.gz /export/home/ranigera/IDCH-rsfMRI/data/group_ICA/groupICA20.sub_avg/IC0013_sessions-avg_ordered-sub-016.nii.gz /export/home/ranigera/IDCH-rsfMRI/data/group_ICA/groupICA20.sub_avg/IC0013_sessions-avg_ordered-sub-017.nii.gz /export/home/ranigera/IDCH-rsfMRI/data/group_ICA/groupICA20.sub_avg/IC0013_sessions-avg_ordered-sub-018.nii.gz /export/home/ranigera/IDCH-rsfMRI/data/group_ICA/groupICA20.sub_avg/IC0013_sessions-avg_ordered-sub-019.nii.gz /export/home/ranigera/IDCH-rsfMRI/data/group_ICA/groupICA20.sub_avg/IC0013_sessions-avg_ordered-sub-020.nii.gz\n",
      "Concatenating subjects of IC ** 14 ** (after averaging the sessions)\n",
      "Concatenating to form: /export/home/ranigera/IDCH-rsfMRI/data/group_ICA/groupICA20.sub_avg_dr/dr_stage2_ic0014_sub-sessions-avg.nii.gz\n",
      "fslmerge -t /export/home/ranigera/IDCH-rsfMRI/data/group_ICA/groupICA20.sub_avg_dr/dr_stage2_ic0014_sub-sessions-avg.nii.gz /export/home/ranigera/IDCH-rsfMRI/data/group_ICA/groupICA20.sub_avg/IC0014_sessions-avg_ordered-sub-000.nii.gz /export/home/ranigera/IDCH-rsfMRI/data/group_ICA/groupICA20.sub_avg/IC0014_sessions-avg_ordered-sub-001.nii.gz /export/home/ranigera/IDCH-rsfMRI/data/group_ICA/groupICA20.sub_avg/IC0014_sessions-avg_ordered-sub-002.nii.gz /export/home/ranigera/IDCH-rsfMRI/data/group_ICA/groupICA20.sub_avg/IC0014_sessions-avg_ordered-sub-003.nii.gz /export/home/ranigera/IDCH-rsfMRI/data/group_ICA/groupICA20.sub_avg/IC0014_sessions-avg_ordered-sub-004.nii.gz /export/home/ranigera/IDCH-rsfMRI/data/group_ICA/groupICA20.sub_avg/IC0014_sessions-avg_ordered-sub-005.nii.gz /export/home/ranigera/IDCH-rsfMRI/data/group_ICA/groupICA20.sub_avg/IC0014_sessions-avg_ordered-sub-006.nii.gz /export/home/ranigera/IDCH-rsfMRI/data/group_ICA/groupICA20.sub_avg/IC0014_sessions-avg_ordered-sub-007.nii.gz /export/home/ranigera/IDCH-rsfMRI/data/group_ICA/groupICA20.sub_avg/IC0014_sessions-avg_ordered-sub-008.nii.gz /export/home/ranigera/IDCH-rsfMRI/data/group_ICA/groupICA20.sub_avg/IC0014_sessions-avg_ordered-sub-009.nii.gz /export/home/ranigera/IDCH-rsfMRI/data/group_ICA/groupICA20.sub_avg/IC0014_sessions-avg_ordered-sub-010.nii.gz /export/home/ranigera/IDCH-rsfMRI/data/group_ICA/groupICA20.sub_avg/IC0014_sessions-avg_ordered-sub-011.nii.gz /export/home/ranigera/IDCH-rsfMRI/data/group_ICA/groupICA20.sub_avg/IC0014_sessions-avg_ordered-sub-012.nii.gz /export/home/ranigera/IDCH-rsfMRI/data/group_ICA/groupICA20.sub_avg/IC0014_sessions-avg_ordered-sub-013.nii.gz /export/home/ranigera/IDCH-rsfMRI/data/group_ICA/groupICA20.sub_avg/IC0014_sessions-avg_ordered-sub-014.nii.gz /export/home/ranigera/IDCH-rsfMRI/data/group_ICA/groupICA20.sub_avg/IC0014_sessions-avg_ordered-sub-015.nii.gz /export/home/ranigera/IDCH-rsfMRI/data/group_ICA/groupICA20.sub_avg/IC0014_sessions-avg_ordered-sub-016.nii.gz /export/home/ranigera/IDCH-rsfMRI/data/group_ICA/groupICA20.sub_avg/IC0014_sessions-avg_ordered-sub-017.nii.gz /export/home/ranigera/IDCH-rsfMRI/data/group_ICA/groupICA20.sub_avg/IC0014_sessions-avg_ordered-sub-018.nii.gz /export/home/ranigera/IDCH-rsfMRI/data/group_ICA/groupICA20.sub_avg/IC0014_sessions-avg_ordered-sub-019.nii.gz /export/home/ranigera/IDCH-rsfMRI/data/group_ICA/groupICA20.sub_avg/IC0014_sessions-avg_ordered-sub-020.nii.gz\n",
      "Concatenating subjects of IC ** 15 ** (after averaging the sessions)\n",
      "Concatenating to form: /export/home/ranigera/IDCH-rsfMRI/data/group_ICA/groupICA20.sub_avg_dr/dr_stage2_ic0015_sub-sessions-avg.nii.gz\n",
      "fslmerge -t /export/home/ranigera/IDCH-rsfMRI/data/group_ICA/groupICA20.sub_avg_dr/dr_stage2_ic0015_sub-sessions-avg.nii.gz /export/home/ranigera/IDCH-rsfMRI/data/group_ICA/groupICA20.sub_avg/IC0015_sessions-avg_ordered-sub-000.nii.gz /export/home/ranigera/IDCH-rsfMRI/data/group_ICA/groupICA20.sub_avg/IC0015_sessions-avg_ordered-sub-001.nii.gz /export/home/ranigera/IDCH-rsfMRI/data/group_ICA/groupICA20.sub_avg/IC0015_sessions-avg_ordered-sub-002.nii.gz /export/home/ranigera/IDCH-rsfMRI/data/group_ICA/groupICA20.sub_avg/IC0015_sessions-avg_ordered-sub-003.nii.gz /export/home/ranigera/IDCH-rsfMRI/data/group_ICA/groupICA20.sub_avg/IC0015_sessions-avg_ordered-sub-004.nii.gz /export/home/ranigera/IDCH-rsfMRI/data/group_ICA/groupICA20.sub_avg/IC0015_sessions-avg_ordered-sub-005.nii.gz /export/home/ranigera/IDCH-rsfMRI/data/group_ICA/groupICA20.sub_avg/IC0015_sessions-avg_ordered-sub-006.nii.gz /export/home/ranigera/IDCH-rsfMRI/data/group_ICA/groupICA20.sub_avg/IC0015_sessions-avg_ordered-sub-007.nii.gz /export/home/ranigera/IDCH-rsfMRI/data/group_ICA/groupICA20.sub_avg/IC0015_sessions-avg_ordered-sub-008.nii.gz /export/home/ranigera/IDCH-rsfMRI/data/group_ICA/groupICA20.sub_avg/IC0015_sessions-avg_ordered-sub-009.nii.gz /export/home/ranigera/IDCH-rsfMRI/data/group_ICA/groupICA20.sub_avg/IC0015_sessions-avg_ordered-sub-010.nii.gz /export/home/ranigera/IDCH-rsfMRI/data/group_ICA/groupICA20.sub_avg/IC0015_sessions-avg_ordered-sub-011.nii.gz /export/home/ranigera/IDCH-rsfMRI/data/group_ICA/groupICA20.sub_avg/IC0015_sessions-avg_ordered-sub-012.nii.gz /export/home/ranigera/IDCH-rsfMRI/data/group_ICA/groupICA20.sub_avg/IC0015_sessions-avg_ordered-sub-013.nii.gz /export/home/ranigera/IDCH-rsfMRI/data/group_ICA/groupICA20.sub_avg/IC0015_sessions-avg_ordered-sub-014.nii.gz /export/home/ranigera/IDCH-rsfMRI/data/group_ICA/groupICA20.sub_avg/IC0015_sessions-avg_ordered-sub-015.nii.gz /export/home/ranigera/IDCH-rsfMRI/data/group_ICA/groupICA20.sub_avg/IC0015_sessions-avg_ordered-sub-016.nii.gz /export/home/ranigera/IDCH-rsfMRI/data/group_ICA/groupICA20.sub_avg/IC0015_sessions-avg_ordered-sub-017.nii.gz /export/home/ranigera/IDCH-rsfMRI/data/group_ICA/groupICA20.sub_avg/IC0015_sessions-avg_ordered-sub-018.nii.gz /export/home/ranigera/IDCH-rsfMRI/data/group_ICA/groupICA20.sub_avg/IC0015_sessions-avg_ordered-sub-019.nii.gz /export/home/ranigera/IDCH-rsfMRI/data/group_ICA/groupICA20.sub_avg/IC0015_sessions-avg_ordered-sub-020.nii.gz\n",
      "Concatenating subjects of IC ** 16 ** (after averaging the sessions)\n",
      "Concatenating to form: /export/home/ranigera/IDCH-rsfMRI/data/group_ICA/groupICA20.sub_avg_dr/dr_stage2_ic0016_sub-sessions-avg.nii.gz\n",
      "fslmerge -t /export/home/ranigera/IDCH-rsfMRI/data/group_ICA/groupICA20.sub_avg_dr/dr_stage2_ic0016_sub-sessions-avg.nii.gz /export/home/ranigera/IDCH-rsfMRI/data/group_ICA/groupICA20.sub_avg/IC0016_sessions-avg_ordered-sub-000.nii.gz /export/home/ranigera/IDCH-rsfMRI/data/group_ICA/groupICA20.sub_avg/IC0016_sessions-avg_ordered-sub-001.nii.gz /export/home/ranigera/IDCH-rsfMRI/data/group_ICA/groupICA20.sub_avg/IC0016_sessions-avg_ordered-sub-002.nii.gz /export/home/ranigera/IDCH-rsfMRI/data/group_ICA/groupICA20.sub_avg/IC0016_sessions-avg_ordered-sub-003.nii.gz /export/home/ranigera/IDCH-rsfMRI/data/group_ICA/groupICA20.sub_avg/IC0016_sessions-avg_ordered-sub-004.nii.gz /export/home/ranigera/IDCH-rsfMRI/data/group_ICA/groupICA20.sub_avg/IC0016_sessions-avg_ordered-sub-005.nii.gz /export/home/ranigera/IDCH-rsfMRI/data/group_ICA/groupICA20.sub_avg/IC0016_sessions-avg_ordered-sub-006.nii.gz /export/home/ranigera/IDCH-rsfMRI/data/group_ICA/groupICA20.sub_avg/IC0016_sessions-avg_ordered-sub-007.nii.gz /export/home/ranigera/IDCH-rsfMRI/data/group_ICA/groupICA20.sub_avg/IC0016_sessions-avg_ordered-sub-008.nii.gz /export/home/ranigera/IDCH-rsfMRI/data/group_ICA/groupICA20.sub_avg/IC0016_sessions-avg_ordered-sub-009.nii.gz /export/home/ranigera/IDCH-rsfMRI/data/group_ICA/groupICA20.sub_avg/IC0016_sessions-avg_ordered-sub-010.nii.gz /export/home/ranigera/IDCH-rsfMRI/data/group_ICA/groupICA20.sub_avg/IC0016_sessions-avg_ordered-sub-011.nii.gz /export/home/ranigera/IDCH-rsfMRI/data/group_ICA/groupICA20.sub_avg/IC0016_sessions-avg_ordered-sub-012.nii.gz /export/home/ranigera/IDCH-rsfMRI/data/group_ICA/groupICA20.sub_avg/IC0016_sessions-avg_ordered-sub-013.nii.gz /export/home/ranigera/IDCH-rsfMRI/data/group_ICA/groupICA20.sub_avg/IC0016_sessions-avg_ordered-sub-014.nii.gz /export/home/ranigera/IDCH-rsfMRI/data/group_ICA/groupICA20.sub_avg/IC0016_sessions-avg_ordered-sub-015.nii.gz /export/home/ranigera/IDCH-rsfMRI/data/group_ICA/groupICA20.sub_avg/IC0016_sessions-avg_ordered-sub-016.nii.gz /export/home/ranigera/IDCH-rsfMRI/data/group_ICA/groupICA20.sub_avg/IC0016_sessions-avg_ordered-sub-017.nii.gz /export/home/ranigera/IDCH-rsfMRI/data/group_ICA/groupICA20.sub_avg/IC0016_sessions-avg_ordered-sub-018.nii.gz /export/home/ranigera/IDCH-rsfMRI/data/group_ICA/groupICA20.sub_avg/IC0016_sessions-avg_ordered-sub-019.nii.gz /export/home/ranigera/IDCH-rsfMRI/data/group_ICA/groupICA20.sub_avg/IC0016_sessions-avg_ordered-sub-020.nii.gz\n",
      "Concatenating subjects of IC ** 17 ** (after averaging the sessions)\n",
      "Concatenating to form: /export/home/ranigera/IDCH-rsfMRI/data/group_ICA/groupICA20.sub_avg_dr/dr_stage2_ic0017_sub-sessions-avg.nii.gz\n",
      "fslmerge -t /export/home/ranigera/IDCH-rsfMRI/data/group_ICA/groupICA20.sub_avg_dr/dr_stage2_ic0017_sub-sessions-avg.nii.gz /export/home/ranigera/IDCH-rsfMRI/data/group_ICA/groupICA20.sub_avg/IC0017_sessions-avg_ordered-sub-000.nii.gz /export/home/ranigera/IDCH-rsfMRI/data/group_ICA/groupICA20.sub_avg/IC0017_sessions-avg_ordered-sub-001.nii.gz /export/home/ranigera/IDCH-rsfMRI/data/group_ICA/groupICA20.sub_avg/IC0017_sessions-avg_ordered-sub-002.nii.gz /export/home/ranigera/IDCH-rsfMRI/data/group_ICA/groupICA20.sub_avg/IC0017_sessions-avg_ordered-sub-003.nii.gz /export/home/ranigera/IDCH-rsfMRI/data/group_ICA/groupICA20.sub_avg/IC0017_sessions-avg_ordered-sub-004.nii.gz /export/home/ranigera/IDCH-rsfMRI/data/group_ICA/groupICA20.sub_avg/IC0017_sessions-avg_ordered-sub-005.nii.gz /export/home/ranigera/IDCH-rsfMRI/data/group_ICA/groupICA20.sub_avg/IC0017_sessions-avg_ordered-sub-006.nii.gz /export/home/ranigera/IDCH-rsfMRI/data/group_ICA/groupICA20.sub_avg/IC0017_sessions-avg_ordered-sub-007.nii.gz /export/home/ranigera/IDCH-rsfMRI/data/group_ICA/groupICA20.sub_avg/IC0017_sessions-avg_ordered-sub-008.nii.gz /export/home/ranigera/IDCH-rsfMRI/data/group_ICA/groupICA20.sub_avg/IC0017_sessions-avg_ordered-sub-009.nii.gz /export/home/ranigera/IDCH-rsfMRI/data/group_ICA/groupICA20.sub_avg/IC0017_sessions-avg_ordered-sub-010.nii.gz /export/home/ranigera/IDCH-rsfMRI/data/group_ICA/groupICA20.sub_avg/IC0017_sessions-avg_ordered-sub-011.nii.gz /export/home/ranigera/IDCH-rsfMRI/data/group_ICA/groupICA20.sub_avg/IC0017_sessions-avg_ordered-sub-012.nii.gz /export/home/ranigera/IDCH-rsfMRI/data/group_ICA/groupICA20.sub_avg/IC0017_sessions-avg_ordered-sub-013.nii.gz /export/home/ranigera/IDCH-rsfMRI/data/group_ICA/groupICA20.sub_avg/IC0017_sessions-avg_ordered-sub-014.nii.gz /export/home/ranigera/IDCH-rsfMRI/data/group_ICA/groupICA20.sub_avg/IC0017_sessions-avg_ordered-sub-015.nii.gz /export/home/ranigera/IDCH-rsfMRI/data/group_ICA/groupICA20.sub_avg/IC0017_sessions-avg_ordered-sub-016.nii.gz /export/home/ranigera/IDCH-rsfMRI/data/group_ICA/groupICA20.sub_avg/IC0017_sessions-avg_ordered-sub-017.nii.gz /export/home/ranigera/IDCH-rsfMRI/data/group_ICA/groupICA20.sub_avg/IC0017_sessions-avg_ordered-sub-018.nii.gz /export/home/ranigera/IDCH-rsfMRI/data/group_ICA/groupICA20.sub_avg/IC0017_sessions-avg_ordered-sub-019.nii.gz /export/home/ranigera/IDCH-rsfMRI/data/group_ICA/groupICA20.sub_avg/IC0017_sessions-avg_ordered-sub-020.nii.gz\n",
      "Concatenating subjects of IC ** 18 ** (after averaging the sessions)\n",
      "Concatenating to form: /export/home/ranigera/IDCH-rsfMRI/data/group_ICA/groupICA20.sub_avg_dr/dr_stage2_ic0018_sub-sessions-avg.nii.gz\n",
      "fslmerge -t /export/home/ranigera/IDCH-rsfMRI/data/group_ICA/groupICA20.sub_avg_dr/dr_stage2_ic0018_sub-sessions-avg.nii.gz /export/home/ranigera/IDCH-rsfMRI/data/group_ICA/groupICA20.sub_avg/IC0018_sessions-avg_ordered-sub-000.nii.gz /export/home/ranigera/IDCH-rsfMRI/data/group_ICA/groupICA20.sub_avg/IC0018_sessions-avg_ordered-sub-001.nii.gz /export/home/ranigera/IDCH-rsfMRI/data/group_ICA/groupICA20.sub_avg/IC0018_sessions-avg_ordered-sub-002.nii.gz /export/home/ranigera/IDCH-rsfMRI/data/group_ICA/groupICA20.sub_avg/IC0018_sessions-avg_ordered-sub-003.nii.gz /export/home/ranigera/IDCH-rsfMRI/data/group_ICA/groupICA20.sub_avg/IC0018_sessions-avg_ordered-sub-004.nii.gz /export/home/ranigera/IDCH-rsfMRI/data/group_ICA/groupICA20.sub_avg/IC0018_sessions-avg_ordered-sub-005.nii.gz /export/home/ranigera/IDCH-rsfMRI/data/group_ICA/groupICA20.sub_avg/IC0018_sessions-avg_ordered-sub-006.nii.gz /export/home/ranigera/IDCH-rsfMRI/data/group_ICA/groupICA20.sub_avg/IC0018_sessions-avg_ordered-sub-007.nii.gz /export/home/ranigera/IDCH-rsfMRI/data/group_ICA/groupICA20.sub_avg/IC0018_sessions-avg_ordered-sub-008.nii.gz /export/home/ranigera/IDCH-rsfMRI/data/group_ICA/groupICA20.sub_avg/IC0018_sessions-avg_ordered-sub-009.nii.gz /export/home/ranigera/IDCH-rsfMRI/data/group_ICA/groupICA20.sub_avg/IC0018_sessions-avg_ordered-sub-010.nii.gz /export/home/ranigera/IDCH-rsfMRI/data/group_ICA/groupICA20.sub_avg/IC0018_sessions-avg_ordered-sub-011.nii.gz /export/home/ranigera/IDCH-rsfMRI/data/group_ICA/groupICA20.sub_avg/IC0018_sessions-avg_ordered-sub-012.nii.gz /export/home/ranigera/IDCH-rsfMRI/data/group_ICA/groupICA20.sub_avg/IC0018_sessions-avg_ordered-sub-013.nii.gz /export/home/ranigera/IDCH-rsfMRI/data/group_ICA/groupICA20.sub_avg/IC0018_sessions-avg_ordered-sub-014.nii.gz /export/home/ranigera/IDCH-rsfMRI/data/group_ICA/groupICA20.sub_avg/IC0018_sessions-avg_ordered-sub-015.nii.gz /export/home/ranigera/IDCH-rsfMRI/data/group_ICA/groupICA20.sub_avg/IC0018_sessions-avg_ordered-sub-016.nii.gz /export/home/ranigera/IDCH-rsfMRI/data/group_ICA/groupICA20.sub_avg/IC0018_sessions-avg_ordered-sub-017.nii.gz /export/home/ranigera/IDCH-rsfMRI/data/group_ICA/groupICA20.sub_avg/IC0018_sessions-avg_ordered-sub-018.nii.gz /export/home/ranigera/IDCH-rsfMRI/data/group_ICA/groupICA20.sub_avg/IC0018_sessions-avg_ordered-sub-019.nii.gz /export/home/ranigera/IDCH-rsfMRI/data/group_ICA/groupICA20.sub_avg/IC0018_sessions-avg_ordered-sub-020.nii.gz\n",
      "Concatenating subjects of IC ** 19 ** (after averaging the sessions)\n",
      "Concatenating to form: /export/home/ranigera/IDCH-rsfMRI/data/group_ICA/groupICA20.sub_avg_dr/dr_stage2_ic0019_sub-sessions-avg.nii.gz\n",
      "fslmerge -t /export/home/ranigera/IDCH-rsfMRI/data/group_ICA/groupICA20.sub_avg_dr/dr_stage2_ic0019_sub-sessions-avg.nii.gz /export/home/ranigera/IDCH-rsfMRI/data/group_ICA/groupICA20.sub_avg/IC0019_sessions-avg_ordered-sub-000.nii.gz /export/home/ranigera/IDCH-rsfMRI/data/group_ICA/groupICA20.sub_avg/IC0019_sessions-avg_ordered-sub-001.nii.gz /export/home/ranigera/IDCH-rsfMRI/data/group_ICA/groupICA20.sub_avg/IC0019_sessions-avg_ordered-sub-002.nii.gz /export/home/ranigera/IDCH-rsfMRI/data/group_ICA/groupICA20.sub_avg/IC0019_sessions-avg_ordered-sub-003.nii.gz /export/home/ranigera/IDCH-rsfMRI/data/group_ICA/groupICA20.sub_avg/IC0019_sessions-avg_ordered-sub-004.nii.gz /export/home/ranigera/IDCH-rsfMRI/data/group_ICA/groupICA20.sub_avg/IC0019_sessions-avg_ordered-sub-005.nii.gz /export/home/ranigera/IDCH-rsfMRI/data/group_ICA/groupICA20.sub_avg/IC0019_sessions-avg_ordered-sub-006.nii.gz /export/home/ranigera/IDCH-rsfMRI/data/group_ICA/groupICA20.sub_avg/IC0019_sessions-avg_ordered-sub-007.nii.gz /export/home/ranigera/IDCH-rsfMRI/data/group_ICA/groupICA20.sub_avg/IC0019_sessions-avg_ordered-sub-008.nii.gz /export/home/ranigera/IDCH-rsfMRI/data/group_ICA/groupICA20.sub_avg/IC0019_sessions-avg_ordered-sub-009.nii.gz /export/home/ranigera/IDCH-rsfMRI/data/group_ICA/groupICA20.sub_avg/IC0019_sessions-avg_ordered-sub-010.nii.gz /export/home/ranigera/IDCH-rsfMRI/data/group_ICA/groupICA20.sub_avg/IC0019_sessions-avg_ordered-sub-011.nii.gz /export/home/ranigera/IDCH-rsfMRI/data/group_ICA/groupICA20.sub_avg/IC0019_sessions-avg_ordered-sub-012.nii.gz /export/home/ranigera/IDCH-rsfMRI/data/group_ICA/groupICA20.sub_avg/IC0019_sessions-avg_ordered-sub-013.nii.gz /export/home/ranigera/IDCH-rsfMRI/data/group_ICA/groupICA20.sub_avg/IC0019_sessions-avg_ordered-sub-014.nii.gz /export/home/ranigera/IDCH-rsfMRI/data/group_ICA/groupICA20.sub_avg/IC0019_sessions-avg_ordered-sub-015.nii.gz /export/home/ranigera/IDCH-rsfMRI/data/group_ICA/groupICA20.sub_avg/IC0019_sessions-avg_ordered-sub-016.nii.gz /export/home/ranigera/IDCH-rsfMRI/data/group_ICA/groupICA20.sub_avg/IC0019_sessions-avg_ordered-sub-017.nii.gz /export/home/ranigera/IDCH-rsfMRI/data/group_ICA/groupICA20.sub_avg/IC0019_sessions-avg_ordered-sub-018.nii.gz /export/home/ranigera/IDCH-rsfMRI/data/group_ICA/groupICA20.sub_avg/IC0019_sessions-avg_ordered-sub-019.nii.gz /export/home/ranigera/IDCH-rsfMRI/data/group_ICA/groupICA20.sub_avg/IC0019_sessions-avg_ordered-sub-020.nii.gz\n"
     ]
    }
   ],
   "source": [
    "n_ICs=20\n",
    "\n",
    "sub_avg_concat_folder = os.path.join(group_ICA_path, f'groupICA{n_ICs}.sub_avg_dr')\n",
    "if not os.path.exists(sub_avg_concat_folder):\n",
    "    os.makedirs(sub_avg_concat_folder)\n",
    "\n",
    "for IC in range(n_ICs):\n",
    "    print(f'Concatenating subjects of IC ** {IC} ** (after averaging the sessions)')\n",
    "    IC_str = str(IC).zfill(4) # get the IC into a string that has 4 digits\n",
    "\n",
    "    sub_avg_files = glob.glob(f'{sub_avg_folder}/IC{IC_str}_sessions-avg_ordered-sub-*.nii.gz')\n",
    "    sub_avg_files.sort()\n",
    "    \n",
    "    # file to create:\n",
    "    file_name = f'{stage2_ic_file_prefix}{IC_str}_sub-sessions-avg.nii.gz'\n",
    "    file_path = os.path.join(sub_avg_concat_folder, file_name)\n",
    "\n",
    "    # concatenate subject files to recreate the IC file with all subjects (after averaging the sessions):\n",
    "    print('Concatenating to form:', file_path)\n",
    "    if os.path.exists(file_path):\n",
    "        print(f'{file_path} already exists')\n",
    "        continue\n",
    "\n",
    "    print(f'fslmerge -t {file_path} {\" \".join(item for item in sub_avg_files)}') # split the IC into sub-ICs:\n",
    "    os.system(f'fslmerge -t {file_path} {\" \".join(item for item in sub_avg_files)}') # split the IC into sub-ICs:\n",
    "\n"
   ]
  },
  {
   "cell_type": "code",
   "execution_count": null,
   "metadata": {},
   "outputs": [],
   "source": []
  },
  {
   "cell_type": "markdown",
   "metadata": {},
   "source": [
    "# Test correlation with behavior (using randomise)"
   ]
  },
  {
   "cell_type": "markdown",
   "metadata": {},
   "source": [
    "## Create design matrix and con file (random for now, replace with actual behavior)"
   ]
  },
  {
   "cell_type": "code",
   "execution_count": null,
   "metadata": {},
   "outputs": [
    {
     "name": "stdout",
     "output_type": "stream",
     "text": [
      "Design matrix file '/export/home/ranigera/IDCH-rsfMRI/data/group_ICA/behav_corr_design_matrix.mat' created successfully!\n"
     ]
    }
   ],
   "source": [
    "# TEMP TEMP TEMP\n",
    "num_files = len(rs_data_files)\n",
    "# Generate random numbers for the EV\n",
    "ev_data = np.random.rand(num_files)\n",
    "\n",
    "# Prepare the .mat file content\n",
    "header = f\"\"\"/NumWaves\\t1\n",
    "/NumPoints\\t{num_files}\n",
    "\n",
    "/Matrix\n",
    "\"\"\"\n",
    "\n",
    "# Format the matrix content\n",
    "matrix_content = \"\\n\".join([f\"{value}\\t\" for value in ev_data])\n",
    "\n",
    "# Combine header and matrix content\n",
    "design_matrix_content = header + matrix_content\n",
    "# Write the design matrix to a file\n",
    "output_file = \"behav_corr_design_matrix.mat\"\n",
    "output_file = os.path.join(group_ICA_path, output_file)\n",
    "with open(output_file, 'w') as file:\n",
    "    file.write(design_matrix_content)\n",
    "\n",
    "print(f\"Design matrix file '{output_file}' created successfully!\")\n"
   ]
  },
  {
   "cell_type": "code",
   "execution_count": null,
   "metadata": {},
   "outputs": [
    {
     "name": "stdout",
     "output_type": "stream",
     "text": [
      "/ContrastName1\tPos corr\n",
      "/ContrastName2\tNeg corr\n",
      "/NumWaves\t1\n",
      "/NumContrasts\t2\n",
      "\n",
      "/Matrix\n",
      "1.0\n",
      "-1.0\n",
      "Contrast matrix file '/export/home/ranigera/IDCH-rsfMRI/data/group_ICA/behav_corr_design_matrix.con' created successfully!\n"
     ]
    }
   ],
   "source": [
    "# TEMP TEMP TEMP\n",
    "# Parameters for the contrast file\n",
    "contrast_name1 = \"Pos corr\"\n",
    "contrast_name2 = \"Neg corr\"\n",
    "num_waves = 1  # As per your new design, only one EV\n",
    "num_contrasts = 2  # Two contrasts: positive and negative\n",
    "\n",
    "# Matrix for contrasts\n",
    "# Positive correlation: 1 for the EV\n",
    "# Negative correlation: -1 for the EV\n",
    "contrast_matrix = [\n",
    "    [1.0],  # Positive correlation\n",
    "    [-1.0]  # Negative correlation\n",
    "]\n",
    "\n",
    "# Create the .con file content\n",
    "header = f\"\"\"/ContrastName1\\t{contrast_name1}\n",
    "/ContrastName2\\t{contrast_name2}\n",
    "/NumWaves\\t{num_waves}\n",
    "/NumContrasts\\t{num_contrasts}\n",
    "\n",
    "/Matrix\n",
    "\"\"\"\n",
    "\n",
    "# Format the matrix content\n",
    "matrix_content = \"\\n\".join([\"\\t\".join([f\"{value}\" for value in row]) for row in contrast_matrix])\n",
    "\n",
    "# Combine header and matrix content\n",
    "contrast_matrix_content = header + matrix_content\n",
    "\n",
    "# Write the contrast matrix to a file\n",
    "output_file = \"behav_corr_design_matrix.con\"\n",
    "output_file = os.path.join(group_ICA_path, output_file)\n",
    "with open(output_file, 'w') as file:\n",
    "    file.write(contrast_matrix_content)\n",
    "print(contrast_matrix_content)\n",
    "print(f\"Contrast matrix file '{output_file}' created successfully!\")\n"
   ]
  },
  {
   "cell_type": "markdown",
   "metadata": {},
   "source": [
    "# Archive"
   ]
  },
  {
   "cell_type": "code",
   "execution_count": null,
   "metadata": {},
   "outputs": [],
   "source": []
  },
  {
   "cell_type": "code",
   "execution_count": null,
   "metadata": {},
   "outputs": [],
   "source": []
  },
  {
   "cell_type": "markdown",
   "metadata": {},
   "source": [
    "## Create design matrix and con file (random for now, replace with actual behavior)"
   ]
  },
  {
   "cell_type": "code",
   "execution_count": null,
   "metadata": {},
   "outputs": [
    {
     "name": "stdout",
     "output_type": "stream",
     "text": [
      "Design matrix file '/export/home/ranigera/IDCH-rsfMRI/data/group_ICA/behav_corr_design_matrix.mat' created successfully!\n"
     ]
    }
   ],
   "source": [
    "# TEMP TEMP TEMP\n",
    "num_files = len(rs_data_files)\n",
    "# Generate random numbers for the EV\n",
    "ev_data = np.random.rand(num_files)\n",
    "\n",
    "# Prepare the .mat file content\n",
    "header = f\"\"\"/NumWaves\\t1\n",
    "/NumPoints\\t{num_files}\n",
    "\n",
    "/Matrix\n",
    "\"\"\"\n",
    "\n",
    "# Format the matrix content\n",
    "matrix_content = \"\\n\".join([f\"{value}\\t\" for value in ev_data])\n",
    "\n",
    "# Combine header and matrix content\n",
    "design_matrix_content = header + matrix_content\n",
    "# Write the design matrix to a file\n",
    "output_file = \"behav_corr_design_matrix.mat\"\n",
    "output_file = os.path.join(group_ICA_path, output_file)\n",
    "with open(output_file, 'w') as file:\n",
    "    file.write(design_matrix_content)\n",
    "\n",
    "print(f\"Design matrix file '{output_file}' created successfully!\")\n"
   ]
  },
  {
   "cell_type": "code",
   "execution_count": null,
   "metadata": {},
   "outputs": [
    {
     "name": "stdout",
     "output_type": "stream",
     "text": [
      "/ContrastName1\tPos corr\n",
      "/ContrastName2\tNeg corr\n",
      "/NumWaves\t1\n",
      "/NumContrasts\t2\n",
      "\n",
      "/Matrix\n",
      "1.0\n",
      "-1.0\n",
      "Contrast matrix file '/export/home/ranigera/IDCH-rsfMRI/data/group_ICA/behav_corr_design_matrix.con' created successfully!\n"
     ]
    }
   ],
   "source": [
    "# TEMP TEMP TEMP\n",
    "# Parameters for the contrast file\n",
    "contrast_name1 = \"Pos corr\"\n",
    "contrast_name2 = \"Neg corr\"\n",
    "num_waves = 1  # As per your new design, only one EV\n",
    "num_contrasts = 2  # Two contrasts: positive and negative\n",
    "\n",
    "# Matrix for contrasts\n",
    "# Positive correlation: 1 for the EV\n",
    "# Negative correlation: -1 for the EV\n",
    "contrast_matrix = [\n",
    "    [1.0],  # Positive correlation\n",
    "    [-1.0]  # Negative correlation\n",
    "]\n",
    "\n",
    "# Create the .con file content\n",
    "header = f\"\"\"/ContrastName1\\t{contrast_name1}\n",
    "/ContrastName2\\t{contrast_name2}\n",
    "/NumWaves\\t{num_waves}\n",
    "/NumContrasts\\t{num_contrasts}\n",
    "\n",
    "/Matrix\n",
    "\"\"\"\n",
    "\n",
    "# Format the matrix content\n",
    "matrix_content = \"\\n\".join([\"\\t\".join([f\"{value}\" for value in row]) for row in contrast_matrix])\n",
    "\n",
    "# Combine header and matrix content\n",
    "contrast_matrix_content = header + matrix_content\n",
    "\n",
    "# Write the contrast matrix to a file\n",
    "output_file = \"behav_corr_design_matrix.con\"\n",
    "output_file = os.path.join(group_ICA_path, output_file)\n",
    "with open(output_file, 'w') as file:\n",
    "    file.write(contrast_matrix_content)\n",
    "print(contrast_matrix_content)\n",
    "print(f\"Contrast matrix file '{output_file}' created successfully!\")\n"
   ]
  },
  {
   "cell_type": "code",
   "execution_count": null,
   "metadata": {},
   "outputs": [],
   "source": []
  },
  {
   "cell_type": "code",
   "execution_count": null,
   "metadata": {},
   "outputs": [],
   "source": []
  },
  {
   "cell_type": "code",
   "execution_count": null,
   "metadata": {},
   "outputs": [
    {
     "name": "stdout",
     "output_type": "stream",
     "text": [
      "dual_regression /export/home/ranigera/IDCH-rsfMRI/data/group_ICA/groupICA50/melodic_IC 1       /export/home/ranigera/IDCH-rsfMRI/data/group_ICA/behav_corr_design_matrix.mat /export/home/ranigera/IDCH-rsfMRI/data/group_ICA/behav_corr_design_matrix.con 5000       /export/home/ranigera/IDCH-rsfMRI/data/group_ICA/groupICA50.dr /export/home/ranigera/IDCH-rsfMRI/data/pre_proc_data_IDCH_subNums/sub-101_ses-1_rest_MNI152-smoothAROMAnonaggr_bold.nii.gz /export/home/ranigera/IDCH-rsfMRI/data/pre_proc_data_IDCH_subNums/sub-101_ses-2_rest_MNI152-smoothAROMAnonaggr_bold.nii.gz /export/home/ranigera/IDCH-rsfMRI/data/pre_proc_data_IDCH_subNums/sub-102_ses-1_rest_MNI152-smoothAROMAnonaggr_bold.nii.gz /export/home/ranigera/IDCH-rsfMRI/data/pre_proc_data_IDCH_subNums/sub-102_ses-2_rest_MNI152-smoothAROMAnonaggr_bold.nii.gz /export/home/ranigera/IDCH-rsfMRI/data/pre_proc_data_IDCH_subNums/sub-103_ses-1_rest_MNI152-smoothAROMAnonaggr_bold.nii.gz /export/home/ranigera/IDCH-rsfMRI/data/pre_proc_data_IDCH_subNums/sub-103_ses-2_rest_MNI152-smoothAROMAnonaggr_bold.nii.gz /export/home/ranigera/IDCH-rsfMRI/data/pre_proc_data_IDCH_subNums/sub-104_ses-1_rest_MNI152-smoothAROMAnonaggr_bold.nii.gz /export/home/ranigera/IDCH-rsfMRI/data/pre_proc_data_IDCH_subNums/sub-104_ses-2_rest_MNI152-smoothAROMAnonaggr_bold.nii.gz /export/home/ranigera/IDCH-rsfMRI/data/pre_proc_data_IDCH_subNums/sub-105_ses-1_rest_MNI152-smoothAROMAnonaggr_bold.nii.gz /export/home/ranigera/IDCH-rsfMRI/data/pre_proc_data_IDCH_subNums/sub-105_ses-2_rest_MNI152-smoothAROMAnonaggr_bold.nii.gz /export/home/ranigera/IDCH-rsfMRI/data/pre_proc_data_IDCH_subNums/sub-106_ses-1_rest_MNI152-smoothAROMAnonaggr_bold.nii.gz /export/home/ranigera/IDCH-rsfMRI/data/pre_proc_data_IDCH_subNums/sub-106_ses-2_rest_MNI152-smoothAROMAnonaggr_bold.nii.gz /export/home/ranigera/IDCH-rsfMRI/data/pre_proc_data_IDCH_subNums/sub-107_ses-1_rest_MNI152-smoothAROMAnonaggr_bold.nii.gz /export/home/ranigera/IDCH-rsfMRI/data/pre_proc_data_IDCH_subNums/sub-107_ses-2_rest_MNI152-smoothAROMAnonaggr_bold.nii.gz /export/home/ranigera/IDCH-rsfMRI/data/pre_proc_data_IDCH_subNums/sub-108_ses-1_rest_MNI152-smoothAROMAnonaggr_bold.nii.gz /export/home/ranigera/IDCH-rsfMRI/data/pre_proc_data_IDCH_subNums/sub-108_ses-2_rest_MNI152-smoothAROMAnonaggr_bold.nii.gz /export/home/ranigera/IDCH-rsfMRI/data/pre_proc_data_IDCH_subNums/sub-109_ses-1_rest_MNI152-smoothAROMAnonaggr_bold.nii.gz /export/home/ranigera/IDCH-rsfMRI/data/pre_proc_data_IDCH_subNums/sub-109_ses-2_rest_MNI152-smoothAROMAnonaggr_bold.nii.gz /export/home/ranigera/IDCH-rsfMRI/data/pre_proc_data_IDCH_subNums/sub-110_ses-1_rest_MNI152-smoothAROMAnonaggr_bold.nii.gz /export/home/ranigera/IDCH-rsfMRI/data/pre_proc_data_IDCH_subNums/sub-110_ses-2_rest_MNI152-smoothAROMAnonaggr_bold.nii.gz /export/home/ranigera/IDCH-rsfMRI/data/pre_proc_data_IDCH_subNums/sub-111_ses-1_rest_MNI152-smoothAROMAnonaggr_bold.nii.gz /export/home/ranigera/IDCH-rsfMRI/data/pre_proc_data_IDCH_subNums/sub-111_ses-2_rest_MNI152-smoothAROMAnonaggr_bold.nii.gz /export/home/ranigera/IDCH-rsfMRI/data/pre_proc_data_IDCH_subNums/sub-112_ses-1_rest_MNI152-smoothAROMAnonaggr_bold.nii.gz /export/home/ranigera/IDCH-rsfMRI/data/pre_proc_data_IDCH_subNums/sub-112_ses-2_rest_MNI152-smoothAROMAnonaggr_bold.nii.gz /export/home/ranigera/IDCH-rsfMRI/data/pre_proc_data_IDCH_subNums/sub-113_ses-1_rest_MNI152-smoothAROMAnonaggr_bold.nii.gz /export/home/ranigera/IDCH-rsfMRI/data/pre_proc_data_IDCH_subNums/sub-113_ses-2_rest_MNI152-smoothAROMAnonaggr_bold.nii.gz /export/home/ranigera/IDCH-rsfMRI/data/pre_proc_data_IDCH_subNums/sub-114_ses-1_rest_MNI152-smoothAROMAnonaggr_bold.nii.gz /export/home/ranigera/IDCH-rsfMRI/data/pre_proc_data_IDCH_subNums/sub-114_ses-2_rest_MNI152-smoothAROMAnonaggr_bold.nii.gz /export/home/ranigera/IDCH-rsfMRI/data/pre_proc_data_IDCH_subNums/sub-115_ses-1_rest_MNI152-smoothAROMAnonaggr_bold.nii.gz /export/home/ranigera/IDCH-rsfMRI/data/pre_proc_data_IDCH_subNums/sub-115_ses-2_rest_MNI152-smoothAROMAnonaggr_bold.nii.gz /export/home/ranigera/IDCH-rsfMRI/data/pre_proc_data_IDCH_subNums/sub-117_ses-1_rest_MNI152-smoothAROMAnonaggr_bold.nii.gz /export/home/ranigera/IDCH-rsfMRI/data/pre_proc_data_IDCH_subNums/sub-117_ses-2_rest_MNI152-smoothAROMAnonaggr_bold.nii.gz /export/home/ranigera/IDCH-rsfMRI/data/pre_proc_data_IDCH_subNums/sub-118_ses-1_rest_MNI152-smoothAROMAnonaggr_bold.nii.gz /export/home/ranigera/IDCH-rsfMRI/data/pre_proc_data_IDCH_subNums/sub-118_ses-2_rest_MNI152-smoothAROMAnonaggr_bold.nii.gz /export/home/ranigera/IDCH-rsfMRI/data/pre_proc_data_IDCH_subNums/sub-119_ses-1_rest_MNI152-smoothAROMAnonaggr_bold.nii.gz /export/home/ranigera/IDCH-rsfMRI/data/pre_proc_data_IDCH_subNums/sub-119_ses-2_rest_MNI152-smoothAROMAnonaggr_bold.nii.gz /export/home/ranigera/IDCH-rsfMRI/data/pre_proc_data_IDCH_subNums/sub-120_ses-1_rest_MNI152-smoothAROMAnonaggr_bold.nii.gz /export/home/ranigera/IDCH-rsfMRI/data/pre_proc_data_IDCH_subNums/sub-120_ses-2_rest_MNI152-smoothAROMAnonaggr_bold.nii.gz /export/home/ranigera/IDCH-rsfMRI/data/pre_proc_data_IDCH_subNums/sub-121_ses-1_rest_MNI152-smoothAROMAnonaggr_bold.nii.gz /export/home/ranigera/IDCH-rsfMRI/data/pre_proc_data_IDCH_subNums/sub-121_ses-2_rest_MNI152-smoothAROMAnonaggr_bold.nii.gz /export/home/ranigera/IDCH-rsfMRI/data/pre_proc_data_IDCH_subNums/sub-122_ses-1_rest_MNI152-smoothAROMAnonaggr_bold.nii.gz /export/home/ranigera/IDCH-rsfMRI/data/pre_proc_data_IDCH_subNums/sub-122_ses-2_rest_MNI152-smoothAROMAnonaggr_bold.nii.gz\n"
     ]
    }
   ],
   "source": [
    "n_ICs=50 # number of independent components\n",
    "print(f'dual_regression {group_ICA_path}/groupICA{n_ICs}/melodic_IC 1 \\\n",
    "      {group_ICA_path}/behav_corr_design_matrix.mat {group_ICA_path}/behav_corr_design_matrix.con 5000 \\\n",
    "      {group_ICA_path}/groupICA{n_ICs}.dr {\" \".join(item for item in rs_data_files)}')\n"
   ]
  },
  {
   "cell_type": "code",
   "execution_count": null,
   "metadata": {},
   "outputs": [
    {
     "name": "stdout",
     "output_type": "stream",
     "text": [
      "dual_regression /export/home/ranigera/IDCH-rsfMRI/data/group_ICA/groupICA30/melodic_IC 1       -1 0       /export/home/ranigera/IDCH-rsfMRI/data/group_ICA/groupICA30.dr /export/home/ranigera/IDCH-rsfMRI/data/pre_proc_data_IDCH_subNums/sub-101_ses-1_rest_MNI152-smoothAROMAnonaggr_bold.nii.gz /export/home/ranigera/IDCH-rsfMRI/data/pre_proc_data_IDCH_subNums/sub-101_ses-2_rest_MNI152-smoothAROMAnonaggr_bold.nii.gz /export/home/ranigera/IDCH-rsfMRI/data/pre_proc_data_IDCH_subNums/sub-102_ses-1_rest_MNI152-smoothAROMAnonaggr_bold.nii.gz /export/home/ranigera/IDCH-rsfMRI/data/pre_proc_data_IDCH_subNums/sub-102_ses-2_rest_MNI152-smoothAROMAnonaggr_bold.nii.gz /export/home/ranigera/IDCH-rsfMRI/data/pre_proc_data_IDCH_subNums/sub-103_ses-1_rest_MNI152-smoothAROMAnonaggr_bold.nii.gz /export/home/ranigera/IDCH-rsfMRI/data/pre_proc_data_IDCH_subNums/sub-103_ses-2_rest_MNI152-smoothAROMAnonaggr_bold.nii.gz /export/home/ranigera/IDCH-rsfMRI/data/pre_proc_data_IDCH_subNums/sub-104_ses-1_rest_MNI152-smoothAROMAnonaggr_bold.nii.gz /export/home/ranigera/IDCH-rsfMRI/data/pre_proc_data_IDCH_subNums/sub-104_ses-2_rest_MNI152-smoothAROMAnonaggr_bold.nii.gz /export/home/ranigera/IDCH-rsfMRI/data/pre_proc_data_IDCH_subNums/sub-105_ses-1_rest_MNI152-smoothAROMAnonaggr_bold.nii.gz /export/home/ranigera/IDCH-rsfMRI/data/pre_proc_data_IDCH_subNums/sub-105_ses-2_rest_MNI152-smoothAROMAnonaggr_bold.nii.gz /export/home/ranigera/IDCH-rsfMRI/data/pre_proc_data_IDCH_subNums/sub-106_ses-1_rest_MNI152-smoothAROMAnonaggr_bold.nii.gz /export/home/ranigera/IDCH-rsfMRI/data/pre_proc_data_IDCH_subNums/sub-106_ses-2_rest_MNI152-smoothAROMAnonaggr_bold.nii.gz /export/home/ranigera/IDCH-rsfMRI/data/pre_proc_data_IDCH_subNums/sub-107_ses-1_rest_MNI152-smoothAROMAnonaggr_bold.nii.gz /export/home/ranigera/IDCH-rsfMRI/data/pre_proc_data_IDCH_subNums/sub-107_ses-2_rest_MNI152-smoothAROMAnonaggr_bold.nii.gz /export/home/ranigera/IDCH-rsfMRI/data/pre_proc_data_IDCH_subNums/sub-108_ses-1_rest_MNI152-smoothAROMAnonaggr_bold.nii.gz /export/home/ranigera/IDCH-rsfMRI/data/pre_proc_data_IDCH_subNums/sub-108_ses-2_rest_MNI152-smoothAROMAnonaggr_bold.nii.gz /export/home/ranigera/IDCH-rsfMRI/data/pre_proc_data_IDCH_subNums/sub-109_ses-1_rest_MNI152-smoothAROMAnonaggr_bold.nii.gz /export/home/ranigera/IDCH-rsfMRI/data/pre_proc_data_IDCH_subNums/sub-109_ses-2_rest_MNI152-smoothAROMAnonaggr_bold.nii.gz /export/home/ranigera/IDCH-rsfMRI/data/pre_proc_data_IDCH_subNums/sub-110_ses-1_rest_MNI152-smoothAROMAnonaggr_bold.nii.gz /export/home/ranigera/IDCH-rsfMRI/data/pre_proc_data_IDCH_subNums/sub-110_ses-2_rest_MNI152-smoothAROMAnonaggr_bold.nii.gz /export/home/ranigera/IDCH-rsfMRI/data/pre_proc_data_IDCH_subNums/sub-111_ses-1_rest_MNI152-smoothAROMAnonaggr_bold.nii.gz /export/home/ranigera/IDCH-rsfMRI/data/pre_proc_data_IDCH_subNums/sub-111_ses-2_rest_MNI152-smoothAROMAnonaggr_bold.nii.gz /export/home/ranigera/IDCH-rsfMRI/data/pre_proc_data_IDCH_subNums/sub-112_ses-1_rest_MNI152-smoothAROMAnonaggr_bold.nii.gz /export/home/ranigera/IDCH-rsfMRI/data/pre_proc_data_IDCH_subNums/sub-112_ses-2_rest_MNI152-smoothAROMAnonaggr_bold.nii.gz /export/home/ranigera/IDCH-rsfMRI/data/pre_proc_data_IDCH_subNums/sub-113_ses-1_rest_MNI152-smoothAROMAnonaggr_bold.nii.gz /export/home/ranigera/IDCH-rsfMRI/data/pre_proc_data_IDCH_subNums/sub-113_ses-2_rest_MNI152-smoothAROMAnonaggr_bold.nii.gz /export/home/ranigera/IDCH-rsfMRI/data/pre_proc_data_IDCH_subNums/sub-114_ses-1_rest_MNI152-smoothAROMAnonaggr_bold.nii.gz /export/home/ranigera/IDCH-rsfMRI/data/pre_proc_data_IDCH_subNums/sub-114_ses-2_rest_MNI152-smoothAROMAnonaggr_bold.nii.gz /export/home/ranigera/IDCH-rsfMRI/data/pre_proc_data_IDCH_subNums/sub-115_ses-1_rest_MNI152-smoothAROMAnonaggr_bold.nii.gz /export/home/ranigera/IDCH-rsfMRI/data/pre_proc_data_IDCH_subNums/sub-115_ses-2_rest_MNI152-smoothAROMAnonaggr_bold.nii.gz /export/home/ranigera/IDCH-rsfMRI/data/pre_proc_data_IDCH_subNums/sub-117_ses-1_rest_MNI152-smoothAROMAnonaggr_bold.nii.gz /export/home/ranigera/IDCH-rsfMRI/data/pre_proc_data_IDCH_subNums/sub-117_ses-2_rest_MNI152-smoothAROMAnonaggr_bold.nii.gz /export/home/ranigera/IDCH-rsfMRI/data/pre_proc_data_IDCH_subNums/sub-118_ses-1_rest_MNI152-smoothAROMAnonaggr_bold.nii.gz /export/home/ranigera/IDCH-rsfMRI/data/pre_proc_data_IDCH_subNums/sub-118_ses-2_rest_MNI152-smoothAROMAnonaggr_bold.nii.gz /export/home/ranigera/IDCH-rsfMRI/data/pre_proc_data_IDCH_subNums/sub-119_ses-1_rest_MNI152-smoothAROMAnonaggr_bold.nii.gz /export/home/ranigera/IDCH-rsfMRI/data/pre_proc_data_IDCH_subNums/sub-119_ses-2_rest_MNI152-smoothAROMAnonaggr_bold.nii.gz /export/home/ranigera/IDCH-rsfMRI/data/pre_proc_data_IDCH_subNums/sub-120_ses-1_rest_MNI152-smoothAROMAnonaggr_bold.nii.gz /export/home/ranigera/IDCH-rsfMRI/data/pre_proc_data_IDCH_subNums/sub-120_ses-2_rest_MNI152-smoothAROMAnonaggr_bold.nii.gz /export/home/ranigera/IDCH-rsfMRI/data/pre_proc_data_IDCH_subNums/sub-121_ses-1_rest_MNI152-smoothAROMAnonaggr_bold.nii.gz /export/home/ranigera/IDCH-rsfMRI/data/pre_proc_data_IDCH_subNums/sub-121_ses-2_rest_MNI152-smoothAROMAnonaggr_bold.nii.gz /export/home/ranigera/IDCH-rsfMRI/data/pre_proc_data_IDCH_subNums/sub-122_ses-1_rest_MNI152-smoothAROMAnonaggr_bold.nii.gz /export/home/ranigera/IDCH-rsfMRI/data/pre_proc_data_IDCH_subNums/sub-122_ses-2_rest_MNI152-smoothAROMAnonaggr_bold.nii.gz\n"
     ]
    }
   ],
   "source": [
    "n_ICs=30 # number of independent components\n",
    "print(f'dual_regression {group_ICA_path}/groupICA{n_ICs}/melodic_IC 1 \\\n",
    "      -1 0 \\\n",
    "      {group_ICA_path}/groupICA{n_ICs}.dr {\" \".join(item for item in rs_data_files)}')\n"
   ]
  },
  {
   "cell_type": "code",
   "execution_count": null,
   "metadata": {},
   "outputs": [
    {
     "name": "stdout",
     "output_type": "stream",
     "text": [
      "dual_regression /export/home/ranigera/IDCH-rsfMRI/data/group_ICA/groupICA40/melodic_IC 1       /export/home/ranigera/IDCH-rsfMRI/data/group_ICA/behav_corr_design_matrix.mat /export/home/ranigera/IDCH-rsfMRI/data/group_ICA/behav_corr_design_matrix.con 1       /export/home/ranigera/IDCH-rsfMRI/data/group_ICA/groupICA40.dr /export/home/ranigera/IDCH-rsfMRI/data/pre_proc_data_IDCH_subNums/sub-101_ses-1_rest_MNI152-smoothAROMAnonaggr_bold.nii.gz /export/home/ranigera/IDCH-rsfMRI/data/pre_proc_data_IDCH_subNums/sub-101_ses-2_rest_MNI152-smoothAROMAnonaggr_bold.nii.gz /export/home/ranigera/IDCH-rsfMRI/data/pre_proc_data_IDCH_subNums/sub-102_ses-1_rest_MNI152-smoothAROMAnonaggr_bold.nii.gz /export/home/ranigera/IDCH-rsfMRI/data/pre_proc_data_IDCH_subNums/sub-102_ses-2_rest_MNI152-smoothAROMAnonaggr_bold.nii.gz /export/home/ranigera/IDCH-rsfMRI/data/pre_proc_data_IDCH_subNums/sub-103_ses-1_rest_MNI152-smoothAROMAnonaggr_bold.nii.gz /export/home/ranigera/IDCH-rsfMRI/data/pre_proc_data_IDCH_subNums/sub-103_ses-2_rest_MNI152-smoothAROMAnonaggr_bold.nii.gz /export/home/ranigera/IDCH-rsfMRI/data/pre_proc_data_IDCH_subNums/sub-104_ses-1_rest_MNI152-smoothAROMAnonaggr_bold.nii.gz /export/home/ranigera/IDCH-rsfMRI/data/pre_proc_data_IDCH_subNums/sub-104_ses-2_rest_MNI152-smoothAROMAnonaggr_bold.nii.gz /export/home/ranigera/IDCH-rsfMRI/data/pre_proc_data_IDCH_subNums/sub-105_ses-1_rest_MNI152-smoothAROMAnonaggr_bold.nii.gz /export/home/ranigera/IDCH-rsfMRI/data/pre_proc_data_IDCH_subNums/sub-105_ses-2_rest_MNI152-smoothAROMAnonaggr_bold.nii.gz /export/home/ranigera/IDCH-rsfMRI/data/pre_proc_data_IDCH_subNums/sub-106_ses-1_rest_MNI152-smoothAROMAnonaggr_bold.nii.gz /export/home/ranigera/IDCH-rsfMRI/data/pre_proc_data_IDCH_subNums/sub-106_ses-2_rest_MNI152-smoothAROMAnonaggr_bold.nii.gz /export/home/ranigera/IDCH-rsfMRI/data/pre_proc_data_IDCH_subNums/sub-107_ses-1_rest_MNI152-smoothAROMAnonaggr_bold.nii.gz /export/home/ranigera/IDCH-rsfMRI/data/pre_proc_data_IDCH_subNums/sub-107_ses-2_rest_MNI152-smoothAROMAnonaggr_bold.nii.gz /export/home/ranigera/IDCH-rsfMRI/data/pre_proc_data_IDCH_subNums/sub-108_ses-1_rest_MNI152-smoothAROMAnonaggr_bold.nii.gz /export/home/ranigera/IDCH-rsfMRI/data/pre_proc_data_IDCH_subNums/sub-108_ses-2_rest_MNI152-smoothAROMAnonaggr_bold.nii.gz /export/home/ranigera/IDCH-rsfMRI/data/pre_proc_data_IDCH_subNums/sub-109_ses-1_rest_MNI152-smoothAROMAnonaggr_bold.nii.gz /export/home/ranigera/IDCH-rsfMRI/data/pre_proc_data_IDCH_subNums/sub-109_ses-2_rest_MNI152-smoothAROMAnonaggr_bold.nii.gz /export/home/ranigera/IDCH-rsfMRI/data/pre_proc_data_IDCH_subNums/sub-110_ses-1_rest_MNI152-smoothAROMAnonaggr_bold.nii.gz /export/home/ranigera/IDCH-rsfMRI/data/pre_proc_data_IDCH_subNums/sub-110_ses-2_rest_MNI152-smoothAROMAnonaggr_bold.nii.gz /export/home/ranigera/IDCH-rsfMRI/data/pre_proc_data_IDCH_subNums/sub-111_ses-1_rest_MNI152-smoothAROMAnonaggr_bold.nii.gz /export/home/ranigera/IDCH-rsfMRI/data/pre_proc_data_IDCH_subNums/sub-111_ses-2_rest_MNI152-smoothAROMAnonaggr_bold.nii.gz /export/home/ranigera/IDCH-rsfMRI/data/pre_proc_data_IDCH_subNums/sub-112_ses-1_rest_MNI152-smoothAROMAnonaggr_bold.nii.gz /export/home/ranigera/IDCH-rsfMRI/data/pre_proc_data_IDCH_subNums/sub-112_ses-2_rest_MNI152-smoothAROMAnonaggr_bold.nii.gz /export/home/ranigera/IDCH-rsfMRI/data/pre_proc_data_IDCH_subNums/sub-113_ses-1_rest_MNI152-smoothAROMAnonaggr_bold.nii.gz /export/home/ranigera/IDCH-rsfMRI/data/pre_proc_data_IDCH_subNums/sub-113_ses-2_rest_MNI152-smoothAROMAnonaggr_bold.nii.gz /export/home/ranigera/IDCH-rsfMRI/data/pre_proc_data_IDCH_subNums/sub-114_ses-1_rest_MNI152-smoothAROMAnonaggr_bold.nii.gz /export/home/ranigera/IDCH-rsfMRI/data/pre_proc_data_IDCH_subNums/sub-114_ses-2_rest_MNI152-smoothAROMAnonaggr_bold.nii.gz /export/home/ranigera/IDCH-rsfMRI/data/pre_proc_data_IDCH_subNums/sub-115_ses-1_rest_MNI152-smoothAROMAnonaggr_bold.nii.gz /export/home/ranigera/IDCH-rsfMRI/data/pre_proc_data_IDCH_subNums/sub-115_ses-2_rest_MNI152-smoothAROMAnonaggr_bold.nii.gz /export/home/ranigera/IDCH-rsfMRI/data/pre_proc_data_IDCH_subNums/sub-117_ses-1_rest_MNI152-smoothAROMAnonaggr_bold.nii.gz /export/home/ranigera/IDCH-rsfMRI/data/pre_proc_data_IDCH_subNums/sub-117_ses-2_rest_MNI152-smoothAROMAnonaggr_bold.nii.gz /export/home/ranigera/IDCH-rsfMRI/data/pre_proc_data_IDCH_subNums/sub-118_ses-1_rest_MNI152-smoothAROMAnonaggr_bold.nii.gz /export/home/ranigera/IDCH-rsfMRI/data/pre_proc_data_IDCH_subNums/sub-118_ses-2_rest_MNI152-smoothAROMAnonaggr_bold.nii.gz /export/home/ranigera/IDCH-rsfMRI/data/pre_proc_data_IDCH_subNums/sub-119_ses-1_rest_MNI152-smoothAROMAnonaggr_bold.nii.gz /export/home/ranigera/IDCH-rsfMRI/data/pre_proc_data_IDCH_subNums/sub-119_ses-2_rest_MNI152-smoothAROMAnonaggr_bold.nii.gz /export/home/ranigera/IDCH-rsfMRI/data/pre_proc_data_IDCH_subNums/sub-120_ses-1_rest_MNI152-smoothAROMAnonaggr_bold.nii.gz /export/home/ranigera/IDCH-rsfMRI/data/pre_proc_data_IDCH_subNums/sub-120_ses-2_rest_MNI152-smoothAROMAnonaggr_bold.nii.gz /export/home/ranigera/IDCH-rsfMRI/data/pre_proc_data_IDCH_subNums/sub-121_ses-1_rest_MNI152-smoothAROMAnonaggr_bold.nii.gz /export/home/ranigera/IDCH-rsfMRI/data/pre_proc_data_IDCH_subNums/sub-121_ses-2_rest_MNI152-smoothAROMAnonaggr_bold.nii.gz /export/home/ranigera/IDCH-rsfMRI/data/pre_proc_data_IDCH_subNums/sub-122_ses-1_rest_MNI152-smoothAROMAnonaggr_bold.nii.gz /export/home/ranigera/IDCH-rsfMRI/data/pre_proc_data_IDCH_subNums/sub-122_ses-2_rest_MNI152-smoothAROMAnonaggr_bold.nii.gz\n"
     ]
    }
   ],
   "source": [
    "n_ICs=40 # number of independent components\n",
    "print(f'dual_regression {group_ICA_path}/groupICA{n_ICs}/melodic_IC 1 \\\n",
    "      {group_ICA_path}/behav_corr_design_matrix.mat {group_ICA_path}/behav_corr_design_matrix.con 1 \\\n",
    "      {group_ICA_path}/groupICA{n_ICs}.dr {\" \".join(item for item in rs_data_files)}')\n"
   ]
  },
  {
   "cell_type": "code",
   "execution_count": null,
   "metadata": {},
   "outputs": [
    {
     "name": "stdout",
     "output_type": "stream",
     "text": [
      "dual_regression /export/home/ranigera/IDCH-rsfMRI/data/group_ICA/groupICA40/melodic_IC 1       /export/home/ranigera/IDCH-rsfMRI/data/group_ICA/behav_corr_design_matrix.mat /export/home/ranigera/IDCH-rsfMRI/data/group_ICA/behav_corr_design_matrix.con 0       /export/home/ranigera/IDCH-rsfMRI/data/group_ICA/groupICA40.dr /export/home/ranigera/IDCH-rsfMRI/data/pre_proc_data_IDCH_subNums/sub-101_ses-1_rest_MNI152-smoothAROMAnonaggr_bold.nii.gz /export/home/ranigera/IDCH-rsfMRI/data/pre_proc_data_IDCH_subNums/sub-101_ses-2_rest_MNI152-smoothAROMAnonaggr_bold.nii.gz /export/home/ranigera/IDCH-rsfMRI/data/pre_proc_data_IDCH_subNums/sub-102_ses-1_rest_MNI152-smoothAROMAnonaggr_bold.nii.gz /export/home/ranigera/IDCH-rsfMRI/data/pre_proc_data_IDCH_subNums/sub-102_ses-2_rest_MNI152-smoothAROMAnonaggr_bold.nii.gz /export/home/ranigera/IDCH-rsfMRI/data/pre_proc_data_IDCH_subNums/sub-103_ses-1_rest_MNI152-smoothAROMAnonaggr_bold.nii.gz /export/home/ranigera/IDCH-rsfMRI/data/pre_proc_data_IDCH_subNums/sub-103_ses-2_rest_MNI152-smoothAROMAnonaggr_bold.nii.gz /export/home/ranigera/IDCH-rsfMRI/data/pre_proc_data_IDCH_subNums/sub-104_ses-1_rest_MNI152-smoothAROMAnonaggr_bold.nii.gz /export/home/ranigera/IDCH-rsfMRI/data/pre_proc_data_IDCH_subNums/sub-104_ses-2_rest_MNI152-smoothAROMAnonaggr_bold.nii.gz /export/home/ranigera/IDCH-rsfMRI/data/pre_proc_data_IDCH_subNums/sub-105_ses-1_rest_MNI152-smoothAROMAnonaggr_bold.nii.gz /export/home/ranigera/IDCH-rsfMRI/data/pre_proc_data_IDCH_subNums/sub-105_ses-2_rest_MNI152-smoothAROMAnonaggr_bold.nii.gz /export/home/ranigera/IDCH-rsfMRI/data/pre_proc_data_IDCH_subNums/sub-106_ses-1_rest_MNI152-smoothAROMAnonaggr_bold.nii.gz /export/home/ranigera/IDCH-rsfMRI/data/pre_proc_data_IDCH_subNums/sub-106_ses-2_rest_MNI152-smoothAROMAnonaggr_bold.nii.gz /export/home/ranigera/IDCH-rsfMRI/data/pre_proc_data_IDCH_subNums/sub-107_ses-1_rest_MNI152-smoothAROMAnonaggr_bold.nii.gz /export/home/ranigera/IDCH-rsfMRI/data/pre_proc_data_IDCH_subNums/sub-107_ses-2_rest_MNI152-smoothAROMAnonaggr_bold.nii.gz /export/home/ranigera/IDCH-rsfMRI/data/pre_proc_data_IDCH_subNums/sub-108_ses-1_rest_MNI152-smoothAROMAnonaggr_bold.nii.gz /export/home/ranigera/IDCH-rsfMRI/data/pre_proc_data_IDCH_subNums/sub-108_ses-2_rest_MNI152-smoothAROMAnonaggr_bold.nii.gz /export/home/ranigera/IDCH-rsfMRI/data/pre_proc_data_IDCH_subNums/sub-109_ses-1_rest_MNI152-smoothAROMAnonaggr_bold.nii.gz /export/home/ranigera/IDCH-rsfMRI/data/pre_proc_data_IDCH_subNums/sub-109_ses-2_rest_MNI152-smoothAROMAnonaggr_bold.nii.gz /export/home/ranigera/IDCH-rsfMRI/data/pre_proc_data_IDCH_subNums/sub-110_ses-1_rest_MNI152-smoothAROMAnonaggr_bold.nii.gz /export/home/ranigera/IDCH-rsfMRI/data/pre_proc_data_IDCH_subNums/sub-110_ses-2_rest_MNI152-smoothAROMAnonaggr_bold.nii.gz /export/home/ranigera/IDCH-rsfMRI/data/pre_proc_data_IDCH_subNums/sub-111_ses-1_rest_MNI152-smoothAROMAnonaggr_bold.nii.gz /export/home/ranigera/IDCH-rsfMRI/data/pre_proc_data_IDCH_subNums/sub-111_ses-2_rest_MNI152-smoothAROMAnonaggr_bold.nii.gz /export/home/ranigera/IDCH-rsfMRI/data/pre_proc_data_IDCH_subNums/sub-112_ses-1_rest_MNI152-smoothAROMAnonaggr_bold.nii.gz /export/home/ranigera/IDCH-rsfMRI/data/pre_proc_data_IDCH_subNums/sub-112_ses-2_rest_MNI152-smoothAROMAnonaggr_bold.nii.gz /export/home/ranigera/IDCH-rsfMRI/data/pre_proc_data_IDCH_subNums/sub-113_ses-1_rest_MNI152-smoothAROMAnonaggr_bold.nii.gz /export/home/ranigera/IDCH-rsfMRI/data/pre_proc_data_IDCH_subNums/sub-113_ses-2_rest_MNI152-smoothAROMAnonaggr_bold.nii.gz /export/home/ranigera/IDCH-rsfMRI/data/pre_proc_data_IDCH_subNums/sub-114_ses-1_rest_MNI152-smoothAROMAnonaggr_bold.nii.gz /export/home/ranigera/IDCH-rsfMRI/data/pre_proc_data_IDCH_subNums/sub-114_ses-2_rest_MNI152-smoothAROMAnonaggr_bold.nii.gz /export/home/ranigera/IDCH-rsfMRI/data/pre_proc_data_IDCH_subNums/sub-115_ses-1_rest_MNI152-smoothAROMAnonaggr_bold.nii.gz /export/home/ranigera/IDCH-rsfMRI/data/pre_proc_data_IDCH_subNums/sub-115_ses-2_rest_MNI152-smoothAROMAnonaggr_bold.nii.gz /export/home/ranigera/IDCH-rsfMRI/data/pre_proc_data_IDCH_subNums/sub-117_ses-1_rest_MNI152-smoothAROMAnonaggr_bold.nii.gz /export/home/ranigera/IDCH-rsfMRI/data/pre_proc_data_IDCH_subNums/sub-117_ses-2_rest_MNI152-smoothAROMAnonaggr_bold.nii.gz /export/home/ranigera/IDCH-rsfMRI/data/pre_proc_data_IDCH_subNums/sub-118_ses-1_rest_MNI152-smoothAROMAnonaggr_bold.nii.gz /export/home/ranigera/IDCH-rsfMRI/data/pre_proc_data_IDCH_subNums/sub-118_ses-2_rest_MNI152-smoothAROMAnonaggr_bold.nii.gz /export/home/ranigera/IDCH-rsfMRI/data/pre_proc_data_IDCH_subNums/sub-119_ses-1_rest_MNI152-smoothAROMAnonaggr_bold.nii.gz /export/home/ranigera/IDCH-rsfMRI/data/pre_proc_data_IDCH_subNums/sub-119_ses-2_rest_MNI152-smoothAROMAnonaggr_bold.nii.gz /export/home/ranigera/IDCH-rsfMRI/data/pre_proc_data_IDCH_subNums/sub-120_ses-1_rest_MNI152-smoothAROMAnonaggr_bold.nii.gz /export/home/ranigera/IDCH-rsfMRI/data/pre_proc_data_IDCH_subNums/sub-120_ses-2_rest_MNI152-smoothAROMAnonaggr_bold.nii.gz /export/home/ranigera/IDCH-rsfMRI/data/pre_proc_data_IDCH_subNums/sub-121_ses-1_rest_MNI152-smoothAROMAnonaggr_bold.nii.gz /export/home/ranigera/IDCH-rsfMRI/data/pre_proc_data_IDCH_subNums/sub-121_ses-2_rest_MNI152-smoothAROMAnonaggr_bold.nii.gz /export/home/ranigera/IDCH-rsfMRI/data/pre_proc_data_IDCH_subNums/sub-122_ses-1_rest_MNI152-smoothAROMAnonaggr_bold.nii.gz /export/home/ranigera/IDCH-rsfMRI/data/pre_proc_data_IDCH_subNums/sub-122_ses-2_rest_MNI152-smoothAROMAnonaggr_bold.nii.gz\n"
     ]
    }
   ],
   "source": [
    "n_ICs=40 # number of independent components\n",
    "print(f'dual_regression {group_ICA_path}/groupICA{n_ICs}/melodic_IC 1 \\\n",
    "      {group_ICA_path}/behav_corr_design_matrix.mat {group_ICA_path}/behav_corr_design_matrix.con 0 \\\n",
    "      {group_ICA_path}/groupICA{n_ICs}.dr {\" \".join(item for item in rs_data_files)}')\n"
   ]
  }
 ],
 "metadata": {
  "kernelspec": {
   "display_name": "Python 3",
   "language": "python",
   "name": "python3"
  },
  "language_info": {
   "codemirror_mode": {
    "name": "ipython",
    "version": 3
   },
   "file_extension": ".py",
   "mimetype": "text/x-python",
   "name": "python",
   "nbconvert_exporter": "python",
   "pygments_lexer": "ipython3",
   "version": "3.12.4"
  }
 },
 "nbformat": 4,
 "nbformat_minor": 2
}
