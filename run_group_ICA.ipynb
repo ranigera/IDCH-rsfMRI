{
 "cells": [
  {
   "cell_type": "markdown",
   "metadata": {},
   "source": [
    "# MEAN CENTER BEHAVIOR!\n",
    "# Have to rerun everything when i have more subjects - as the group ICA needs to be re-estimated and then all that comes afterwards (which is essentially everything)\n",
    "\n",
    "For future self:\n",
    "* don't use the _Z files in .dr folders. Less recommended in my understanding. \n",
    "\n",
    "\n",
    "* to install packages and maybe run some stuff in the terminal I might need sometimes to run: conda activate myenv\n"
   ]
  },
  {
   "cell_type": "markdown",
   "metadata": {},
   "source": [
    "# Import stuff + params"
   ]
  },
  {
   "cell_type": "code",
   "execution_count": 1,
   "metadata": {},
   "outputs": [],
   "source": [
    "import os\n",
    "import numpy as np\n",
    "\n",
    "# need to set up to run fsl.\n",
    "os.environ['FSLDIR'] = '/export/home/ranigera/fsl'\n",
    "os.environ['PATH'] += ':/export/home/ranigera/fsl/bin'\n",
    "\n",
    "group_ICA_path = '/export/home/ranigera/IDCH-rsfMRI/data/group_ICA'\n",
    "rs_data_path = '/export/home/ranigera/IDCH-rsfMRI/data/pre_proc_data'\n",
    "rs_data_path_IDCH_sub_Nums = '/export/home/ranigera/IDCH-rsfMRI/data/pre_proc_data_IDCH_subNums'\n",
    "\n",
    "input_files_file_name = 'input_files.txt'\n",
    "input_files_txt_path = os.path.join(group_ICA_path, input_files_file_name)\n",
    "n_ICs = 50 # number of independent components\n",
    "TR = 0.70 # repetition time in seconds\n",
    "\n",
    "# (original) file_format:\n",
    "any_session_file_format = '_space-MNI152NLin6Asym_desc-smoothAROMAnonaggr_bold.nii.gz'\n",
    "\n",
    "# R01 to IDCH mapping:\n",
    "mapping_R01_to_IDCH = {'222': '101', '183': '102', '216': '103', '192': '104', '251': '105', '206': '106', '180': '107', '184': '108', '169': '109', '207': '110',\n",
    "                       '159': '111', '115': '112', '114': '113', '232': '114', '173': '115', '171': '117', '215': '118', '265': '119', '177': '120', '269': '121',\n",
    "                       '261': '122'}\n"
   ]
  },
  {
   "cell_type": "markdown",
   "metadata": {},
   "source": [
    "# Preperation"
   ]
  },
  {
   "cell_type": "markdown",
   "metadata": {},
   "source": [
    "## Copy data to be with IDCH sub numbers (and extract the brain)"
   ]
  },
  {
   "cell_type": "code",
   "execution_count": 2,
   "metadata": {},
   "outputs": [
    {
     "name": "stdout",
     "output_type": "stream",
     "text": [
      "> Copying sub-JODMBMFHab017301_task-rest_run-2_space-MNI152NLin6Asym_desc-smoothAROMAnonaggr_bold.nii.gz to sub-115_ses-2_rest_MNI152-smoothAROMAnonaggr_bold_brain.nii.gz\n",
      "> Copying sub-JODMBMFHab022201_task-rest_run-2_space-MNI152NLin6Asym_desc-smoothAROMAnonaggr_bold.nii.gz to sub-101_ses-2_rest_MNI152-smoothAROMAnonaggr_bold_brain.nii.gz\n",
      "> Copying sub-JODMBMFHab022201_task-rest_run-1_space-MNI152NLin6Asym_desc-smoothAROMAnonaggr_bold.nii.gz to sub-101_ses-1_rest_MNI152-smoothAROMAnonaggr_bold_brain.nii.gz\n",
      "> Copying sub-JODMBMFHab018401_task-rest_run-1_space-MNI152NLin6Asym_desc-smoothAROMAnonaggr_bold.nii.gz to sub-108_ses-1_rest_MNI152-smoothAROMAnonaggr_bold_brain.nii.gz\n",
      "> Copying sub-JODMBMFHab018401_task-rest_run-2_space-MNI152NLin6Asym_desc-smoothAROMAnonaggr_bold.nii.gz to sub-108_ses-2_rest_MNI152-smoothAROMAnonaggr_bold_brain.nii.gz\n",
      "> Copying sub-JODMBMFHab021501_task-rest_run-1_space-MNI152NLin6Asym_desc-smoothAROMAnonaggr_bold.nii.gz to sub-118_ses-1_rest_MNI152-smoothAROMAnonaggr_bold_brain.nii.gz\n",
      "> Copying sub-JODMBMFHab021501_task-rest_run-2_space-MNI152NLin6Asym_desc-smoothAROMAnonaggr_bold.nii.gz to sub-118_ses-2_rest_MNI152-smoothAROMAnonaggr_bold_brain.nii.gz\n",
      "> Copying sub-JODMBMFHab017101_task-rest_run-1_space-MNI152NLin6Asym_desc-smoothAROMAnonaggr_bold.nii.gz to sub-117_ses-1_rest_MNI152-smoothAROMAnonaggr_bold_brain.nii.gz\n",
      "> Copying sub-JODMBMFHab017101_task-rest_run-2_space-MNI152NLin6Asym_desc-smoothAROMAnonaggr_bold.nii.gz to sub-117_ses-2_rest_MNI152-smoothAROMAnonaggr_bold_brain.nii.gz\n",
      "> Copying sub-JODMBMFHab020602_task-rest_run-2_space-MNI152NLin6Asym_desc-smoothAROMAnonaggr_bold.nii.gz to sub-106_ses-2_rest_MNI152-smoothAROMAnonaggr_bold_brain.nii.gz\n",
      "> Copying sub-JODMBMFHab020602_task-rest_run-1_space-MNI152NLin6Asym_desc-smoothAROMAnonaggr_bold.nii.gz to sub-106_ses-1_rest_MNI152-smoothAROMAnonaggr_bold_brain.nii.gz\n",
      "> Copying sub-JODMBMFHab018301_task-rest_run-1_space-MNI152NLin6Asym_desc-smoothAROMAnonaggr_bold.nii.gz to sub-102_ses-1_rest_MNI152-smoothAROMAnonaggr_bold_brain.nii.gz\n",
      "> Copying sub-JODMBMFHab018301_task-rest_run-2_space-MNI152NLin6Asym_desc-smoothAROMAnonaggr_bold.nii.gz to sub-102_ses-2_rest_MNI152-smoothAROMAnonaggr_bold_brain.nii.gz\n",
      "> Copying sub-JODMBMFHab026101_task-rest_run-2_space-MNI152NLin6Asym_desc-smoothAROMAnonaggr_bold.nii.gz to sub-122_ses-2_rest_MNI152-smoothAROMAnonaggr_bold_brain.nii.gz\n",
      "> Copying sub-JODMBMFHab026101_task-rest_run-1_space-MNI152NLin6Asym_desc-smoothAROMAnonaggr_bold.nii.gz to sub-122_ses-1_rest_MNI152-smoothAROMAnonaggr_bold_brain.nii.gz\n",
      "> Copying sub-JODMBMFHab026502_task-rest_run-2_space-MNI152NLin6Asym_desc-smoothAROMAnonaggr_bold.nii.gz to sub-119_ses-2_rest_MNI152-smoothAROMAnonaggr_bold_brain.nii.gz\n",
      "> Copying sub-JODMBMFHab026502_task-rest_run-1_space-MNI152NLin6Asym_desc-smoothAROMAnonaggr_bold.nii.gz to sub-119_ses-1_rest_MNI152-smoothAROMAnonaggr_bold_brain.nii.gz\n",
      "> Copying sub-JODMBMFHab021601_task-rest_run-2_space-MNI152NLin6Asym_desc-smoothAROMAnonaggr_bold.nii.gz to sub-103_ses-2_rest_MNI152-smoothAROMAnonaggr_bold_brain.nii.gz\n",
      "> Copying sub-JODMBMFHab021601_task-rest_run-1_space-MNI152NLin6Asym_desc-smoothAROMAnonaggr_bold.nii.gz to sub-103_ses-1_rest_MNI152-smoothAROMAnonaggr_bold_brain.nii.gz\n",
      "> Copying sub-JODMBMFHab019202_task-rest_run-2_space-MNI152NLin6Asym_desc-smoothAROMAnonaggr_bold.nii.gz to sub-104_ses-2_rest_MNI152-smoothAROMAnonaggr_bold_brain.nii.gz\n",
      "> Copying sub-JODMBMFHab019202_task-rest_run-1_space-MNI152NLin6Asym_desc-smoothAROMAnonaggr_bold.nii.gz to sub-104_ses-1_rest_MNI152-smoothAROMAnonaggr_bold_brain.nii.gz\n",
      "> Copying sub-JODMBMFHab011501_task-rest_run-2_space-MNI152NLin6Asym_desc-smoothAROMAnonaggr_bold.nii.gz to sub-112_ses-2_rest_MNI152-smoothAROMAnonaggr_bold_brain.nii.gz\n",
      "> Copying sub-JODMBMFHab011501_task-rest_run-1_space-MNI152NLin6Asym_desc-smoothAROMAnonaggr_bold.nii.gz to sub-112_ses-1_rest_MNI152-smoothAROMAnonaggr_bold_brain.nii.gz\n",
      "> Copying sub-JODMBMFHab011401_task-rest_run-2_space-MNI152NLin6Asym_desc-smoothAROMAnonaggr_bold.nii.gz to sub-113_ses-2_rest_MNI152-smoothAROMAnonaggr_bold_brain.nii.gz\n",
      "> Copying sub-JODMBMFHab011401_task-rest_run-1_space-MNI152NLin6Asym_desc-smoothAROMAnonaggr_bold.nii.gz to sub-113_ses-1_rest_MNI152-smoothAROMAnonaggr_bold_brain.nii.gz\n",
      "> Copying sub-JODMBMFHab023201_task-rest_run-2_space-MNI152NLin6Asym_desc-smoothAROMAnonaggr_bold.nii.gz to sub-114_ses-2_rest_MNI152-smoothAROMAnonaggr_bold_brain.nii.gz\n",
      "> Copying sub-JODMBMFHab023201_task-rest_run-1_space-MNI152NLin6Asym_desc-smoothAROMAnonaggr_bold.nii.gz to sub-114_ses-1_rest_MNI152-smoothAROMAnonaggr_bold_brain.nii.gz\n",
      "> Copying sub-JODMBMFHab025102_task-rest_run-2_space-MNI152NLin6Asym_desc-smoothAROMAnonaggr_bold.nii.gz to sub-105_ses-2_rest_MNI152-smoothAROMAnonaggr_bold_brain.nii.gz\n",
      "> Copying sub-JODMBMFHab025102_task-rest_run-1_space-MNI152NLin6Asym_desc-smoothAROMAnonaggr_bold.nii.gz to sub-105_ses-1_rest_MNI152-smoothAROMAnonaggr_bold_brain.nii.gz\n",
      "> Copying sub-JODMBMFHab018001_task-rest_run-1_space-MNI152NLin6Asym_desc-smoothAROMAnonaggr_bold.nii.gz to sub-107_ses-1_rest_MNI152-smoothAROMAnonaggr_bold_brain.nii.gz\n",
      "> Copying sub-JODMBMFHab018001_task-rest_run-2_space-MNI152NLin6Asym_desc-smoothAROMAnonaggr_bold.nii.gz to sub-107_ses-2_rest_MNI152-smoothAROMAnonaggr_bold_brain.nii.gz\n",
      "> Copying sub-JODMBMFHab016901_ses-1_task-rest_run-1_space-MNI152NLin6Asym_desc-smoothAROMAnonaggr_bold.nii.gz to sub-109_ses-1_rest_MNI152-smoothAROMAnonaggr_bold_brain.nii.gz\n",
      "> Copying sub-JODMBMFHab016901_ses-1_task-rest_run-2_space-MNI152NLin6Asym_desc-smoothAROMAnonaggr_bold.nii.gz to sub-109_ses-2_rest_MNI152-smoothAROMAnonaggr_bold_brain.nii.gz\n",
      "> Copying sub-JODMBMFHab017701_task-rest_run-2_space-MNI152NLin6Asym_desc-smoothAROMAnonaggr_bold.nii.gz to sub-120_ses-2_rest_MNI152-smoothAROMAnonaggr_bold_brain.nii.gz\n",
      "> Copying sub-JODMBMFHab017701_task-rest_run-1_space-MNI152NLin6Asym_desc-smoothAROMAnonaggr_bold.nii.gz to sub-120_ses-1_rest_MNI152-smoothAROMAnonaggr_bold_brain.nii.gz\n",
      "> Copying sub-JODMBMFHab020702_task-rest_run-2_space-MNI152NLin6Asym_desc-smoothAROMAnonaggr_bold.nii.gz to sub-110_ses-2_rest_MNI152-smoothAROMAnonaggr_bold_brain.nii.gz\n",
      "> Copying sub-JODMBMFHab020702_task-rest_run-1_space-MNI152NLin6Asym_desc-smoothAROMAnonaggr_bold.nii.gz to sub-110_ses-1_rest_MNI152-smoothAROMAnonaggr_bold_brain.nii.gz\n",
      "> Copying sub-JODMBMFHab015901_ses-1_task-rest_run-2_space-MNI152NLin6Asym_desc-smoothAROMAnonaggr_bold.nii.gz to sub-111_ses-2_rest_MNI152-smoothAROMAnonaggr_bold_brain.nii.gz\n",
      "> Copying sub-JODMBMFHab015901_ses-1_task-rest_run-1_space-MNI152NLin6Asym_desc-smoothAROMAnonaggr_bold.nii.gz to sub-111_ses-1_rest_MNI152-smoothAROMAnonaggr_bold_brain.nii.gz\n",
      "> Copying sub-JODMBMFHab026901_task-rest_run-1_space-MNI152NLin6Asym_desc-smoothAROMAnonaggr_bold.nii.gz to sub-121_ses-1_rest_MNI152-smoothAROMAnonaggr_bold_brain.nii.gz\n",
      "> Copying sub-JODMBMFHab026901_task-rest_run-2_space-MNI152NLin6Asym_desc-smoothAROMAnonaggr_bold.nii.gz to sub-121_ses-2_rest_MNI152-smoothAROMAnonaggr_bold_brain.nii.gz\n"
     ]
    }
   ],
   "source": [
    "# get all directories in the rs_data_path:\n",
    "r01_sub_dirs = [f for f in os.listdir(rs_data_path) if os.path.isdir(os.path.join(rs_data_path, f))]\n",
    "# iterate over all subjects:\n",
    "for dir in r01_sub_dirs:\n",
    "    sub_dir = os.path.join(rs_data_path, dir, 'func') \n",
    "    sub_R01_id = dir.split('Hab0')[1][:3] # get sub R01 id\n",
    "    sub_IDCH_id = mapping_R01_to_IDCH[sub_R01_id] # get sub IDCH id\n",
    "\n",
    "    # get subject's resting state:\n",
    "    rs_files = [f for f in os.listdir(sub_dir) if any_session_file_format in f]\n",
    "    for f in rs_files:\n",
    "        # get the session number:\n",
    "        session = f.split('rest_run-')[1][0]\n",
    "        new_file_name = f'sub-{sub_IDCH_id}_ses-{session}_rest_MNI152-smoothAROMAnonaggr_bold_brain.nii.gz'\n",
    "        # copy the file if not exists:\n",
    "        if not os.path.exists(os.path.join(rs_data_path_IDCH_sub_Nums, new_file_name)):\n",
    "            print(f'> Copying {f} to {new_file_name}')\n",
    "            # os.system(f'cp {os.path.join(sub_dir, f)} {os.path.join(rs_data_path_IDCH_sub_Nums, new_file_name)}')\n",
    "            os.system(f'fslmaths {os.path.join(sub_dir, f)} -mas $FSLDIR/data/standard/MNI152_T1_2mm_brain_mask.nii.gz {os.path.join(rs_data_path_IDCH_sub_Nums, new_file_name)}')\n",
    "        # write the file name to the input_files.txt file:\n"
   ]
  },
  {
   "cell_type": "markdown",
   "metadata": {},
   "source": [
    "## Create input_files.txt file needed for the group ICA"
   ]
  },
  {
   "cell_type": "code",
   "execution_count": 3,
   "metadata": {},
   "outputs": [
    {
     "name": "stdout",
     "output_type": "stream",
     "text": [
      "Number of files: 42\n"
     ]
    },
    {
     "data": {
      "text/plain": [
       "['/export/home/ranigera/IDCH-rsfMRI/data/pre_proc_data_IDCH_subNums/sub-101_ses-1_rest_MNI152-smoothAROMAnonaggr_bold_brain.nii.gz',\n",
       " '/export/home/ranigera/IDCH-rsfMRI/data/pre_proc_data_IDCH_subNums/sub-101_ses-2_rest_MNI152-smoothAROMAnonaggr_bold_brain.nii.gz',\n",
       " '/export/home/ranigera/IDCH-rsfMRI/data/pre_proc_data_IDCH_subNums/sub-102_ses-1_rest_MNI152-smoothAROMAnonaggr_bold_brain.nii.gz',\n",
       " '/export/home/ranigera/IDCH-rsfMRI/data/pre_proc_data_IDCH_subNums/sub-102_ses-2_rest_MNI152-smoothAROMAnonaggr_bold_brain.nii.gz',\n",
       " '/export/home/ranigera/IDCH-rsfMRI/data/pre_proc_data_IDCH_subNums/sub-103_ses-1_rest_MNI152-smoothAROMAnonaggr_bold_brain.nii.gz',\n",
       " '/export/home/ranigera/IDCH-rsfMRI/data/pre_proc_data_IDCH_subNums/sub-103_ses-2_rest_MNI152-smoothAROMAnonaggr_bold_brain.nii.gz',\n",
       " '/export/home/ranigera/IDCH-rsfMRI/data/pre_proc_data_IDCH_subNums/sub-104_ses-1_rest_MNI152-smoothAROMAnonaggr_bold_brain.nii.gz',\n",
       " '/export/home/ranigera/IDCH-rsfMRI/data/pre_proc_data_IDCH_subNums/sub-104_ses-2_rest_MNI152-smoothAROMAnonaggr_bold_brain.nii.gz',\n",
       " '/export/home/ranigera/IDCH-rsfMRI/data/pre_proc_data_IDCH_subNums/sub-105_ses-1_rest_MNI152-smoothAROMAnonaggr_bold_brain.nii.gz',\n",
       " '/export/home/ranigera/IDCH-rsfMRI/data/pre_proc_data_IDCH_subNums/sub-105_ses-2_rest_MNI152-smoothAROMAnonaggr_bold_brain.nii.gz',\n",
       " '/export/home/ranigera/IDCH-rsfMRI/data/pre_proc_data_IDCH_subNums/sub-106_ses-1_rest_MNI152-smoothAROMAnonaggr_bold_brain.nii.gz',\n",
       " '/export/home/ranigera/IDCH-rsfMRI/data/pre_proc_data_IDCH_subNums/sub-106_ses-2_rest_MNI152-smoothAROMAnonaggr_bold_brain.nii.gz',\n",
       " '/export/home/ranigera/IDCH-rsfMRI/data/pre_proc_data_IDCH_subNums/sub-107_ses-1_rest_MNI152-smoothAROMAnonaggr_bold_brain.nii.gz',\n",
       " '/export/home/ranigera/IDCH-rsfMRI/data/pre_proc_data_IDCH_subNums/sub-107_ses-2_rest_MNI152-smoothAROMAnonaggr_bold_brain.nii.gz',\n",
       " '/export/home/ranigera/IDCH-rsfMRI/data/pre_proc_data_IDCH_subNums/sub-108_ses-1_rest_MNI152-smoothAROMAnonaggr_bold_brain.nii.gz',\n",
       " '/export/home/ranigera/IDCH-rsfMRI/data/pre_proc_data_IDCH_subNums/sub-108_ses-2_rest_MNI152-smoothAROMAnonaggr_bold_brain.nii.gz',\n",
       " '/export/home/ranigera/IDCH-rsfMRI/data/pre_proc_data_IDCH_subNums/sub-109_ses-1_rest_MNI152-smoothAROMAnonaggr_bold_brain.nii.gz',\n",
       " '/export/home/ranigera/IDCH-rsfMRI/data/pre_proc_data_IDCH_subNums/sub-109_ses-2_rest_MNI152-smoothAROMAnonaggr_bold_brain.nii.gz',\n",
       " '/export/home/ranigera/IDCH-rsfMRI/data/pre_proc_data_IDCH_subNums/sub-110_ses-1_rest_MNI152-smoothAROMAnonaggr_bold_brain.nii.gz',\n",
       " '/export/home/ranigera/IDCH-rsfMRI/data/pre_proc_data_IDCH_subNums/sub-110_ses-2_rest_MNI152-smoothAROMAnonaggr_bold_brain.nii.gz',\n",
       " '/export/home/ranigera/IDCH-rsfMRI/data/pre_proc_data_IDCH_subNums/sub-111_ses-1_rest_MNI152-smoothAROMAnonaggr_bold_brain.nii.gz',\n",
       " '/export/home/ranigera/IDCH-rsfMRI/data/pre_proc_data_IDCH_subNums/sub-111_ses-2_rest_MNI152-smoothAROMAnonaggr_bold_brain.nii.gz',\n",
       " '/export/home/ranigera/IDCH-rsfMRI/data/pre_proc_data_IDCH_subNums/sub-112_ses-1_rest_MNI152-smoothAROMAnonaggr_bold_brain.nii.gz',\n",
       " '/export/home/ranigera/IDCH-rsfMRI/data/pre_proc_data_IDCH_subNums/sub-112_ses-2_rest_MNI152-smoothAROMAnonaggr_bold_brain.nii.gz',\n",
       " '/export/home/ranigera/IDCH-rsfMRI/data/pre_proc_data_IDCH_subNums/sub-113_ses-1_rest_MNI152-smoothAROMAnonaggr_bold_brain.nii.gz',\n",
       " '/export/home/ranigera/IDCH-rsfMRI/data/pre_proc_data_IDCH_subNums/sub-113_ses-2_rest_MNI152-smoothAROMAnonaggr_bold_brain.nii.gz',\n",
       " '/export/home/ranigera/IDCH-rsfMRI/data/pre_proc_data_IDCH_subNums/sub-114_ses-1_rest_MNI152-smoothAROMAnonaggr_bold_brain.nii.gz',\n",
       " '/export/home/ranigera/IDCH-rsfMRI/data/pre_proc_data_IDCH_subNums/sub-114_ses-2_rest_MNI152-smoothAROMAnonaggr_bold_brain.nii.gz',\n",
       " '/export/home/ranigera/IDCH-rsfMRI/data/pre_proc_data_IDCH_subNums/sub-115_ses-1_rest_MNI152-smoothAROMAnonaggr_bold_brain.nii.gz',\n",
       " '/export/home/ranigera/IDCH-rsfMRI/data/pre_proc_data_IDCH_subNums/sub-115_ses-2_rest_MNI152-smoothAROMAnonaggr_bold_brain.nii.gz',\n",
       " '/export/home/ranigera/IDCH-rsfMRI/data/pre_proc_data_IDCH_subNums/sub-117_ses-1_rest_MNI152-smoothAROMAnonaggr_bold_brain.nii.gz',\n",
       " '/export/home/ranigera/IDCH-rsfMRI/data/pre_proc_data_IDCH_subNums/sub-117_ses-2_rest_MNI152-smoothAROMAnonaggr_bold_brain.nii.gz',\n",
       " '/export/home/ranigera/IDCH-rsfMRI/data/pre_proc_data_IDCH_subNums/sub-118_ses-1_rest_MNI152-smoothAROMAnonaggr_bold_brain.nii.gz',\n",
       " '/export/home/ranigera/IDCH-rsfMRI/data/pre_proc_data_IDCH_subNums/sub-118_ses-2_rest_MNI152-smoothAROMAnonaggr_bold_brain.nii.gz',\n",
       " '/export/home/ranigera/IDCH-rsfMRI/data/pre_proc_data_IDCH_subNums/sub-119_ses-1_rest_MNI152-smoothAROMAnonaggr_bold_brain.nii.gz',\n",
       " '/export/home/ranigera/IDCH-rsfMRI/data/pre_proc_data_IDCH_subNums/sub-119_ses-2_rest_MNI152-smoothAROMAnonaggr_bold_brain.nii.gz',\n",
       " '/export/home/ranigera/IDCH-rsfMRI/data/pre_proc_data_IDCH_subNums/sub-120_ses-1_rest_MNI152-smoothAROMAnonaggr_bold_brain.nii.gz',\n",
       " '/export/home/ranigera/IDCH-rsfMRI/data/pre_proc_data_IDCH_subNums/sub-120_ses-2_rest_MNI152-smoothAROMAnonaggr_bold_brain.nii.gz',\n",
       " '/export/home/ranigera/IDCH-rsfMRI/data/pre_proc_data_IDCH_subNums/sub-121_ses-1_rest_MNI152-smoothAROMAnonaggr_bold_brain.nii.gz',\n",
       " '/export/home/ranigera/IDCH-rsfMRI/data/pre_proc_data_IDCH_subNums/sub-121_ses-2_rest_MNI152-smoothAROMAnonaggr_bold_brain.nii.gz',\n",
       " '/export/home/ranigera/IDCH-rsfMRI/data/pre_proc_data_IDCH_subNums/sub-122_ses-1_rest_MNI152-smoothAROMAnonaggr_bold_brain.nii.gz',\n",
       " '/export/home/ranigera/IDCH-rsfMRI/data/pre_proc_data_IDCH_subNums/sub-122_ses-2_rest_MNI152-smoothAROMAnonaggr_bold_brain.nii.gz']"
      ]
     },
     "execution_count": 3,
     "metadata": {},
     "output_type": "execute_result"
    }
   ],
   "source": [
    "# list all files in all subdirectories of rs_data_path_IDCH_sub_Nums\n",
    "rs_data_files = []\n",
    "for root, dirs, files in os.walk(rs_data_path_IDCH_sub_Nums):\n",
    "    for file in files:\n",
    "        if file.endswith('.nii.gz'):\n",
    "            rs_data_files.append(os.path.join(root, file))\n",
    "print('Number of files:', len(rs_data_files))\n",
    "rs_data_files.sort()\n",
    "\n",
    "with open(input_files_txt_path, 'w') as f:\n",
    "    for file in rs_data_files:\n",
    "        f.write(file + '\\n')\n",
    "rs_data_files"
   ]
  },
  {
   "cell_type": "markdown",
   "metadata": {},
   "source": [
    "# Run group ICA (creates commad)"
   ]
  },
  {
   "cell_type": "code",
   "execution_count": 6,
   "metadata": {},
   "outputs": [
    {
     "name": "stdout",
     "output_type": "stream",
     "text": [
      "melodic -i /export/home/ranigera/IDCH-rsfMRI/data/group_ICA/input_files.txt -o /export/home/ranigera/IDCH-rsfMRI/data/group_ICA/groupICA50 --tr=0.70 --nobet -a concat --bgimage=$FSLDIR/data/standard/MNI152_T1_2mm_brain.nii.gz -m $FSLDIR/data/standard/MNI152_T1_2mm_brain_mask.nii.gz --report --Oall -d 50\n",
      "melodic -i /export/home/ranigera/IDCH-rsfMRI/data/group_ICA/input_files.txt -o /export/home/ranigera/IDCH-rsfMRI/data/group_ICA/groupICA40 --tr=0.70 --nobet -a concat --bgimage=$FSLDIR/data/standard/MNI152_T1_2mm_brain.nii.gz -m $FSLDIR/data/standard/MNI152_T1_2mm_brain_mask.nii.gz --report --Oall -d 40\n",
      "melodic -i /export/home/ranigera/IDCH-rsfMRI/data/group_ICA/input_files.txt -o /export/home/ranigera/IDCH-rsfMRI/data/group_ICA/groupICA30 --tr=0.70 --nobet -a concat --bgimage=$FSLDIR/data/standard/MNI152_T1_2mm_brain.nii.gz -m $FSLDIR/data/standard/MNI152_T1_2mm_brain_mask.nii.gz --report --Oall -d 30\n",
      "melodic -i /export/home/ranigera/IDCH-rsfMRI/data/group_ICA/input_files.txt -o /export/home/ranigera/IDCH-rsfMRI/data/group_ICA/groupICA20 --tr=0.70 --nobet -a concat --bgimage=$FSLDIR/data/standard/MNI152_T1_2mm_brain.nii.gz -m $FSLDIR/data/standard/MNI152_T1_2mm_brain_mask.nii.gz --report --Oall -d 20\n"
     ]
    }
   ],
   "source": [
    "n_ICs=50 # number of independent components\n",
    "print(f'melodic -i {input_files_txt_path} -o {group_ICA_path}/groupICA{n_ICs} --tr=0.70 --nobet -a concat --bgimage=$FSLDIR/data/standard/MNI152_T1_2mm_brain.nii.gz -m $FSLDIR/data/standard/MNI152_T1_2mm_brain_mask.nii.gz --report --Oall -d {n_ICs}')\n",
    "n_ICs=40\n",
    "print(f'melodic -i {input_files_txt_path} -o {group_ICA_path}/groupICA{n_ICs} --tr=0.70 --nobet -a concat --bgimage=$FSLDIR/data/standard/MNI152_T1_2mm_brain.nii.gz -m $FSLDIR/data/standard/MNI152_T1_2mm_brain_mask.nii.gz --report --Oall -d {n_ICs}')\n",
    "n_ICs=30\n",
    "print(f'melodic -i {input_files_txt_path} -o {group_ICA_path}/groupICA{n_ICs} --tr=0.70 --nobet -a concat --bgimage=$FSLDIR/data/standard/MNI152_T1_2mm_brain.nii.gz -m $FSLDIR/data/standard/MNI152_T1_2mm_brain_mask.nii.gz --report --Oall -d {n_ICs}')\n",
    "n_ICs=20\n",
    "print(f'melodic -i {input_files_txt_path} -o {group_ICA_path}/groupICA{n_ICs} --tr=0.70 --nobet -a concat --bgimage=$FSLDIR/data/standard/MNI152_T1_2mm_brain.nii.gz -m $FSLDIR/data/standard/MNI152_T1_2mm_brain_mask.nii.gz --report --Oall -d {n_ICs}')\n",
    "# Determine # of components automatically (tend to create a LOT of components):\n",
    "# print(f'melodic -i {input_files_txt_path} -o {group_ICA_path}/groupICA{\"auto_n_ICs\"} --tr=0.70 --nobet -a concat --bgimage=$FSLDIR/data/standard/MNI152_T1_2mm_brain.nii.gz -m $FSLDIR/data/standard/MNI152_T1_2mm_brain_mask.nii.gz --report --Oall')\n"
   ]
  },
  {
   "cell_type": "markdown",
   "metadata": {},
   "source": [
    "# Run dual regression (creates command)\n",
    "\n",
    "* This is dual regression without the 3rd step of group analysis. This is done separately later)"
   ]
  },
  {
   "cell_type": "code",
   "execution_count": 7,
   "metadata": {},
   "outputs": [
    {
     "name": "stdout",
     "output_type": "stream",
     "text": [
      "dual_regression /export/home/ranigera/IDCH-rsfMRI/data/group_ICA/groupICA20/melodic_IC 1       -1 0       /export/home/ranigera/IDCH-rsfMRI/data/group_ICA/groupICA20.dr /export/home/ranigera/IDCH-rsfMRI/data/pre_proc_data_IDCH_subNums/sub-101_ses-1_rest_MNI152-smoothAROMAnonaggr_bold_brain.nii.gz /export/home/ranigera/IDCH-rsfMRI/data/pre_proc_data_IDCH_subNums/sub-101_ses-2_rest_MNI152-smoothAROMAnonaggr_bold_brain.nii.gz /export/home/ranigera/IDCH-rsfMRI/data/pre_proc_data_IDCH_subNums/sub-102_ses-1_rest_MNI152-smoothAROMAnonaggr_bold_brain.nii.gz /export/home/ranigera/IDCH-rsfMRI/data/pre_proc_data_IDCH_subNums/sub-102_ses-2_rest_MNI152-smoothAROMAnonaggr_bold_brain.nii.gz /export/home/ranigera/IDCH-rsfMRI/data/pre_proc_data_IDCH_subNums/sub-103_ses-1_rest_MNI152-smoothAROMAnonaggr_bold_brain.nii.gz /export/home/ranigera/IDCH-rsfMRI/data/pre_proc_data_IDCH_subNums/sub-103_ses-2_rest_MNI152-smoothAROMAnonaggr_bold_brain.nii.gz /export/home/ranigera/IDCH-rsfMRI/data/pre_proc_data_IDCH_subNums/sub-104_ses-1_rest_MNI152-smoothAROMAnonaggr_bold_brain.nii.gz /export/home/ranigera/IDCH-rsfMRI/data/pre_proc_data_IDCH_subNums/sub-104_ses-2_rest_MNI152-smoothAROMAnonaggr_bold_brain.nii.gz /export/home/ranigera/IDCH-rsfMRI/data/pre_proc_data_IDCH_subNums/sub-105_ses-1_rest_MNI152-smoothAROMAnonaggr_bold_brain.nii.gz /export/home/ranigera/IDCH-rsfMRI/data/pre_proc_data_IDCH_subNums/sub-105_ses-2_rest_MNI152-smoothAROMAnonaggr_bold_brain.nii.gz /export/home/ranigera/IDCH-rsfMRI/data/pre_proc_data_IDCH_subNums/sub-106_ses-1_rest_MNI152-smoothAROMAnonaggr_bold_brain.nii.gz /export/home/ranigera/IDCH-rsfMRI/data/pre_proc_data_IDCH_subNums/sub-106_ses-2_rest_MNI152-smoothAROMAnonaggr_bold_brain.nii.gz /export/home/ranigera/IDCH-rsfMRI/data/pre_proc_data_IDCH_subNums/sub-107_ses-1_rest_MNI152-smoothAROMAnonaggr_bold_brain.nii.gz /export/home/ranigera/IDCH-rsfMRI/data/pre_proc_data_IDCH_subNums/sub-107_ses-2_rest_MNI152-smoothAROMAnonaggr_bold_brain.nii.gz /export/home/ranigera/IDCH-rsfMRI/data/pre_proc_data_IDCH_subNums/sub-108_ses-1_rest_MNI152-smoothAROMAnonaggr_bold_brain.nii.gz /export/home/ranigera/IDCH-rsfMRI/data/pre_proc_data_IDCH_subNums/sub-108_ses-2_rest_MNI152-smoothAROMAnonaggr_bold_brain.nii.gz /export/home/ranigera/IDCH-rsfMRI/data/pre_proc_data_IDCH_subNums/sub-109_ses-1_rest_MNI152-smoothAROMAnonaggr_bold_brain.nii.gz /export/home/ranigera/IDCH-rsfMRI/data/pre_proc_data_IDCH_subNums/sub-109_ses-2_rest_MNI152-smoothAROMAnonaggr_bold_brain.nii.gz /export/home/ranigera/IDCH-rsfMRI/data/pre_proc_data_IDCH_subNums/sub-110_ses-1_rest_MNI152-smoothAROMAnonaggr_bold_brain.nii.gz /export/home/ranigera/IDCH-rsfMRI/data/pre_proc_data_IDCH_subNums/sub-110_ses-2_rest_MNI152-smoothAROMAnonaggr_bold_brain.nii.gz /export/home/ranigera/IDCH-rsfMRI/data/pre_proc_data_IDCH_subNums/sub-111_ses-1_rest_MNI152-smoothAROMAnonaggr_bold_brain.nii.gz /export/home/ranigera/IDCH-rsfMRI/data/pre_proc_data_IDCH_subNums/sub-111_ses-2_rest_MNI152-smoothAROMAnonaggr_bold_brain.nii.gz /export/home/ranigera/IDCH-rsfMRI/data/pre_proc_data_IDCH_subNums/sub-112_ses-1_rest_MNI152-smoothAROMAnonaggr_bold_brain.nii.gz /export/home/ranigera/IDCH-rsfMRI/data/pre_proc_data_IDCH_subNums/sub-112_ses-2_rest_MNI152-smoothAROMAnonaggr_bold_brain.nii.gz /export/home/ranigera/IDCH-rsfMRI/data/pre_proc_data_IDCH_subNums/sub-113_ses-1_rest_MNI152-smoothAROMAnonaggr_bold_brain.nii.gz /export/home/ranigera/IDCH-rsfMRI/data/pre_proc_data_IDCH_subNums/sub-113_ses-2_rest_MNI152-smoothAROMAnonaggr_bold_brain.nii.gz /export/home/ranigera/IDCH-rsfMRI/data/pre_proc_data_IDCH_subNums/sub-114_ses-1_rest_MNI152-smoothAROMAnonaggr_bold_brain.nii.gz /export/home/ranigera/IDCH-rsfMRI/data/pre_proc_data_IDCH_subNums/sub-114_ses-2_rest_MNI152-smoothAROMAnonaggr_bold_brain.nii.gz /export/home/ranigera/IDCH-rsfMRI/data/pre_proc_data_IDCH_subNums/sub-115_ses-1_rest_MNI152-smoothAROMAnonaggr_bold_brain.nii.gz /export/home/ranigera/IDCH-rsfMRI/data/pre_proc_data_IDCH_subNums/sub-115_ses-2_rest_MNI152-smoothAROMAnonaggr_bold_brain.nii.gz /export/home/ranigera/IDCH-rsfMRI/data/pre_proc_data_IDCH_subNums/sub-117_ses-1_rest_MNI152-smoothAROMAnonaggr_bold_brain.nii.gz /export/home/ranigera/IDCH-rsfMRI/data/pre_proc_data_IDCH_subNums/sub-117_ses-2_rest_MNI152-smoothAROMAnonaggr_bold_brain.nii.gz /export/home/ranigera/IDCH-rsfMRI/data/pre_proc_data_IDCH_subNums/sub-118_ses-1_rest_MNI152-smoothAROMAnonaggr_bold_brain.nii.gz /export/home/ranigera/IDCH-rsfMRI/data/pre_proc_data_IDCH_subNums/sub-118_ses-2_rest_MNI152-smoothAROMAnonaggr_bold_brain.nii.gz /export/home/ranigera/IDCH-rsfMRI/data/pre_proc_data_IDCH_subNums/sub-119_ses-1_rest_MNI152-smoothAROMAnonaggr_bold_brain.nii.gz /export/home/ranigera/IDCH-rsfMRI/data/pre_proc_data_IDCH_subNums/sub-119_ses-2_rest_MNI152-smoothAROMAnonaggr_bold_brain.nii.gz /export/home/ranigera/IDCH-rsfMRI/data/pre_proc_data_IDCH_subNums/sub-120_ses-1_rest_MNI152-smoothAROMAnonaggr_bold_brain.nii.gz /export/home/ranigera/IDCH-rsfMRI/data/pre_proc_data_IDCH_subNums/sub-120_ses-2_rest_MNI152-smoothAROMAnonaggr_bold_brain.nii.gz /export/home/ranigera/IDCH-rsfMRI/data/pre_proc_data_IDCH_subNums/sub-121_ses-1_rest_MNI152-smoothAROMAnonaggr_bold_brain.nii.gz /export/home/ranigera/IDCH-rsfMRI/data/pre_proc_data_IDCH_subNums/sub-121_ses-2_rest_MNI152-smoothAROMAnonaggr_bold_brain.nii.gz /export/home/ranigera/IDCH-rsfMRI/data/pre_proc_data_IDCH_subNums/sub-122_ses-1_rest_MNI152-smoothAROMAnonaggr_bold_brain.nii.gz /export/home/ranigera/IDCH-rsfMRI/data/pre_proc_data_IDCH_subNums/sub-122_ses-2_rest_MNI152-smoothAROMAnonaggr_bold_brain.nii.gz\n"
     ]
    }
   ],
   "source": [
    "n_ICs=20 # number of independent components\n",
    "print(f'dual_regression {group_ICA_path}/groupICA{n_ICs}/melodic_IC 1 \\\n",
    "      -1 0 \\\n",
    "      {group_ICA_path}/groupICA{n_ICs}.dr {\" \".join(item for item in rs_data_files)}')"
   ]
  },
  {
   "cell_type": "markdown",
   "metadata": {},
   "source": [
    "## Averaging each subect's data for each IC"
   ]
  },
  {
   "cell_type": "code",
   "execution_count": 30,
   "metadata": {},
   "outputs": [
    {
     "name": "stdout",
     "output_type": "stream",
     "text": [
      "Processing IC 0\n",
      "Processing IC 1\n",
      "Processing IC 2\n",
      "Processing IC 3\n",
      "Processing IC 4\n",
      "Processing IC 5\n",
      "Processing IC 6\n",
      "Processing IC 7\n",
      "Processing IC 8\n",
      "Processing IC 9\n",
      "Processing IC 10\n",
      "Processing IC 11\n",
      "Processing IC 12\n",
      "Processing IC 13\n",
      "Processing IC 14\n",
      "Processing IC 15\n",
      "Processing IC 16\n",
      "Processing IC 17\n",
      "Processing IC 18\n",
      "Processing IC 19\n",
      "Processing IC 20\n",
      "Processing IC 21\n",
      "Processing IC 22\n",
      "Processing IC 23\n",
      "Processing IC 24\n",
      "Processing IC 25\n",
      "Processing IC 26\n",
      "Processing IC 27\n",
      "Processing IC 28\n",
      "Processing IC 29\n"
     ]
    }
   ],
   "source": [
    "n_ICs=30\n",
    "\n",
    "stage2_ic_file_prefix = 'dr_stage2_ic' # move to params\n",
    "# if not exists, create the directory:\n",
    "\n",
    "sub_avg_folder = os.path.join(group_ICA_path, f'groupICA{n_ICs}.sub_avg')\n",
    "\n",
    "if not os.path.exists(sub_avg_folder):\n",
    "    os.makedirs(sub_avg_folder)\n",
    "\n",
    "for IC in range(n_ICs):\n",
    "    print(f'Processing IC {IC}')\n",
    "    # get the IC into a string that has 4 digits:\n",
    "    IC_str = str(IC).zfill(4)\n",
    "    file_name = f'{stage2_ic_file_prefix}{IC_str}.nii.gz'\n",
    "    file_path = os.path.join(group_ICA_path, f'groupICA{n_ICs}.dr', file_name)\n",
    "    # split the IC into sub-ICs:\n",
    "    # check first if exists (anything with {sub_avg_folder}/IC{IC_str}_):\n",
    "    if not os.path.exists(f'{sub_avg_folder}/IC{IC_str}_0000.nii.gz'):\n",
    "        os.system(f'fslsplit {file_path} {sub_avg_folder}/IC{IC_str}_ -t')\n",
    "    else:\n",
    "        print(f'IC{IC_str} already split into sub-ICs')\n",
    "    # get all the files in the sub_avg_folder and iterate them in pairs:\n",
    "    sub_IC_files = [f for f in os.listdir(sub_avg_folder) if f.startswith(f'IC{IC_str}_')]\n",
    "    sub_IC_files.sort()\n",
    "    # iterate over the sub_IC_files in pairs and concatenate them:\n",
    "    for i in range(0, len(sub_IC_files), 2):\n",
    "        sub_file1 = os.path.join(sub_avg_folder, sub_IC_files[i])\n",
    "        sub_file2 = os.path.join(sub_avg_folder, sub_IC_files[i+1])\n",
    "        # check if the concatenated file exists:\n",
    "        if not os.path.exists(f'{sub_avg_folder}/IC{IC_str}_avg_{i//2}.nii.gz'):\n",
    "            os.system(f'fslmaths {sub_file1} -add {sub_file2} -div 2 {sub_avg_folder}/IC{IC_str}_avg_{i//2}.nii.gz') # this calculate the average in the right way. I TESTED IT!\n",
    "        else:\n",
    "            print(f'IC{IC_str}_avg_{i//2}.nii.gz already exists')\n",
    "\n",
    "\n",
    "        break\n",
    "    break\n",
    "\n",
    "\n",
    "\n",
    "# group_ICA_path}/groupICA{n_ICs}.dr"
   ]
  },
  {
   "cell_type": "code",
   "execution_count": null,
   "metadata": {},
   "outputs": [],
   "source": []
  },
  {
   "cell_type": "code",
   "execution_count": null,
   "metadata": {},
   "outputs": [],
   "source": []
  },
  {
   "cell_type": "code",
   "execution_count": null,
   "metadata": {},
   "outputs": [],
   "source": []
  },
  {
   "cell_type": "markdown",
   "metadata": {},
   "source": [
    "# Archive"
   ]
  },
  {
   "cell_type": "markdown",
   "metadata": {},
   "source": [
    "## Create design matrix and con file (random for now, replace with actual behavior)"
   ]
  },
  {
   "cell_type": "code",
   "execution_count": null,
   "metadata": {},
   "outputs": [
    {
     "name": "stdout",
     "output_type": "stream",
     "text": [
      "Design matrix file '/export/home/ranigera/IDCH-rsfMRI/data/group_ICA/behav_corr_design_matrix.mat' created successfully!\n"
     ]
    }
   ],
   "source": [
    "# TEMP TEMP TEMP\n",
    "num_files = len(rs_data_files)\n",
    "# Generate random numbers for the EV\n",
    "ev_data = np.random.rand(num_files)\n",
    "\n",
    "# Prepare the .mat file content\n",
    "header = f\"\"\"/NumWaves\\t1\n",
    "/NumPoints\\t{num_files}\n",
    "\n",
    "/Matrix\n",
    "\"\"\"\n",
    "\n",
    "# Format the matrix content\n",
    "matrix_content = \"\\n\".join([f\"{value}\\t\" for value in ev_data])\n",
    "\n",
    "# Combine header and matrix content\n",
    "design_matrix_content = header + matrix_content\n",
    "# Write the design matrix to a file\n",
    "output_file = \"behav_corr_design_matrix.mat\"\n",
    "output_file = os.path.join(group_ICA_path, output_file)\n",
    "with open(output_file, 'w') as file:\n",
    "    file.write(design_matrix_content)\n",
    "\n",
    "print(f\"Design matrix file '{output_file}' created successfully!\")\n"
   ]
  },
  {
   "cell_type": "code",
   "execution_count": null,
   "metadata": {},
   "outputs": [
    {
     "name": "stdout",
     "output_type": "stream",
     "text": [
      "/ContrastName1\tPos corr\n",
      "/ContrastName2\tNeg corr\n",
      "/NumWaves\t1\n",
      "/NumContrasts\t2\n",
      "\n",
      "/Matrix\n",
      "1.0\n",
      "-1.0\n",
      "Contrast matrix file '/export/home/ranigera/IDCH-rsfMRI/data/group_ICA/behav_corr_design_matrix.con' created successfully!\n"
     ]
    }
   ],
   "source": [
    "# TEMP TEMP TEMP\n",
    "# Parameters for the contrast file\n",
    "contrast_name1 = \"Pos corr\"\n",
    "contrast_name2 = \"Neg corr\"\n",
    "num_waves = 1  # As per your new design, only one EV\n",
    "num_contrasts = 2  # Two contrasts: positive and negative\n",
    "\n",
    "# Matrix for contrasts\n",
    "# Positive correlation: 1 for the EV\n",
    "# Negative correlation: -1 for the EV\n",
    "contrast_matrix = [\n",
    "    [1.0],  # Positive correlation\n",
    "    [-1.0]  # Negative correlation\n",
    "]\n",
    "\n",
    "# Create the .con file content\n",
    "header = f\"\"\"/ContrastName1\\t{contrast_name1}\n",
    "/ContrastName2\\t{contrast_name2}\n",
    "/NumWaves\\t{num_waves}\n",
    "/NumContrasts\\t{num_contrasts}\n",
    "\n",
    "/Matrix\n",
    "\"\"\"\n",
    "\n",
    "# Format the matrix content\n",
    "matrix_content = \"\\n\".join([\"\\t\".join([f\"{value}\" for value in row]) for row in contrast_matrix])\n",
    "\n",
    "# Combine header and matrix content\n",
    "contrast_matrix_content = header + matrix_content\n",
    "\n",
    "# Write the contrast matrix to a file\n",
    "output_file = \"behav_corr_design_matrix.con\"\n",
    "output_file = os.path.join(group_ICA_path, output_file)\n",
    "with open(output_file, 'w') as file:\n",
    "    file.write(contrast_matrix_content)\n",
    "print(contrast_matrix_content)\n",
    "print(f\"Contrast matrix file '{output_file}' created successfully!\")\n"
   ]
  },
  {
   "cell_type": "code",
   "execution_count": null,
   "metadata": {},
   "outputs": [],
   "source": []
  },
  {
   "cell_type": "code",
   "execution_count": null,
   "metadata": {},
   "outputs": [],
   "source": []
  },
  {
   "cell_type": "code",
   "execution_count": null,
   "metadata": {},
   "outputs": [
    {
     "name": "stdout",
     "output_type": "stream",
     "text": [
      "dual_regression /export/home/ranigera/IDCH-rsfMRI/data/group_ICA/groupICA50/melodic_IC 1       /export/home/ranigera/IDCH-rsfMRI/data/group_ICA/behav_corr_design_matrix.mat /export/home/ranigera/IDCH-rsfMRI/data/group_ICA/behav_corr_design_matrix.con 5000       /export/home/ranigera/IDCH-rsfMRI/data/group_ICA/groupICA50.dr /export/home/ranigera/IDCH-rsfMRI/data/pre_proc_data_IDCH_subNums/sub-101_ses-1_rest_MNI152-smoothAROMAnonaggr_bold.nii.gz /export/home/ranigera/IDCH-rsfMRI/data/pre_proc_data_IDCH_subNums/sub-101_ses-2_rest_MNI152-smoothAROMAnonaggr_bold.nii.gz /export/home/ranigera/IDCH-rsfMRI/data/pre_proc_data_IDCH_subNums/sub-102_ses-1_rest_MNI152-smoothAROMAnonaggr_bold.nii.gz /export/home/ranigera/IDCH-rsfMRI/data/pre_proc_data_IDCH_subNums/sub-102_ses-2_rest_MNI152-smoothAROMAnonaggr_bold.nii.gz /export/home/ranigera/IDCH-rsfMRI/data/pre_proc_data_IDCH_subNums/sub-103_ses-1_rest_MNI152-smoothAROMAnonaggr_bold.nii.gz /export/home/ranigera/IDCH-rsfMRI/data/pre_proc_data_IDCH_subNums/sub-103_ses-2_rest_MNI152-smoothAROMAnonaggr_bold.nii.gz /export/home/ranigera/IDCH-rsfMRI/data/pre_proc_data_IDCH_subNums/sub-104_ses-1_rest_MNI152-smoothAROMAnonaggr_bold.nii.gz /export/home/ranigera/IDCH-rsfMRI/data/pre_proc_data_IDCH_subNums/sub-104_ses-2_rest_MNI152-smoothAROMAnonaggr_bold.nii.gz /export/home/ranigera/IDCH-rsfMRI/data/pre_proc_data_IDCH_subNums/sub-105_ses-1_rest_MNI152-smoothAROMAnonaggr_bold.nii.gz /export/home/ranigera/IDCH-rsfMRI/data/pre_proc_data_IDCH_subNums/sub-105_ses-2_rest_MNI152-smoothAROMAnonaggr_bold.nii.gz /export/home/ranigera/IDCH-rsfMRI/data/pre_proc_data_IDCH_subNums/sub-106_ses-1_rest_MNI152-smoothAROMAnonaggr_bold.nii.gz /export/home/ranigera/IDCH-rsfMRI/data/pre_proc_data_IDCH_subNums/sub-106_ses-2_rest_MNI152-smoothAROMAnonaggr_bold.nii.gz /export/home/ranigera/IDCH-rsfMRI/data/pre_proc_data_IDCH_subNums/sub-107_ses-1_rest_MNI152-smoothAROMAnonaggr_bold.nii.gz /export/home/ranigera/IDCH-rsfMRI/data/pre_proc_data_IDCH_subNums/sub-107_ses-2_rest_MNI152-smoothAROMAnonaggr_bold.nii.gz /export/home/ranigera/IDCH-rsfMRI/data/pre_proc_data_IDCH_subNums/sub-108_ses-1_rest_MNI152-smoothAROMAnonaggr_bold.nii.gz /export/home/ranigera/IDCH-rsfMRI/data/pre_proc_data_IDCH_subNums/sub-108_ses-2_rest_MNI152-smoothAROMAnonaggr_bold.nii.gz /export/home/ranigera/IDCH-rsfMRI/data/pre_proc_data_IDCH_subNums/sub-109_ses-1_rest_MNI152-smoothAROMAnonaggr_bold.nii.gz /export/home/ranigera/IDCH-rsfMRI/data/pre_proc_data_IDCH_subNums/sub-109_ses-2_rest_MNI152-smoothAROMAnonaggr_bold.nii.gz /export/home/ranigera/IDCH-rsfMRI/data/pre_proc_data_IDCH_subNums/sub-110_ses-1_rest_MNI152-smoothAROMAnonaggr_bold.nii.gz /export/home/ranigera/IDCH-rsfMRI/data/pre_proc_data_IDCH_subNums/sub-110_ses-2_rest_MNI152-smoothAROMAnonaggr_bold.nii.gz /export/home/ranigera/IDCH-rsfMRI/data/pre_proc_data_IDCH_subNums/sub-111_ses-1_rest_MNI152-smoothAROMAnonaggr_bold.nii.gz /export/home/ranigera/IDCH-rsfMRI/data/pre_proc_data_IDCH_subNums/sub-111_ses-2_rest_MNI152-smoothAROMAnonaggr_bold.nii.gz /export/home/ranigera/IDCH-rsfMRI/data/pre_proc_data_IDCH_subNums/sub-112_ses-1_rest_MNI152-smoothAROMAnonaggr_bold.nii.gz /export/home/ranigera/IDCH-rsfMRI/data/pre_proc_data_IDCH_subNums/sub-112_ses-2_rest_MNI152-smoothAROMAnonaggr_bold.nii.gz /export/home/ranigera/IDCH-rsfMRI/data/pre_proc_data_IDCH_subNums/sub-113_ses-1_rest_MNI152-smoothAROMAnonaggr_bold.nii.gz /export/home/ranigera/IDCH-rsfMRI/data/pre_proc_data_IDCH_subNums/sub-113_ses-2_rest_MNI152-smoothAROMAnonaggr_bold.nii.gz /export/home/ranigera/IDCH-rsfMRI/data/pre_proc_data_IDCH_subNums/sub-114_ses-1_rest_MNI152-smoothAROMAnonaggr_bold.nii.gz /export/home/ranigera/IDCH-rsfMRI/data/pre_proc_data_IDCH_subNums/sub-114_ses-2_rest_MNI152-smoothAROMAnonaggr_bold.nii.gz /export/home/ranigera/IDCH-rsfMRI/data/pre_proc_data_IDCH_subNums/sub-115_ses-1_rest_MNI152-smoothAROMAnonaggr_bold.nii.gz /export/home/ranigera/IDCH-rsfMRI/data/pre_proc_data_IDCH_subNums/sub-115_ses-2_rest_MNI152-smoothAROMAnonaggr_bold.nii.gz /export/home/ranigera/IDCH-rsfMRI/data/pre_proc_data_IDCH_subNums/sub-117_ses-1_rest_MNI152-smoothAROMAnonaggr_bold.nii.gz /export/home/ranigera/IDCH-rsfMRI/data/pre_proc_data_IDCH_subNums/sub-117_ses-2_rest_MNI152-smoothAROMAnonaggr_bold.nii.gz /export/home/ranigera/IDCH-rsfMRI/data/pre_proc_data_IDCH_subNums/sub-118_ses-1_rest_MNI152-smoothAROMAnonaggr_bold.nii.gz /export/home/ranigera/IDCH-rsfMRI/data/pre_proc_data_IDCH_subNums/sub-118_ses-2_rest_MNI152-smoothAROMAnonaggr_bold.nii.gz /export/home/ranigera/IDCH-rsfMRI/data/pre_proc_data_IDCH_subNums/sub-119_ses-1_rest_MNI152-smoothAROMAnonaggr_bold.nii.gz /export/home/ranigera/IDCH-rsfMRI/data/pre_proc_data_IDCH_subNums/sub-119_ses-2_rest_MNI152-smoothAROMAnonaggr_bold.nii.gz /export/home/ranigera/IDCH-rsfMRI/data/pre_proc_data_IDCH_subNums/sub-120_ses-1_rest_MNI152-smoothAROMAnonaggr_bold.nii.gz /export/home/ranigera/IDCH-rsfMRI/data/pre_proc_data_IDCH_subNums/sub-120_ses-2_rest_MNI152-smoothAROMAnonaggr_bold.nii.gz /export/home/ranigera/IDCH-rsfMRI/data/pre_proc_data_IDCH_subNums/sub-121_ses-1_rest_MNI152-smoothAROMAnonaggr_bold.nii.gz /export/home/ranigera/IDCH-rsfMRI/data/pre_proc_data_IDCH_subNums/sub-121_ses-2_rest_MNI152-smoothAROMAnonaggr_bold.nii.gz /export/home/ranigera/IDCH-rsfMRI/data/pre_proc_data_IDCH_subNums/sub-122_ses-1_rest_MNI152-smoothAROMAnonaggr_bold.nii.gz /export/home/ranigera/IDCH-rsfMRI/data/pre_proc_data_IDCH_subNums/sub-122_ses-2_rest_MNI152-smoothAROMAnonaggr_bold.nii.gz\n"
     ]
    }
   ],
   "source": [
    "n_ICs=50 # number of independent components\n",
    "print(f'dual_regression {group_ICA_path}/groupICA{n_ICs}/melodic_IC 1 \\\n",
    "      {group_ICA_path}/behav_corr_design_matrix.mat {group_ICA_path}/behav_corr_design_matrix.con 5000 \\\n",
    "      {group_ICA_path}/groupICA{n_ICs}.dr {\" \".join(item for item in rs_data_files)}')\n"
   ]
  },
  {
   "cell_type": "code",
   "execution_count": null,
   "metadata": {},
   "outputs": [
    {
     "name": "stdout",
     "output_type": "stream",
     "text": [
      "dual_regression /export/home/ranigera/IDCH-rsfMRI/data/group_ICA/groupICA30/melodic_IC 1       -1 0       /export/home/ranigera/IDCH-rsfMRI/data/group_ICA/groupICA30.dr /export/home/ranigera/IDCH-rsfMRI/data/pre_proc_data_IDCH_subNums/sub-101_ses-1_rest_MNI152-smoothAROMAnonaggr_bold.nii.gz /export/home/ranigera/IDCH-rsfMRI/data/pre_proc_data_IDCH_subNums/sub-101_ses-2_rest_MNI152-smoothAROMAnonaggr_bold.nii.gz /export/home/ranigera/IDCH-rsfMRI/data/pre_proc_data_IDCH_subNums/sub-102_ses-1_rest_MNI152-smoothAROMAnonaggr_bold.nii.gz /export/home/ranigera/IDCH-rsfMRI/data/pre_proc_data_IDCH_subNums/sub-102_ses-2_rest_MNI152-smoothAROMAnonaggr_bold.nii.gz /export/home/ranigera/IDCH-rsfMRI/data/pre_proc_data_IDCH_subNums/sub-103_ses-1_rest_MNI152-smoothAROMAnonaggr_bold.nii.gz /export/home/ranigera/IDCH-rsfMRI/data/pre_proc_data_IDCH_subNums/sub-103_ses-2_rest_MNI152-smoothAROMAnonaggr_bold.nii.gz /export/home/ranigera/IDCH-rsfMRI/data/pre_proc_data_IDCH_subNums/sub-104_ses-1_rest_MNI152-smoothAROMAnonaggr_bold.nii.gz /export/home/ranigera/IDCH-rsfMRI/data/pre_proc_data_IDCH_subNums/sub-104_ses-2_rest_MNI152-smoothAROMAnonaggr_bold.nii.gz /export/home/ranigera/IDCH-rsfMRI/data/pre_proc_data_IDCH_subNums/sub-105_ses-1_rest_MNI152-smoothAROMAnonaggr_bold.nii.gz /export/home/ranigera/IDCH-rsfMRI/data/pre_proc_data_IDCH_subNums/sub-105_ses-2_rest_MNI152-smoothAROMAnonaggr_bold.nii.gz /export/home/ranigera/IDCH-rsfMRI/data/pre_proc_data_IDCH_subNums/sub-106_ses-1_rest_MNI152-smoothAROMAnonaggr_bold.nii.gz /export/home/ranigera/IDCH-rsfMRI/data/pre_proc_data_IDCH_subNums/sub-106_ses-2_rest_MNI152-smoothAROMAnonaggr_bold.nii.gz /export/home/ranigera/IDCH-rsfMRI/data/pre_proc_data_IDCH_subNums/sub-107_ses-1_rest_MNI152-smoothAROMAnonaggr_bold.nii.gz /export/home/ranigera/IDCH-rsfMRI/data/pre_proc_data_IDCH_subNums/sub-107_ses-2_rest_MNI152-smoothAROMAnonaggr_bold.nii.gz /export/home/ranigera/IDCH-rsfMRI/data/pre_proc_data_IDCH_subNums/sub-108_ses-1_rest_MNI152-smoothAROMAnonaggr_bold.nii.gz /export/home/ranigera/IDCH-rsfMRI/data/pre_proc_data_IDCH_subNums/sub-108_ses-2_rest_MNI152-smoothAROMAnonaggr_bold.nii.gz /export/home/ranigera/IDCH-rsfMRI/data/pre_proc_data_IDCH_subNums/sub-109_ses-1_rest_MNI152-smoothAROMAnonaggr_bold.nii.gz /export/home/ranigera/IDCH-rsfMRI/data/pre_proc_data_IDCH_subNums/sub-109_ses-2_rest_MNI152-smoothAROMAnonaggr_bold.nii.gz /export/home/ranigera/IDCH-rsfMRI/data/pre_proc_data_IDCH_subNums/sub-110_ses-1_rest_MNI152-smoothAROMAnonaggr_bold.nii.gz /export/home/ranigera/IDCH-rsfMRI/data/pre_proc_data_IDCH_subNums/sub-110_ses-2_rest_MNI152-smoothAROMAnonaggr_bold.nii.gz /export/home/ranigera/IDCH-rsfMRI/data/pre_proc_data_IDCH_subNums/sub-111_ses-1_rest_MNI152-smoothAROMAnonaggr_bold.nii.gz /export/home/ranigera/IDCH-rsfMRI/data/pre_proc_data_IDCH_subNums/sub-111_ses-2_rest_MNI152-smoothAROMAnonaggr_bold.nii.gz /export/home/ranigera/IDCH-rsfMRI/data/pre_proc_data_IDCH_subNums/sub-112_ses-1_rest_MNI152-smoothAROMAnonaggr_bold.nii.gz /export/home/ranigera/IDCH-rsfMRI/data/pre_proc_data_IDCH_subNums/sub-112_ses-2_rest_MNI152-smoothAROMAnonaggr_bold.nii.gz /export/home/ranigera/IDCH-rsfMRI/data/pre_proc_data_IDCH_subNums/sub-113_ses-1_rest_MNI152-smoothAROMAnonaggr_bold.nii.gz /export/home/ranigera/IDCH-rsfMRI/data/pre_proc_data_IDCH_subNums/sub-113_ses-2_rest_MNI152-smoothAROMAnonaggr_bold.nii.gz /export/home/ranigera/IDCH-rsfMRI/data/pre_proc_data_IDCH_subNums/sub-114_ses-1_rest_MNI152-smoothAROMAnonaggr_bold.nii.gz /export/home/ranigera/IDCH-rsfMRI/data/pre_proc_data_IDCH_subNums/sub-114_ses-2_rest_MNI152-smoothAROMAnonaggr_bold.nii.gz /export/home/ranigera/IDCH-rsfMRI/data/pre_proc_data_IDCH_subNums/sub-115_ses-1_rest_MNI152-smoothAROMAnonaggr_bold.nii.gz /export/home/ranigera/IDCH-rsfMRI/data/pre_proc_data_IDCH_subNums/sub-115_ses-2_rest_MNI152-smoothAROMAnonaggr_bold.nii.gz /export/home/ranigera/IDCH-rsfMRI/data/pre_proc_data_IDCH_subNums/sub-117_ses-1_rest_MNI152-smoothAROMAnonaggr_bold.nii.gz /export/home/ranigera/IDCH-rsfMRI/data/pre_proc_data_IDCH_subNums/sub-117_ses-2_rest_MNI152-smoothAROMAnonaggr_bold.nii.gz /export/home/ranigera/IDCH-rsfMRI/data/pre_proc_data_IDCH_subNums/sub-118_ses-1_rest_MNI152-smoothAROMAnonaggr_bold.nii.gz /export/home/ranigera/IDCH-rsfMRI/data/pre_proc_data_IDCH_subNums/sub-118_ses-2_rest_MNI152-smoothAROMAnonaggr_bold.nii.gz /export/home/ranigera/IDCH-rsfMRI/data/pre_proc_data_IDCH_subNums/sub-119_ses-1_rest_MNI152-smoothAROMAnonaggr_bold.nii.gz /export/home/ranigera/IDCH-rsfMRI/data/pre_proc_data_IDCH_subNums/sub-119_ses-2_rest_MNI152-smoothAROMAnonaggr_bold.nii.gz /export/home/ranigera/IDCH-rsfMRI/data/pre_proc_data_IDCH_subNums/sub-120_ses-1_rest_MNI152-smoothAROMAnonaggr_bold.nii.gz /export/home/ranigera/IDCH-rsfMRI/data/pre_proc_data_IDCH_subNums/sub-120_ses-2_rest_MNI152-smoothAROMAnonaggr_bold.nii.gz /export/home/ranigera/IDCH-rsfMRI/data/pre_proc_data_IDCH_subNums/sub-121_ses-1_rest_MNI152-smoothAROMAnonaggr_bold.nii.gz /export/home/ranigera/IDCH-rsfMRI/data/pre_proc_data_IDCH_subNums/sub-121_ses-2_rest_MNI152-smoothAROMAnonaggr_bold.nii.gz /export/home/ranigera/IDCH-rsfMRI/data/pre_proc_data_IDCH_subNums/sub-122_ses-1_rest_MNI152-smoothAROMAnonaggr_bold.nii.gz /export/home/ranigera/IDCH-rsfMRI/data/pre_proc_data_IDCH_subNums/sub-122_ses-2_rest_MNI152-smoothAROMAnonaggr_bold.nii.gz\n"
     ]
    }
   ],
   "source": [
    "n_ICs=30 # number of independent components\n",
    "print(f'dual_regression {group_ICA_path}/groupICA{n_ICs}/melodic_IC 1 \\\n",
    "      -1 0 \\\n",
    "      {group_ICA_path}/groupICA{n_ICs}.dr {\" \".join(item for item in rs_data_files)}')\n"
   ]
  },
  {
   "cell_type": "code",
   "execution_count": null,
   "metadata": {},
   "outputs": [
    {
     "name": "stdout",
     "output_type": "stream",
     "text": [
      "dual_regression /export/home/ranigera/IDCH-rsfMRI/data/group_ICA/groupICA40/melodic_IC 1       /export/home/ranigera/IDCH-rsfMRI/data/group_ICA/behav_corr_design_matrix.mat /export/home/ranigera/IDCH-rsfMRI/data/group_ICA/behav_corr_design_matrix.con 1       /export/home/ranigera/IDCH-rsfMRI/data/group_ICA/groupICA40.dr /export/home/ranigera/IDCH-rsfMRI/data/pre_proc_data_IDCH_subNums/sub-101_ses-1_rest_MNI152-smoothAROMAnonaggr_bold.nii.gz /export/home/ranigera/IDCH-rsfMRI/data/pre_proc_data_IDCH_subNums/sub-101_ses-2_rest_MNI152-smoothAROMAnonaggr_bold.nii.gz /export/home/ranigera/IDCH-rsfMRI/data/pre_proc_data_IDCH_subNums/sub-102_ses-1_rest_MNI152-smoothAROMAnonaggr_bold.nii.gz /export/home/ranigera/IDCH-rsfMRI/data/pre_proc_data_IDCH_subNums/sub-102_ses-2_rest_MNI152-smoothAROMAnonaggr_bold.nii.gz /export/home/ranigera/IDCH-rsfMRI/data/pre_proc_data_IDCH_subNums/sub-103_ses-1_rest_MNI152-smoothAROMAnonaggr_bold.nii.gz /export/home/ranigera/IDCH-rsfMRI/data/pre_proc_data_IDCH_subNums/sub-103_ses-2_rest_MNI152-smoothAROMAnonaggr_bold.nii.gz /export/home/ranigera/IDCH-rsfMRI/data/pre_proc_data_IDCH_subNums/sub-104_ses-1_rest_MNI152-smoothAROMAnonaggr_bold.nii.gz /export/home/ranigera/IDCH-rsfMRI/data/pre_proc_data_IDCH_subNums/sub-104_ses-2_rest_MNI152-smoothAROMAnonaggr_bold.nii.gz /export/home/ranigera/IDCH-rsfMRI/data/pre_proc_data_IDCH_subNums/sub-105_ses-1_rest_MNI152-smoothAROMAnonaggr_bold.nii.gz /export/home/ranigera/IDCH-rsfMRI/data/pre_proc_data_IDCH_subNums/sub-105_ses-2_rest_MNI152-smoothAROMAnonaggr_bold.nii.gz /export/home/ranigera/IDCH-rsfMRI/data/pre_proc_data_IDCH_subNums/sub-106_ses-1_rest_MNI152-smoothAROMAnonaggr_bold.nii.gz /export/home/ranigera/IDCH-rsfMRI/data/pre_proc_data_IDCH_subNums/sub-106_ses-2_rest_MNI152-smoothAROMAnonaggr_bold.nii.gz /export/home/ranigera/IDCH-rsfMRI/data/pre_proc_data_IDCH_subNums/sub-107_ses-1_rest_MNI152-smoothAROMAnonaggr_bold.nii.gz /export/home/ranigera/IDCH-rsfMRI/data/pre_proc_data_IDCH_subNums/sub-107_ses-2_rest_MNI152-smoothAROMAnonaggr_bold.nii.gz /export/home/ranigera/IDCH-rsfMRI/data/pre_proc_data_IDCH_subNums/sub-108_ses-1_rest_MNI152-smoothAROMAnonaggr_bold.nii.gz /export/home/ranigera/IDCH-rsfMRI/data/pre_proc_data_IDCH_subNums/sub-108_ses-2_rest_MNI152-smoothAROMAnonaggr_bold.nii.gz /export/home/ranigera/IDCH-rsfMRI/data/pre_proc_data_IDCH_subNums/sub-109_ses-1_rest_MNI152-smoothAROMAnonaggr_bold.nii.gz /export/home/ranigera/IDCH-rsfMRI/data/pre_proc_data_IDCH_subNums/sub-109_ses-2_rest_MNI152-smoothAROMAnonaggr_bold.nii.gz /export/home/ranigera/IDCH-rsfMRI/data/pre_proc_data_IDCH_subNums/sub-110_ses-1_rest_MNI152-smoothAROMAnonaggr_bold.nii.gz /export/home/ranigera/IDCH-rsfMRI/data/pre_proc_data_IDCH_subNums/sub-110_ses-2_rest_MNI152-smoothAROMAnonaggr_bold.nii.gz /export/home/ranigera/IDCH-rsfMRI/data/pre_proc_data_IDCH_subNums/sub-111_ses-1_rest_MNI152-smoothAROMAnonaggr_bold.nii.gz /export/home/ranigera/IDCH-rsfMRI/data/pre_proc_data_IDCH_subNums/sub-111_ses-2_rest_MNI152-smoothAROMAnonaggr_bold.nii.gz /export/home/ranigera/IDCH-rsfMRI/data/pre_proc_data_IDCH_subNums/sub-112_ses-1_rest_MNI152-smoothAROMAnonaggr_bold.nii.gz /export/home/ranigera/IDCH-rsfMRI/data/pre_proc_data_IDCH_subNums/sub-112_ses-2_rest_MNI152-smoothAROMAnonaggr_bold.nii.gz /export/home/ranigera/IDCH-rsfMRI/data/pre_proc_data_IDCH_subNums/sub-113_ses-1_rest_MNI152-smoothAROMAnonaggr_bold.nii.gz /export/home/ranigera/IDCH-rsfMRI/data/pre_proc_data_IDCH_subNums/sub-113_ses-2_rest_MNI152-smoothAROMAnonaggr_bold.nii.gz /export/home/ranigera/IDCH-rsfMRI/data/pre_proc_data_IDCH_subNums/sub-114_ses-1_rest_MNI152-smoothAROMAnonaggr_bold.nii.gz /export/home/ranigera/IDCH-rsfMRI/data/pre_proc_data_IDCH_subNums/sub-114_ses-2_rest_MNI152-smoothAROMAnonaggr_bold.nii.gz /export/home/ranigera/IDCH-rsfMRI/data/pre_proc_data_IDCH_subNums/sub-115_ses-1_rest_MNI152-smoothAROMAnonaggr_bold.nii.gz /export/home/ranigera/IDCH-rsfMRI/data/pre_proc_data_IDCH_subNums/sub-115_ses-2_rest_MNI152-smoothAROMAnonaggr_bold.nii.gz /export/home/ranigera/IDCH-rsfMRI/data/pre_proc_data_IDCH_subNums/sub-117_ses-1_rest_MNI152-smoothAROMAnonaggr_bold.nii.gz /export/home/ranigera/IDCH-rsfMRI/data/pre_proc_data_IDCH_subNums/sub-117_ses-2_rest_MNI152-smoothAROMAnonaggr_bold.nii.gz /export/home/ranigera/IDCH-rsfMRI/data/pre_proc_data_IDCH_subNums/sub-118_ses-1_rest_MNI152-smoothAROMAnonaggr_bold.nii.gz /export/home/ranigera/IDCH-rsfMRI/data/pre_proc_data_IDCH_subNums/sub-118_ses-2_rest_MNI152-smoothAROMAnonaggr_bold.nii.gz /export/home/ranigera/IDCH-rsfMRI/data/pre_proc_data_IDCH_subNums/sub-119_ses-1_rest_MNI152-smoothAROMAnonaggr_bold.nii.gz /export/home/ranigera/IDCH-rsfMRI/data/pre_proc_data_IDCH_subNums/sub-119_ses-2_rest_MNI152-smoothAROMAnonaggr_bold.nii.gz /export/home/ranigera/IDCH-rsfMRI/data/pre_proc_data_IDCH_subNums/sub-120_ses-1_rest_MNI152-smoothAROMAnonaggr_bold.nii.gz /export/home/ranigera/IDCH-rsfMRI/data/pre_proc_data_IDCH_subNums/sub-120_ses-2_rest_MNI152-smoothAROMAnonaggr_bold.nii.gz /export/home/ranigera/IDCH-rsfMRI/data/pre_proc_data_IDCH_subNums/sub-121_ses-1_rest_MNI152-smoothAROMAnonaggr_bold.nii.gz /export/home/ranigera/IDCH-rsfMRI/data/pre_proc_data_IDCH_subNums/sub-121_ses-2_rest_MNI152-smoothAROMAnonaggr_bold.nii.gz /export/home/ranigera/IDCH-rsfMRI/data/pre_proc_data_IDCH_subNums/sub-122_ses-1_rest_MNI152-smoothAROMAnonaggr_bold.nii.gz /export/home/ranigera/IDCH-rsfMRI/data/pre_proc_data_IDCH_subNums/sub-122_ses-2_rest_MNI152-smoothAROMAnonaggr_bold.nii.gz\n"
     ]
    }
   ],
   "source": [
    "n_ICs=40 # number of independent components\n",
    "print(f'dual_regression {group_ICA_path}/groupICA{n_ICs}/melodic_IC 1 \\\n",
    "      {group_ICA_path}/behav_corr_design_matrix.mat {group_ICA_path}/behav_corr_design_matrix.con 1 \\\n",
    "      {group_ICA_path}/groupICA{n_ICs}.dr {\" \".join(item for item in rs_data_files)}')\n"
   ]
  },
  {
   "cell_type": "code",
   "execution_count": null,
   "metadata": {},
   "outputs": [
    {
     "name": "stdout",
     "output_type": "stream",
     "text": [
      "dual_regression /export/home/ranigera/IDCH-rsfMRI/data/group_ICA/groupICA40/melodic_IC 1       /export/home/ranigera/IDCH-rsfMRI/data/group_ICA/behav_corr_design_matrix.mat /export/home/ranigera/IDCH-rsfMRI/data/group_ICA/behav_corr_design_matrix.con 0       /export/home/ranigera/IDCH-rsfMRI/data/group_ICA/groupICA40.dr /export/home/ranigera/IDCH-rsfMRI/data/pre_proc_data_IDCH_subNums/sub-101_ses-1_rest_MNI152-smoothAROMAnonaggr_bold.nii.gz /export/home/ranigera/IDCH-rsfMRI/data/pre_proc_data_IDCH_subNums/sub-101_ses-2_rest_MNI152-smoothAROMAnonaggr_bold.nii.gz /export/home/ranigera/IDCH-rsfMRI/data/pre_proc_data_IDCH_subNums/sub-102_ses-1_rest_MNI152-smoothAROMAnonaggr_bold.nii.gz /export/home/ranigera/IDCH-rsfMRI/data/pre_proc_data_IDCH_subNums/sub-102_ses-2_rest_MNI152-smoothAROMAnonaggr_bold.nii.gz /export/home/ranigera/IDCH-rsfMRI/data/pre_proc_data_IDCH_subNums/sub-103_ses-1_rest_MNI152-smoothAROMAnonaggr_bold.nii.gz /export/home/ranigera/IDCH-rsfMRI/data/pre_proc_data_IDCH_subNums/sub-103_ses-2_rest_MNI152-smoothAROMAnonaggr_bold.nii.gz /export/home/ranigera/IDCH-rsfMRI/data/pre_proc_data_IDCH_subNums/sub-104_ses-1_rest_MNI152-smoothAROMAnonaggr_bold.nii.gz /export/home/ranigera/IDCH-rsfMRI/data/pre_proc_data_IDCH_subNums/sub-104_ses-2_rest_MNI152-smoothAROMAnonaggr_bold.nii.gz /export/home/ranigera/IDCH-rsfMRI/data/pre_proc_data_IDCH_subNums/sub-105_ses-1_rest_MNI152-smoothAROMAnonaggr_bold.nii.gz /export/home/ranigera/IDCH-rsfMRI/data/pre_proc_data_IDCH_subNums/sub-105_ses-2_rest_MNI152-smoothAROMAnonaggr_bold.nii.gz /export/home/ranigera/IDCH-rsfMRI/data/pre_proc_data_IDCH_subNums/sub-106_ses-1_rest_MNI152-smoothAROMAnonaggr_bold.nii.gz /export/home/ranigera/IDCH-rsfMRI/data/pre_proc_data_IDCH_subNums/sub-106_ses-2_rest_MNI152-smoothAROMAnonaggr_bold.nii.gz /export/home/ranigera/IDCH-rsfMRI/data/pre_proc_data_IDCH_subNums/sub-107_ses-1_rest_MNI152-smoothAROMAnonaggr_bold.nii.gz /export/home/ranigera/IDCH-rsfMRI/data/pre_proc_data_IDCH_subNums/sub-107_ses-2_rest_MNI152-smoothAROMAnonaggr_bold.nii.gz /export/home/ranigera/IDCH-rsfMRI/data/pre_proc_data_IDCH_subNums/sub-108_ses-1_rest_MNI152-smoothAROMAnonaggr_bold.nii.gz /export/home/ranigera/IDCH-rsfMRI/data/pre_proc_data_IDCH_subNums/sub-108_ses-2_rest_MNI152-smoothAROMAnonaggr_bold.nii.gz /export/home/ranigera/IDCH-rsfMRI/data/pre_proc_data_IDCH_subNums/sub-109_ses-1_rest_MNI152-smoothAROMAnonaggr_bold.nii.gz /export/home/ranigera/IDCH-rsfMRI/data/pre_proc_data_IDCH_subNums/sub-109_ses-2_rest_MNI152-smoothAROMAnonaggr_bold.nii.gz /export/home/ranigera/IDCH-rsfMRI/data/pre_proc_data_IDCH_subNums/sub-110_ses-1_rest_MNI152-smoothAROMAnonaggr_bold.nii.gz /export/home/ranigera/IDCH-rsfMRI/data/pre_proc_data_IDCH_subNums/sub-110_ses-2_rest_MNI152-smoothAROMAnonaggr_bold.nii.gz /export/home/ranigera/IDCH-rsfMRI/data/pre_proc_data_IDCH_subNums/sub-111_ses-1_rest_MNI152-smoothAROMAnonaggr_bold.nii.gz /export/home/ranigera/IDCH-rsfMRI/data/pre_proc_data_IDCH_subNums/sub-111_ses-2_rest_MNI152-smoothAROMAnonaggr_bold.nii.gz /export/home/ranigera/IDCH-rsfMRI/data/pre_proc_data_IDCH_subNums/sub-112_ses-1_rest_MNI152-smoothAROMAnonaggr_bold.nii.gz /export/home/ranigera/IDCH-rsfMRI/data/pre_proc_data_IDCH_subNums/sub-112_ses-2_rest_MNI152-smoothAROMAnonaggr_bold.nii.gz /export/home/ranigera/IDCH-rsfMRI/data/pre_proc_data_IDCH_subNums/sub-113_ses-1_rest_MNI152-smoothAROMAnonaggr_bold.nii.gz /export/home/ranigera/IDCH-rsfMRI/data/pre_proc_data_IDCH_subNums/sub-113_ses-2_rest_MNI152-smoothAROMAnonaggr_bold.nii.gz /export/home/ranigera/IDCH-rsfMRI/data/pre_proc_data_IDCH_subNums/sub-114_ses-1_rest_MNI152-smoothAROMAnonaggr_bold.nii.gz /export/home/ranigera/IDCH-rsfMRI/data/pre_proc_data_IDCH_subNums/sub-114_ses-2_rest_MNI152-smoothAROMAnonaggr_bold.nii.gz /export/home/ranigera/IDCH-rsfMRI/data/pre_proc_data_IDCH_subNums/sub-115_ses-1_rest_MNI152-smoothAROMAnonaggr_bold.nii.gz /export/home/ranigera/IDCH-rsfMRI/data/pre_proc_data_IDCH_subNums/sub-115_ses-2_rest_MNI152-smoothAROMAnonaggr_bold.nii.gz /export/home/ranigera/IDCH-rsfMRI/data/pre_proc_data_IDCH_subNums/sub-117_ses-1_rest_MNI152-smoothAROMAnonaggr_bold.nii.gz /export/home/ranigera/IDCH-rsfMRI/data/pre_proc_data_IDCH_subNums/sub-117_ses-2_rest_MNI152-smoothAROMAnonaggr_bold.nii.gz /export/home/ranigera/IDCH-rsfMRI/data/pre_proc_data_IDCH_subNums/sub-118_ses-1_rest_MNI152-smoothAROMAnonaggr_bold.nii.gz /export/home/ranigera/IDCH-rsfMRI/data/pre_proc_data_IDCH_subNums/sub-118_ses-2_rest_MNI152-smoothAROMAnonaggr_bold.nii.gz /export/home/ranigera/IDCH-rsfMRI/data/pre_proc_data_IDCH_subNums/sub-119_ses-1_rest_MNI152-smoothAROMAnonaggr_bold.nii.gz /export/home/ranigera/IDCH-rsfMRI/data/pre_proc_data_IDCH_subNums/sub-119_ses-2_rest_MNI152-smoothAROMAnonaggr_bold.nii.gz /export/home/ranigera/IDCH-rsfMRI/data/pre_proc_data_IDCH_subNums/sub-120_ses-1_rest_MNI152-smoothAROMAnonaggr_bold.nii.gz /export/home/ranigera/IDCH-rsfMRI/data/pre_proc_data_IDCH_subNums/sub-120_ses-2_rest_MNI152-smoothAROMAnonaggr_bold.nii.gz /export/home/ranigera/IDCH-rsfMRI/data/pre_proc_data_IDCH_subNums/sub-121_ses-1_rest_MNI152-smoothAROMAnonaggr_bold.nii.gz /export/home/ranigera/IDCH-rsfMRI/data/pre_proc_data_IDCH_subNums/sub-121_ses-2_rest_MNI152-smoothAROMAnonaggr_bold.nii.gz /export/home/ranigera/IDCH-rsfMRI/data/pre_proc_data_IDCH_subNums/sub-122_ses-1_rest_MNI152-smoothAROMAnonaggr_bold.nii.gz /export/home/ranigera/IDCH-rsfMRI/data/pre_proc_data_IDCH_subNums/sub-122_ses-2_rest_MNI152-smoothAROMAnonaggr_bold.nii.gz\n"
     ]
    }
   ],
   "source": [
    "n_ICs=40 # number of independent components\n",
    "print(f'dual_regression {group_ICA_path}/groupICA{n_ICs}/melodic_IC 1 \\\n",
    "      {group_ICA_path}/behav_corr_design_matrix.mat {group_ICA_path}/behav_corr_design_matrix.con 0 \\\n",
    "      {group_ICA_path}/groupICA{n_ICs}.dr {\" \".join(item for item in rs_data_files)}')\n"
   ]
  }
 ],
 "metadata": {
  "kernelspec": {
   "display_name": "Python 3",
   "language": "python",
   "name": "python3"
  },
  "language_info": {
   "codemirror_mode": {
    "name": "ipython",
    "version": 3
   },
   "file_extension": ".py",
   "mimetype": "text/x-python",
   "name": "python",
   "nbconvert_exporter": "python",
   "pygments_lexer": "ipython3",
   "version": "3.12.4"
  }
 },
 "nbformat": 4,
 "nbformat_minor": 2
}
